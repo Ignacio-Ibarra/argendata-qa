{
 "cells": [
  {
   "cell_type": "code",
   "execution_count": 1,
   "metadata": {},
   "outputs": [
    {
     "ename": "ModuleNotFoundError",
     "evalue": "No module named 'pandas'",
     "output_type": "error",
     "traceback": [
      "\u001b[0;31m---------------------------------------------------------------------------\u001b[0m",
      "\u001b[0;31mModuleNotFoundError\u001b[0m                       Traceback (most recent call last)",
      "Cell \u001b[0;32mIn[1], line 1\u001b[0m\n\u001b[0;32m----> 1\u001b[0m \u001b[38;5;28;01mimport\u001b[39;00m \u001b[38;5;21;01mjson\u001b[39;00m\u001b[38;5;241m,\u001b[39m \u001b[38;5;21;01mpandas\u001b[39;00m \u001b[38;5;28;01mas\u001b[39;00m \u001b[38;5;21;01mpd\u001b[39;00m\n\u001b[1;32m      3\u001b[0m subtopico \u001b[38;5;241m=\u001b[39m \u001b[38;5;124m'\u001b[39m\u001b[38;5;124mPRECIO\u001b[39m\u001b[38;5;124m'\u001b[39m\n\u001b[1;32m      4\u001b[0m entrega \u001b[38;5;241m=\u001b[39m \u001b[38;5;241m1\u001b[39m\n",
      "\u001b[0;31mModuleNotFoundError\u001b[0m: No module named 'pandas'"
     ]
    }
   ],
   "source": [
    "import json, pandas as pd\n",
    "\n",
    "subtopico = 'PRECIO'\n",
    "entrega = 1\n",
    "folder = f\"../output/{subtopico}{entrega}\"\n",
    "\n",
    "plantilla = pd.read_excel(f'{folder}/ArgenData-{subtopico}.xlsx', header=6)\n",
    "\n",
    "with open('./mappings.json', 'r') as fp:\n",
    "    mappings = json.load(fp)\n",
    "    \n",
    "def getitem(item): # str -> Subscriptable -> Any\n",
    "    return lambda object: object[item]\n",
    "\n",
    "def spread(ys): # iterable -> Generator[str, None]\n",
    "    yield from [''] if not ys else map(getitem('public'), ys)\n",
    "\n",
    "output = [y for x in plantilla['dataset_archivo'] for y in spread(mappings.get(x))]\n",
    "\n",
    "print('\\n'.join(output))"
   ]
  }
 ],
 "metadata": {
  "kernelspec": {
   "display_name": "Python 3",
   "language": "python",
   "name": "python3"
  },
  "language_info": {
   "codemirror_mode": {
    "name": "ipython",
    "version": 3
   },
   "file_extension": ".py",
   "mimetype": "text/x-python",
   "name": "python",
   "nbconvert_exporter": "python",
   "pygments_lexer": "ipython3",
   "version": "3.10.12"
  }
 },
 "nbformat": 4,
 "nbformat_minor": 2
}
