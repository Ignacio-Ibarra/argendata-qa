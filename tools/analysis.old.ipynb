{
 "cells": [
  {
   "cell_type": "code",
   "execution_count": null,
   "metadata": {},
   "outputs": [],
   "source": [
    "from functools import partial, reduce\n",
    "from os import rename, makedirs\n",
    "import os\n",
    "import urllib.request\n",
    "import pandas as pd\n",
    "import os.path\n",
    "import shutil\n",
    "import json\n",
    "import csv\n",
    "import re\n",
    "import datetime\n",
    "from typing import Literal"
   ]
  },
  {
   "cell_type": "code",
   "execution_count": null,
   "metadata": {},
   "outputs": [],
   "source": [
    "# carpeta = f\"../output/AGROPE1/definitivos\"\n",
    "\n",
    "# csv_files = [x for x in os.listdir(carpeta) if \".csv\" in x]\n",
    "\n",
    "# for f in csv_files: \n",
    "#     new = f\"{carpeta}/{f.replace('_old','')}\"\n",
    "#     old = f\"{carpeta}/{f}\"\n",
    "#     os.rename(old, new)\n"
   ]
  },
  {
   "cell_type": "code",
   "execution_count": null,
   "metadata": {},
   "outputs": [],
   "source": [
    "# def gsheet_download_csv(id: str, target: str, url_template=\"https://docs.google.com/spreadsheets/d/{id}/export?format=csv\"):\n",
    "#     url = url_template.format(id=id)\n",
    "#     return urllib.request.urlretrieve(url, target)\n",
    "\n",
    "# gsheet_download_csv('1UyfAnRCes0OAOUR0aARfkfegTsUl4Puw', 'nomenclador.csv')\n",
    "nomenclador = pd.read_csv('./geonomenclador.csv')\n",
    "pais = {k:v for k,v in nomenclador[['geocodigo', 'desc_fundar']].iloc}\n",
    "# continentes = {k:v for k,v in nomenclador[['codigo_fundar', 'continente_fundar']].iloc}\n",
    "# nivel_agregacion = {k:v for k,v in nomenclador[['codigo_fundar', 'nivel_agregacion']].iloc}\n",
    "codes_set = set(pais.keys())\n",
    "\n",
    "lista_cambios = []\n",
    "diccionario_cambios = {}"
   ]
  },
  {
   "cell_type": "code",
   "execution_count": null,
   "metadata": {},
   "outputs": [],
   "source": [
    "def match_relocate(src, target, pattern, file_list=None):\n",
    "    files_to_move = file_list or os.listdir(src)\n",
    "\n",
    "    pattern = re.compile(pattern)\n",
    "\n",
    "    if not os.path.exists(target):\n",
    "        makedirs(target)\n",
    "\n",
    "    for filename in files_to_move:\n",
    "        if pattern.match(filename):\n",
    "            src_path = os.path.join(src, filename)\n",
    "            dest_path = os.path.join(target, filename)\n",
    "\n",
    "            shutil.move(src_path, dest_path)\n",
    "\n",
    "    print(f\"Files matching the pattern '{pattern}' moved to '{target}'.\")\n",
    "\n",
    "def compose2(f, g):\n",
    "    def composed(*a, **kw):\n",
    "        return f(g(*a, **kw))\n",
    "\n",
    "    return composed\n",
    "\n",
    "def compose(*fs):\n",
    "    return reduce(compose2, fs)\n",
    "\n",
    "def _chain(*fs):\n",
    "    return compose(*reversed(fs))\n",
    "\n",
    "def chain(*fs):\n",
    "    lista_cambios.clear()\n",
    "    return _chain(*fs)\n",
    "\n",
    "def exportar_definitivo(archivo: str, folder:str, df: pd.DataFrame, nuevo_nombre=None):\n",
    "    if not nuevo_nombre:\n",
    "        nuevo_nombre = f\"{folder}/definitivos/{archivo}_old.csv\"\n",
    "\n",
    "    original_file = f'{folder}/definitivos/{archivo}.csv'\n",
    "\n",
    "    rename(original_file, nuevo_nombre)\n",
    "\n",
    "    df.to_csv(original_file, \n",
    "              encoding='utf-8', \n",
    "              sep=',', \n",
    "              quoting=csv.QUOTE_ALL, \n",
    "              quotechar='\"', \n",
    "              lineterminator='\\n', \n",
    "              decimal='.', \n",
    "              index=False)\n",
    "    \n",
    "    return original_file, nuevo_nombre\n",
    "\n",
    "def drop_col(df: pd.DataFrame, col, axis=1, lista_cambios = lista_cambios):\n",
    "    lista_cambios.append(f\"Se borró la columna {col}\")\n",
    "    return df.drop(col, axis=axis)\n",
    "\n",
    "def drop_colx(col, axis=1):\n",
    "    return lambda df: drop_col(df, col, axis=axis)\n",
    "\n",
    "def normalize_countries(df: pd.DataFrame, code_col:str, new_col:str, desc_col:str, map: dict, lista_cambios = lista_cambios):\n",
    "    codes_set = set(map.keys())\n",
    "    today = datetime.datetime.now().strftime(\"%Y-%m-%d\")\n",
    "    diff_set = set(df[code_col].dropna()) - codes_set\n",
    "    if len(diff_set)>0: \n",
    "        diff_str = \", \".join([str(x) for x in list(diff_set)])\n",
    "        string = f\"ERROR: Los códigos {diff_str} no se encontraron en el nomenclador vigente al {today} en la columna {code_col}\"\n",
    "        lista_cambios.append(string)\n",
    "    else:\n",
    "        if (new_col and desc_col):\n",
    "            df[new_col] = df[code_col].apply(map.__getitem__)\n",
    "            df = df.drop(desc_col, axis=1)\n",
    "            string = f\"Usando los valores de la columna {code_col}, se normalizaron los nombres de las regiones/paises con el nomenclador vigente al {today}, creando la columna {new_col} y borrando la columna {desc_col}\"\n",
    "        elif desc_col:\n",
    "            df[desc_col] = df[code_col].apply(map.__getitem__)\n",
    "            string = f\"Usando los valores de la columna {code_col}, se normalizaron los nombres de las regiones/paises con el nomenclador vigente al {today}, cambiando los valores de la columna {desc_col}\"\n",
    "        else: \n",
    "            string = f\"Usando los valores de la columna {code_col}, se verificó que todos los códigos se encuentran en el nomenclador vigente al {today}\"\n",
    "        lista_cambios.append(string)\n",
    "    return df\n",
    "\n",
    "def normalize_countriesx(code_col, new_col, desc_col, map):\n",
    "    return lambda df: normalize_countries(df, code_col=code_col, new_col=new_col, desc_col=desc_col, map=map)\n",
    "\n",
    "def wide_to_long(df: pd.DataFrame, primary_keys, value_name='valor', var_name='indicador', lista_cambios=lista_cambios):\n",
    "    cols = \", \".join(df.columns)\n",
    "    new_cols = \", \".join(primary_keys + [value_name, var_name])\n",
    "    string = f\"Long estricto: [{cols}] -> [{new_cols}]\"\n",
    "    lista_cambios.append(string)\n",
    "    return df.melt(id_vars=primary_keys, value_name=value_name, var_name=var_name)\n",
    "\n",
    "def wide_to_longx(primary_keys, value_name='valor', var_name='indicador'):\n",
    "    return lambda df: wide_to_long(df, primary_keys, value_name=value_name, var_name=var_name)\n",
    "\n",
    "def rename_cols(df: pd.DataFrame, map, lista_cambios=lista_cambios):\n",
    "    map_string = \", \".join(f\"{old_col}:{new_col}\" for old_col, new_col in map.items())\n",
    "    string = f\"Se renombraron las columnas: {map_string}\"\n",
    "    lista_cambios.append(string)\n",
    "    df = df.rename(columns=map)\n",
    "    return df\n",
    "\n",
    "def rename_colsx(map):\n",
    "    return lambda df: rename_cols(df, map)\n",
    "\n",
    "def replace_value(df:pd.DataFrame, col:str, curr_value:str, new_value:str, lista_cambios=lista_cambios):\n",
    "    string = f\"Se imputó el valor {new_value} en la columna {col} cuando {col}=={curr_value}\"\n",
    "    lista_cambios.append(string)\n",
    "    df = df.replace({col: curr_value}, new_value)\n",
    "    return df\n",
    "\n",
    "def replace_valuex(col, curr_value, new_value):\n",
    "    return lambda df: replace_value(df=df, col=col, curr_value=curr_value, new_value=new_value)\n",
    "\n",
    "def sort_vals_asc(df:pd.DataFrame, prim_keys:list, lista_cambios=lista_cambios):\n",
    "    lista_cambios.append(f\"Ordené las filas por las columnas: {', '.join(prim_keys)}\")\n",
    "    return df.sort_values(by=prim_keys).reset_index(drop=True)\n",
    "\n",
    "def sort_vals_ascx(prim_keys):\n",
    "    return lambda df: sort_vals_asc(df=df, prim_keys=prim_keys)\n",
    "\n",
    "def cast_col(df:pd.DataFrame, col:str, cast_to:Literal['int','float','object'], lista_cambios=lista_cambios):\n",
    "    old_type = str(df[col].dtype)\n",
    "    df[col] = df[col].astype(cast_to)\n",
    "    lista_cambios.append(f\"El tipo de dato de la columna {col} fue cambiado {old_type} ->> {cast_to}\")\n",
    "    return df\n",
    "\n",
    "def cast_colx(col, cast_to):\n",
    "    return lambda df: cast_col(df=df, col=col, cast_to=cast_to)"
   ]
  },
  {
   "cell_type": "markdown",
   "metadata": {},
   "source": [
    "PRECIO_g1.csv"
   ]
  },
  {
   "cell_type": "code",
   "execution_count": 11,
   "metadata": {},
   "outputs": [
    {
     "name": "stdout",
     "output_type": "stream",
     "text": [
      "sector\n"
     ]
    },
    {
     "data": {
      "text/html": [
       "<div>\n",
       "<style scoped>\n",
       "    .dataframe tbody tr th:only-of-type {\n",
       "        vertical-align: middle;\n",
       "    }\n",
       "\n",
       "    .dataframe tbody tr th {\n",
       "        vertical-align: top;\n",
       "    }\n",
       "\n",
       "    .dataframe thead th {\n",
       "        text-align: right;\n",
       "    }\n",
       "</style>\n",
       "<table border=\"1\" class=\"dataframe\">\n",
       "  <thead>\n",
       "    <tr style=\"text-align: right;\">\n",
       "      <th></th>\n",
       "      <th>sector</th>\n",
       "      <th>valor</th>\n",
       "    </tr>\n",
       "  </thead>\n",
       "  <tbody>\n",
       "    <tr>\n",
       "      <th>0</th>\n",
       "      <td>Alimentos y bebidas no alcoholicas</td>\n",
       "      <td>26.93381</td>\n",
       "    </tr>\n",
       "    <tr>\n",
       "      <th>1</th>\n",
       "      <td>Bebidas alcoholicas y tabaco</td>\n",
       "      <td>3.49540</td>\n",
       "    </tr>\n",
       "    <tr>\n",
       "      <th>2</th>\n",
       "      <td>Prendas de vestir y calzado</td>\n",
       "      <td>9.90447</td>\n",
       "    </tr>\n",
       "    <tr>\n",
       "      <th>3</th>\n",
       "      <td>Vivienda agua electricidad gas y otros combust...</td>\n",
       "      <td>9.43438</td>\n",
       "    </tr>\n",
       "    <tr>\n",
       "      <th>4</th>\n",
       "      <td>Equipamiento y mantenimiento del hogar</td>\n",
       "      <td>6.36303</td>\n",
       "    </tr>\n",
       "  </tbody>\n",
       "</table>\n",
       "</div>"
      ],
      "text/plain": [
       "                                              sector     valor\n",
       "0                 Alimentos y bebidas no alcoholicas  26.93381\n",
       "1                       Bebidas alcoholicas y tabaco   3.49540\n",
       "2                        Prendas de vestir y calzado   9.90447\n",
       "3  Vivienda agua electricidad gas y otros combust...   9.43438\n",
       "4             Equipamiento y mantenimiento del hogar   6.36303"
      ]
     },
     "execution_count": 11,
     "metadata": {},
     "output_type": "execute_result"
    }
   ],
   "source": [
    "SUBTOP = 'PRECIO'\n",
    "entrega = 1\n",
    "folder = f\"../output/{SUBTOP}{entrega}\"\n",
    "grafico_n = 1\n",
    "\n",
    "archivo = f\"{SUBTOP}_g{str(grafico_n).zfill(2)}\"\n",
    "df = pd.read_csv(f\"{folder}/definitivos/{archivo}.csv\")\n",
    "\n",
    "mapping = pd.read_csv(f'{folder}/internal_mapping.csv')\n",
    "mapping = {id:archivo for (_,_,archivo,id,_) in mapping.iloc}\n",
    "\n",
    "plantilla = pd.read_excel(f'../tmp/ArgenData-{SUBTOP}.xlsx', header=6)\n",
    "plantilla_slice = plantilla[plantilla.dataset_archivo == mapping[archivo]]\n",
    "\n",
    "primary_keys = plantilla_slice.variable_nombre[plantilla_slice.primary_key].unique().tolist()\n",
    "print(*primary_keys)\n",
    "df.head()"
   ]
  },
  {
   "cell_type": "code",
   "execution_count": 12,
   "metadata": {},
   "outputs": [
    {
     "data": {
      "text/html": [
       "<div>\n",
       "<style scoped>\n",
       "    .dataframe tbody tr th:only-of-type {\n",
       "        vertical-align: middle;\n",
       "    }\n",
       "\n",
       "    .dataframe tbody tr th {\n",
       "        vertical-align: top;\n",
       "    }\n",
       "\n",
       "    .dataframe thead th {\n",
       "        text-align: right;\n",
       "    }\n",
       "</style>\n",
       "<table border=\"1\" class=\"dataframe\">\n",
       "  <thead>\n",
       "    <tr style=\"text-align: right;\">\n",
       "      <th></th>\n",
       "      <th>sector</th>\n",
       "      <th>indicador</th>\n",
       "      <th>valor</th>\n",
       "    </tr>\n",
       "  </thead>\n",
       "  <tbody>\n",
       "    <tr>\n",
       "      <th>0</th>\n",
       "      <td>Alimentos y bebidas no alcoholicas</td>\n",
       "      <td>valor</td>\n",
       "      <td>26.93381</td>\n",
       "    </tr>\n",
       "    <tr>\n",
       "      <th>1</th>\n",
       "      <td>Bebidas alcoholicas y tabaco</td>\n",
       "      <td>valor</td>\n",
       "      <td>3.49540</td>\n",
       "    </tr>\n",
       "    <tr>\n",
       "      <th>2</th>\n",
       "      <td>Bienes y servicios varios</td>\n",
       "      <td>valor</td>\n",
       "      <td>3.54986</td>\n",
       "    </tr>\n",
       "    <tr>\n",
       "      <th>3</th>\n",
       "      <td>Comunicaciones</td>\n",
       "      <td>valor</td>\n",
       "      <td>2.82317</td>\n",
       "    </tr>\n",
       "    <tr>\n",
       "      <th>4</th>\n",
       "      <td>Educacion</td>\n",
       "      <td>valor</td>\n",
       "      <td>2.29781</td>\n",
       "    </tr>\n",
       "  </tbody>\n",
       "</table>\n",
       "</div>"
      ],
      "text/plain": [
       "                               sector indicador     valor\n",
       "0  Alimentos y bebidas no alcoholicas     valor  26.93381\n",
       "1        Bebidas alcoholicas y tabaco     valor   3.49540\n",
       "2           Bienes y servicios varios     valor   3.54986\n",
       "3                      Comunicaciones     valor   2.82317\n",
       "4                           Educacion     valor   2.29781"
      ]
     },
     "execution_count": 12,
     "metadata": {},
     "output_type": "execute_result"
    }
   ],
   "source": [
    "drop = drop_colx\n",
    "to_long = wide_to_longx\n",
    "renombrar = rename_colsx\n",
    "nomenclar_paises = partial(normalize_countriesx, map=pais)\n",
    "replace = replace_valuex\n",
    "sort = sort_vals_ascx\n",
    "exportar = lambda df: exportar_definitivo(archivo=archivo, folder=folder, df=df, nuevo_nombre=None)\n",
    "\n",
    "\n",
    "pipeline = chain(\n",
    "    to_long(primary_keys, value_name=\"_valor\"),\n",
    "    sort_vals_ascx(primary_keys),\n",
    "    renombrar({'_valor': 'valor'}),\n",
    "   \n",
    ")\n",
    "\n",
    "_df = pipeline(df)\n",
    "\n",
    "\n",
    "diccionario_cambios[archivo] = lista_cambios.copy()\n",
    "\n",
    "_df.head()"
   ]
  },
  {
   "cell_type": "code",
   "execution_count": 13,
   "metadata": {},
   "outputs": [
    {
     "data": {
      "text/plain": [
       "{'PRECIO_g01': ['Long estricto: [sector, valor] -> [sector, _valor, indicador]',\n",
       "  'Ordené las filas por las columnas: sector',\n",
       "  'Se renombraron las columnas: _valor:valor']}"
      ]
     },
     "execution_count": 13,
     "metadata": {},
     "output_type": "execute_result"
    }
   ],
   "source": [
    "diccionario_cambios"
   ]
  },
  {
   "cell_type": "code",
   "execution_count": 14,
   "metadata": {},
   "outputs": [
    {
     "data": {
      "text/plain": [
       "('../output/PRECIO1/definitivos/PRECIO_g01.csv',\n",
       " '../output/PRECIO1/definitivos/PRECIO_g01_old.csv')"
      ]
     },
     "execution_count": 14,
     "metadata": {},
     "output_type": "execute_result"
    }
   ],
   "source": [
    "exportar(_df)"
   ]
  },
  {
   "cell_type": "markdown",
   "metadata": {},
   "source": [
    "PRECIO_g2.csv"
   ]
  },
  {
   "cell_type": "code",
   "execution_count": 15,
   "metadata": {},
   "outputs": [
    {
     "name": "stdout",
     "output_type": "stream",
     "text": [
      "region sector\n"
     ]
    },
    {
     "data": {
      "text/html": [
       "<div>\n",
       "<style scoped>\n",
       "    .dataframe tbody tr th:only-of-type {\n",
       "        vertical-align: middle;\n",
       "    }\n",
       "\n",
       "    .dataframe tbody tr th {\n",
       "        vertical-align: top;\n",
       "    }\n",
       "\n",
       "    .dataframe thead th {\n",
       "        text-align: right;\n",
       "    }\n",
       "</style>\n",
       "<table border=\"1\" class=\"dataframe\">\n",
       "  <thead>\n",
       "    <tr style=\"text-align: right;\">\n",
       "      <th></th>\n",
       "      <th>region</th>\n",
       "      <th>sector</th>\n",
       "      <th>valor</th>\n",
       "    </tr>\n",
       "  </thead>\n",
       "  <tbody>\n",
       "    <tr>\n",
       "      <th>0</th>\n",
       "      <td>Nacional</td>\n",
       "      <td>Alimentos y bebidas no alcoholicas</td>\n",
       "      <td>26.9</td>\n",
       "    </tr>\n",
       "    <tr>\n",
       "      <th>1</th>\n",
       "      <td>GBA</td>\n",
       "      <td>Alimentos y bebidas no alcoholicas</td>\n",
       "      <td>23.4</td>\n",
       "    </tr>\n",
       "    <tr>\n",
       "      <th>2</th>\n",
       "      <td>Pampeana</td>\n",
       "      <td>Alimentos y bebidas no alcoholicas</td>\n",
       "      <td>28.6</td>\n",
       "    </tr>\n",
       "    <tr>\n",
       "      <th>3</th>\n",
       "      <td>NEA</td>\n",
       "      <td>Alimentos y bebidas no alcoholicas</td>\n",
       "      <td>35.3</td>\n",
       "    </tr>\n",
       "    <tr>\n",
       "      <th>4</th>\n",
       "      <td>NOA</td>\n",
       "      <td>Alimentos y bebidas no alcoholicas</td>\n",
       "      <td>34.7</td>\n",
       "    </tr>\n",
       "  </tbody>\n",
       "</table>\n",
       "</div>"
      ],
      "text/plain": [
       "     region                              sector  valor\n",
       "0  Nacional  Alimentos y bebidas no alcoholicas   26.9\n",
       "1       GBA  Alimentos y bebidas no alcoholicas   23.4\n",
       "2  Pampeana  Alimentos y bebidas no alcoholicas   28.6\n",
       "3       NEA  Alimentos y bebidas no alcoholicas   35.3\n",
       "4       NOA  Alimentos y bebidas no alcoholicas   34.7"
      ]
     },
     "execution_count": 15,
     "metadata": {},
     "output_type": "execute_result"
    }
   ],
   "source": [
    "SUBTOP = 'PRECIO'\n",
    "entrega = 1\n",
    "folder = f\"../output/{SUBTOP}{entrega}\"\n",
    "grafico_n = 2\n",
    "\n",
    "archivo = f\"{SUBTOP}_g{str(grafico_n).zfill(2)}\"\n",
    "df = pd.read_csv(f\"{folder}/definitivos/{archivo}.csv\")\n",
    "\n",
    "mapping = pd.read_csv(f'{folder}/internal_mapping.csv')\n",
    "mapping = {id:archivo for (_,_,archivo,id,_) in mapping.iloc}\n",
    "\n",
    "plantilla = pd.read_excel(f'../tmp/ArgenData-{SUBTOP}.xlsx', header=6)\n",
    "plantilla_slice = plantilla[plantilla.dataset_archivo == mapping[archivo]]\n",
    "\n",
    "primary_keys = plantilla_slice.variable_nombre[plantilla_slice.primary_key].unique().tolist()\n",
    "print(*primary_keys)\n",
    "df.head()"
   ]
  },
  {
   "cell_type": "code",
   "execution_count": 16,
   "metadata": {},
   "outputs": [
    {
     "data": {
      "text/html": [
       "<div>\n",
       "<style scoped>\n",
       "    .dataframe tbody tr th:only-of-type {\n",
       "        vertical-align: middle;\n",
       "    }\n",
       "\n",
       "    .dataframe tbody tr th {\n",
       "        vertical-align: top;\n",
       "    }\n",
       "\n",
       "    .dataframe thead th {\n",
       "        text-align: right;\n",
       "    }\n",
       "</style>\n",
       "<table border=\"1\" class=\"dataframe\">\n",
       "  <thead>\n",
       "    <tr style=\"text-align: right;\">\n",
       "      <th></th>\n",
       "      <th>region</th>\n",
       "      <th>sector</th>\n",
       "      <th>indicador</th>\n",
       "      <th>valor</th>\n",
       "    </tr>\n",
       "  </thead>\n",
       "  <tbody>\n",
       "    <tr>\n",
       "      <th>0</th>\n",
       "      <td>Cuyo</td>\n",
       "      <td>Alimentos y bebidas no alcoholicas</td>\n",
       "      <td>valor</td>\n",
       "      <td>28.4</td>\n",
       "    </tr>\n",
       "    <tr>\n",
       "      <th>1</th>\n",
       "      <td>Cuyo</td>\n",
       "      <td>Bebidas alcoholicas y tabaco</td>\n",
       "      <td>valor</td>\n",
       "      <td>3.6</td>\n",
       "    </tr>\n",
       "    <tr>\n",
       "      <th>2</th>\n",
       "      <td>Cuyo</td>\n",
       "      <td>Bienes y servicios varios</td>\n",
       "      <td>valor</td>\n",
       "      <td>3.6</td>\n",
       "    </tr>\n",
       "    <tr>\n",
       "      <th>3</th>\n",
       "      <td>Cuyo</td>\n",
       "      <td>Comunicaciones</td>\n",
       "      <td>valor</td>\n",
       "      <td>2.5</td>\n",
       "    </tr>\n",
       "    <tr>\n",
       "      <th>4</th>\n",
       "      <td>Cuyo</td>\n",
       "      <td>Educacion</td>\n",
       "      <td>valor</td>\n",
       "      <td>2.2</td>\n",
       "    </tr>\n",
       "  </tbody>\n",
       "</table>\n",
       "</div>"
      ],
      "text/plain": [
       "  region                              sector indicador  valor\n",
       "0   Cuyo  Alimentos y bebidas no alcoholicas     valor   28.4\n",
       "1   Cuyo        Bebidas alcoholicas y tabaco     valor    3.6\n",
       "2   Cuyo           Bienes y servicios varios     valor    3.6\n",
       "3   Cuyo                      Comunicaciones     valor    2.5\n",
       "4   Cuyo                           Educacion     valor    2.2"
      ]
     },
     "execution_count": 16,
     "metadata": {},
     "output_type": "execute_result"
    }
   ],
   "source": [
    "drop = drop_colx\n",
    "to_long = wide_to_longx\n",
    "renombrar = rename_colsx\n",
    "nomenclar_paises = partial(normalize_countriesx, map=pais)\n",
    "replace = replace_valuex\n",
    "sort = sort_vals_ascx\n",
    "exportar = lambda df: exportar_definitivo(archivo=archivo, folder=folder, df=df, nuevo_nombre=None)\n",
    "\n",
    "\n",
    "pipeline = chain(\n",
    "    to_long(primary_keys, value_name=\"_valor\"),\n",
    "    sort_vals_ascx(primary_keys),\n",
    "    renombrar({'_valor': 'valor'}),\n",
    "   \n",
    ")\n",
    "\n",
    "_df = pipeline(df)\n",
    "\n",
    "\n",
    "diccionario_cambios[archivo] = lista_cambios.copy()\n",
    "\n",
    "_df.head()"
   ]
  },
  {
   "cell_type": "code",
   "execution_count": 17,
   "metadata": {},
   "outputs": [
    {
     "data": {
      "text/plain": [
       "{'PRECIO_g01': ['Long estricto: [sector, valor] -> [sector, _valor, indicador]',\n",
       "  'Ordené las filas por las columnas: sector',\n",
       "  'Se renombraron las columnas: _valor:valor'],\n",
       " 'PRECIO_g02': ['Long estricto: [region, sector, valor] -> [region, sector, _valor, indicador]',\n",
       "  'Ordené las filas por las columnas: region, sector',\n",
       "  'Se renombraron las columnas: _valor:valor']}"
      ]
     },
     "execution_count": 17,
     "metadata": {},
     "output_type": "execute_result"
    }
   ],
   "source": [
    "diccionario_cambios"
   ]
  },
  {
   "cell_type": "code",
   "execution_count": 18,
   "metadata": {},
   "outputs": [
    {
     "data": {
      "text/plain": [
       "('../output/PRECIO1/definitivos/PRECIO_g02.csv',\n",
       " '../output/PRECIO1/definitivos/PRECIO_g02_old.csv')"
      ]
     },
     "execution_count": 18,
     "metadata": {},
     "output_type": "execute_result"
    }
   ],
   "source": [
    "exportar(_df)"
   ]
  },
  {
   "cell_type": "markdown",
   "metadata": {},
   "source": [
    "PRECIO_g3.csv"
   ]
  },
  {
   "cell_type": "code",
   "execution_count": 19,
   "metadata": {},
   "outputs": [
    {
     "name": "stdout",
     "output_type": "stream",
     "text": [
      "anio\n"
     ]
    },
    {
     "data": {
      "text/html": [
       "<div>\n",
       "<style scoped>\n",
       "    .dataframe tbody tr th:only-of-type {\n",
       "        vertical-align: middle;\n",
       "    }\n",
       "\n",
       "    .dataframe tbody tr th {\n",
       "        vertical-align: top;\n",
       "    }\n",
       "\n",
       "    .dataframe thead th {\n",
       "        text-align: right;\n",
       "    }\n",
       "</style>\n",
       "<table border=\"1\" class=\"dataframe\">\n",
       "  <thead>\n",
       "    <tr style=\"text-align: right;\">\n",
       "      <th></th>\n",
       "      <th>anio</th>\n",
       "      <th>inflacion_todos</th>\n",
       "      <th>inflacion_positivos</th>\n",
       "    </tr>\n",
       "  </thead>\n",
       "  <tbody>\n",
       "    <tr>\n",
       "      <th>0</th>\n",
       "      <td>1935</td>\n",
       "      <td>14.088050</td>\n",
       "      <td>14.088050</td>\n",
       "    </tr>\n",
       "    <tr>\n",
       "      <th>1</th>\n",
       "      <td>1936</td>\n",
       "      <td>0.000000</td>\n",
       "      <td>NaN</td>\n",
       "    </tr>\n",
       "    <tr>\n",
       "      <th>2</th>\n",
       "      <td>1937</td>\n",
       "      <td>2.315325</td>\n",
       "      <td>2.315325</td>\n",
       "    </tr>\n",
       "    <tr>\n",
       "      <th>3</th>\n",
       "      <td>1938</td>\n",
       "      <td>-0.646552</td>\n",
       "      <td>NaN</td>\n",
       "    </tr>\n",
       "    <tr>\n",
       "      <th>4</th>\n",
       "      <td>1939</td>\n",
       "      <td>5.965293</td>\n",
       "      <td>5.965293</td>\n",
       "    </tr>\n",
       "  </tbody>\n",
       "</table>\n",
       "</div>"
      ],
      "text/plain": [
       "   anio  inflacion_todos  inflacion_positivos\n",
       "0  1935        14.088050            14.088050\n",
       "1  1936         0.000000                  NaN\n",
       "2  1937         2.315325             2.315325\n",
       "3  1938        -0.646552                  NaN\n",
       "4  1939         5.965293             5.965293"
      ]
     },
     "execution_count": 19,
     "metadata": {},
     "output_type": "execute_result"
    }
   ],
   "source": [
    "SUBTOP = 'PRECIO'\n",
    "entrega = 1\n",
    "folder = f\"../output/{SUBTOP}{entrega}\"\n",
    "grafico_n = 3\n",
    "\n",
    "archivo = f\"{SUBTOP}_g{str(grafico_n).zfill(2)}\"\n",
    "df = pd.read_csv(f\"{folder}/definitivos/{archivo}.csv\")\n",
    "\n",
    "mapping = pd.read_csv(f'{folder}/internal_mapping.csv')\n",
    "mapping = {id:archivo for (_,_,archivo,id,_) in mapping.iloc}\n",
    "\n",
    "plantilla = pd.read_excel(f'../tmp/ArgenData-{SUBTOP}.xlsx', header=6)\n",
    "plantilla_slice = plantilla[plantilla.dataset_archivo == mapping[archivo]]\n",
    "\n",
    "primary_keys = plantilla_slice.variable_nombre[plantilla_slice.primary_key].unique().tolist()\n",
    "print(*primary_keys)\n",
    "df.head()"
   ]
  },
  {
   "cell_type": "code",
   "execution_count": 21,
   "metadata": {},
   "outputs": [
    {
     "data": {
      "text/html": [
       "<div>\n",
       "<style scoped>\n",
       "    .dataframe tbody tr th:only-of-type {\n",
       "        vertical-align: middle;\n",
       "    }\n",
       "\n",
       "    .dataframe tbody tr th {\n",
       "        vertical-align: top;\n",
       "    }\n",
       "\n",
       "    .dataframe thead th {\n",
       "        text-align: right;\n",
       "    }\n",
       "</style>\n",
       "<table border=\"1\" class=\"dataframe\">\n",
       "  <thead>\n",
       "    <tr style=\"text-align: right;\">\n",
       "      <th></th>\n",
       "      <th>anio</th>\n",
       "      <th>indicador</th>\n",
       "      <th>valor</th>\n",
       "    </tr>\n",
       "  </thead>\n",
       "  <tbody>\n",
       "    <tr>\n",
       "      <th>0</th>\n",
       "      <td>1935</td>\n",
       "      <td>inflacion_todos</td>\n",
       "      <td>14.088050</td>\n",
       "    </tr>\n",
       "    <tr>\n",
       "      <th>1</th>\n",
       "      <td>1935</td>\n",
       "      <td>inflacion_positivos</td>\n",
       "      <td>14.088050</td>\n",
       "    </tr>\n",
       "    <tr>\n",
       "      <th>2</th>\n",
       "      <td>1936</td>\n",
       "      <td>inflacion_positivos</td>\n",
       "      <td>NaN</td>\n",
       "    </tr>\n",
       "    <tr>\n",
       "      <th>3</th>\n",
       "      <td>1936</td>\n",
       "      <td>inflacion_todos</td>\n",
       "      <td>0.000000</td>\n",
       "    </tr>\n",
       "    <tr>\n",
       "      <th>4</th>\n",
       "      <td>1937</td>\n",
       "      <td>inflacion_todos</td>\n",
       "      <td>2.315325</td>\n",
       "    </tr>\n",
       "  </tbody>\n",
       "</table>\n",
       "</div>"
      ],
      "text/plain": [
       "   anio            indicador      valor\n",
       "0  1935      inflacion_todos  14.088050\n",
       "1  1935  inflacion_positivos  14.088050\n",
       "2  1936  inflacion_positivos        NaN\n",
       "3  1936      inflacion_todos   0.000000\n",
       "4  1937      inflacion_todos   2.315325"
      ]
     },
     "execution_count": 21,
     "metadata": {},
     "output_type": "execute_result"
    }
   ],
   "source": [
    "drop = drop_colx\n",
    "to_long = wide_to_longx\n",
    "renombrar = rename_colsx\n",
    "nomenclar_paises = partial(normalize_countriesx, map=pais)\n",
    "replace = replace_valuex\n",
    "sort = sort_vals_ascx\n",
    "exportar = lambda df: exportar_definitivo(archivo=archivo, folder=folder, df=df, nuevo_nombre=None)\n",
    "\n",
    "\n",
    "pipeline = chain(\n",
    "    to_long(primary_keys ),\n",
    "    sort_vals_ascx(primary_keys)\n",
    "    \n",
    "    # replace(col='pov_type', curr_value='with_transfers', new_value='Con transferencias'),\n",
    "    # replace(col='pov_type', curr_value='without_transfers', new_value='Sin transferencias'),\n",
    "    # replace(col='pov_type', curr_value='difference', new_value='Diferencia')\n",
    "    # drop('region_name'), \n",
    "    # renombrar({'region_code': 'cod_area'}),\n",
    "    # nomenclar_paises(code_col='cod_area', new_col=\"desc_area\"), \n",
    "    #renombrar({'iso3': 'pais'}),\n",
    "   \n",
    ")\n",
    "\n",
    "_df = pipeline(df)\n",
    "\n",
    "\n",
    "diccionario_cambios[archivo] = lista_cambios.copy()\n",
    "\n",
    "_df.head()"
   ]
  },
  {
   "cell_type": "code",
   "execution_count": 22,
   "metadata": {},
   "outputs": [
    {
     "data": {
      "text/plain": [
       "{'PRECIO_g01': ['Long estricto: [sector, valor] -> [sector, _valor, indicador]',\n",
       "  'Ordené las filas por las columnas: sector',\n",
       "  'Se renombraron las columnas: _valor:valor'],\n",
       " 'PRECIO_g02': ['Long estricto: [region, sector, valor] -> [region, sector, _valor, indicador]',\n",
       "  'Ordené las filas por las columnas: region, sector',\n",
       "  'Se renombraron las columnas: _valor:valor'],\n",
       " 'PRECIO_g03': ['Long estricto: [anio, inflacion_todos, inflacion_positivos] -> [anio, valor, indicador]',\n",
       "  'Ordené las filas por las columnas: anio']}"
      ]
     },
     "execution_count": 22,
     "metadata": {},
     "output_type": "execute_result"
    }
   ],
   "source": [
    "diccionario_cambios"
   ]
  },
  {
   "cell_type": "code",
   "execution_count": 23,
   "metadata": {},
   "outputs": [
    {
     "data": {
      "text/plain": [
       "('../output/PRECIO1/definitivos/PRECIO_g03.csv',\n",
       " '../output/PRECIO1/definitivos/PRECIO_g03_old.csv')"
      ]
     },
     "execution_count": 23,
     "metadata": {},
     "output_type": "execute_result"
    }
   ],
   "source": [
    "exportar(_df)"
   ]
  },
  {
   "cell_type": "markdown",
   "metadata": {},
   "source": [
    "PRECIO_g4.csv"
   ]
  },
  {
   "cell_type": "code",
   "execution_count": 24,
   "metadata": {},
   "outputs": [
    {
     "name": "stdout",
     "output_type": "stream",
     "text": [
      "iso3\n"
     ]
    },
    {
     "data": {
      "text/html": [
       "<div>\n",
       "<style scoped>\n",
       "    .dataframe tbody tr th:only-of-type {\n",
       "        vertical-align: middle;\n",
       "    }\n",
       "\n",
       "    .dataframe tbody tr th {\n",
       "        vertical-align: top;\n",
       "    }\n",
       "\n",
       "    .dataframe thead th {\n",
       "        text-align: right;\n",
       "    }\n",
       "</style>\n",
       "<table border=\"1\" class=\"dataframe\">\n",
       "  <thead>\n",
       "    <tr style=\"text-align: right;\">\n",
       "      <th></th>\n",
       "      <th>pais</th>\n",
       "      <th>iso3</th>\n",
       "      <th>inflacion_prom_07_22</th>\n",
       "    </tr>\n",
       "  </thead>\n",
       "  <tbody>\n",
       "    <tr>\n",
       "      <th>0</th>\n",
       "      <td>Afganistán</td>\n",
       "      <td>AFG</td>\n",
       "      <td>5.464714</td>\n",
       "    </tr>\n",
       "    <tr>\n",
       "      <th>1</th>\n",
       "      <td>Albania</td>\n",
       "      <td>ALB</td>\n",
       "      <td>2.498375</td>\n",
       "    </tr>\n",
       "    <tr>\n",
       "      <th>2</th>\n",
       "      <td>Argelia</td>\n",
       "      <td>DZA</td>\n",
       "      <td>5.089000</td>\n",
       "    </tr>\n",
       "    <tr>\n",
       "      <th>3</th>\n",
       "      <td>Angola</td>\n",
       "      <td>AGO</td>\n",
       "      <td>16.764688</td>\n",
       "    </tr>\n",
       "    <tr>\n",
       "      <th>4</th>\n",
       "      <td>Argentina</td>\n",
       "      <td>ARG</td>\n",
       "      <td>35.981509</td>\n",
       "    </tr>\n",
       "  </tbody>\n",
       "</table>\n",
       "</div>"
      ],
      "text/plain": [
       "         pais iso3  inflacion_prom_07_22\n",
       "0  Afganistán  AFG              5.464714\n",
       "1     Albania  ALB              2.498375\n",
       "2     Argelia  DZA              5.089000\n",
       "3      Angola  AGO             16.764688\n",
       "4   Argentina  ARG             35.981509"
      ]
     },
     "execution_count": 24,
     "metadata": {},
     "output_type": "execute_result"
    }
   ],
   "source": [
    "SUBTOP = 'PRECIO'\n",
    "entrega = 1\n",
    "folder = f\"../output/{SUBTOP}{entrega}\"\n",
    "grafico_n = 4\n",
    "\n",
    "archivo = f\"{SUBTOP}_g{str(grafico_n).zfill(2)}\"\n",
    "df = pd.read_csv(f\"{folder}/definitivos/{archivo}.csv\")\n",
    "\n",
    "mapping = pd.read_csv(f'{folder}/internal_mapping.csv')\n",
    "mapping = {id:archivo for (_,_,archivo,id,_) in mapping.iloc}\n",
    "\n",
    "plantilla = pd.read_excel(f'../tmp/ArgenData-{SUBTOP}.xlsx', header=6)\n",
    "plantilla_slice = plantilla[plantilla.dataset_archivo == mapping[archivo]]\n",
    "\n",
    "primary_keys = plantilla_slice.variable_nombre[plantilla_slice.primary_key].unique().tolist()\n",
    "print(*primary_keys)\n",
    "df.head()"
   ]
  },
  {
   "cell_type": "code",
   "execution_count": 25,
   "metadata": {},
   "outputs": [
    {
     "data": {
      "text/html": [
       "<div>\n",
       "<style scoped>\n",
       "    .dataframe tbody tr th:only-of-type {\n",
       "        vertical-align: middle;\n",
       "    }\n",
       "\n",
       "    .dataframe tbody tr th {\n",
       "        vertical-align: top;\n",
       "    }\n",
       "\n",
       "    .dataframe thead th {\n",
       "        text-align: right;\n",
       "    }\n",
       "</style>\n",
       "<table border=\"1\" class=\"dataframe\">\n",
       "  <thead>\n",
       "    <tr style=\"text-align: right;\">\n",
       "      <th></th>\n",
       "      <th>iso3</th>\n",
       "      <th>pais</th>\n",
       "      <th>indicador</th>\n",
       "      <th>valor</th>\n",
       "    </tr>\n",
       "  </thead>\n",
       "  <tbody>\n",
       "    <tr>\n",
       "      <th>0</th>\n",
       "      <td>AFG</td>\n",
       "      <td>Afganistán</td>\n",
       "      <td>inflacion_prom_07_22</td>\n",
       "      <td>5.464714</td>\n",
       "    </tr>\n",
       "    <tr>\n",
       "      <th>1</th>\n",
       "      <td>AGO</td>\n",
       "      <td>Angola</td>\n",
       "      <td>inflacion_prom_07_22</td>\n",
       "      <td>16.764688</td>\n",
       "    </tr>\n",
       "    <tr>\n",
       "      <th>2</th>\n",
       "      <td>ALB</td>\n",
       "      <td>Albania</td>\n",
       "      <td>inflacion_prom_07_22</td>\n",
       "      <td>2.498375</td>\n",
       "    </tr>\n",
       "    <tr>\n",
       "      <th>3</th>\n",
       "      <td>ARE</td>\n",
       "      <td>Emiratos Árabes Unidos</td>\n",
       "      <td>inflacion_prom_07_22</td>\n",
       "      <td>2.390188</td>\n",
       "    </tr>\n",
       "    <tr>\n",
       "      <th>4</th>\n",
       "      <td>ARG</td>\n",
       "      <td>Argentina</td>\n",
       "      <td>inflacion_prom_07_22</td>\n",
       "      <td>35.981509</td>\n",
       "    </tr>\n",
       "  </tbody>\n",
       "</table>\n",
       "</div>"
      ],
      "text/plain": [
       "  iso3                    pais             indicador      valor\n",
       "0  AFG              Afganistán  inflacion_prom_07_22   5.464714\n",
       "1  AGO                  Angola  inflacion_prom_07_22  16.764688\n",
       "2  ALB                 Albania  inflacion_prom_07_22   2.498375\n",
       "3  ARE  Emiratos Árabes Unidos  inflacion_prom_07_22   2.390188\n",
       "4  ARG               Argentina  inflacion_prom_07_22  35.981509"
      ]
     },
     "execution_count": 25,
     "metadata": {},
     "output_type": "execute_result"
    }
   ],
   "source": [
    "drop = drop_colx\n",
    "to_long = wide_to_longx\n",
    "renombrar = rename_colsx\n",
    "nomenclar_paises = partial(normalize_countriesx, map=pais)\n",
    "replace = replace_valuex\n",
    "sort = sort_vals_ascx\n",
    "exportar = lambda df: exportar_definitivo(archivo=archivo, folder=folder, df=df, nuevo_nombre=None)\n",
    "\n",
    "\n",
    "\n",
    "pipeline = chain(\n",
    "    nomenclar_paises(code_col='iso3', new_col=None, desc_col='pais'),\n",
    "    # drop(col=\"countryname\"),\n",
    "    to_long(primary_keys + ['pais'] ),\n",
    "    sort(primary_keys),\n",
    "    # renombrar({'iso3': 'cod_fundar','time':'anio'}),\n",
    "    # replace(col='pov_type', curr_value='with_transfers', new_value='Con transferencias'),\n",
    "    # replace(col='pov_type', curr_value='without_transfers', new_value='Sin transferencias'),\n",
    "    # replace(col='pov_type', curr_value='difference', new_value='Diferencia')\n",
    "    # drop('region_name'), \n",
    "    # renombrar({'time': 'anio'}),\n",
    "    # nomenclar_paises(code_col='cod_area', new_col=\"desc_area\"), \n",
    "    #renombrar({'iso3': 'pais'}),\n",
    "   \n",
    ")\n",
    "\n",
    "_df = pipeline(df)\n",
    "\n",
    "diccionario_cambios[archivo] = lista_cambios.copy()\n",
    "\n",
    "_df.head()"
   ]
  },
  {
   "cell_type": "code",
   "execution_count": 26,
   "metadata": {},
   "outputs": [
    {
     "data": {
      "text/plain": [
       "{'PRECIO_g01': ['Long estricto: [sector, valor] -> [sector, _valor, indicador]',\n",
       "  'Ordené las filas por las columnas: sector',\n",
       "  'Se renombraron las columnas: _valor:valor'],\n",
       " 'PRECIO_g02': ['Long estricto: [region, sector, valor] -> [region, sector, _valor, indicador]',\n",
       "  'Ordené las filas por las columnas: region, sector',\n",
       "  'Se renombraron las columnas: _valor:valor'],\n",
       " 'PRECIO_g03': ['Long estricto: [anio, inflacion_todos, inflacion_positivos] -> [anio, valor, indicador]',\n",
       "  'Ordené las filas por las columnas: anio'],\n",
       " 'PRECIO_g04': ['Usando los valores de la columna iso3, se normalizaron los nombres de las regiones/paises con el nomenclador vigente al 2024-05-20, cambiando los valores de la columna pais',\n",
       "  'Long estricto: [pais, iso3, inflacion_prom_07_22] -> [iso3, pais, valor, indicador]',\n",
       "  'Ordené las filas por las columnas: iso3']}"
      ]
     },
     "execution_count": 26,
     "metadata": {},
     "output_type": "execute_result"
    }
   ],
   "source": [
    "diccionario_cambios"
   ]
  },
  {
   "cell_type": "code",
   "execution_count": 27,
   "metadata": {},
   "outputs": [
    {
     "data": {
      "text/plain": [
       "('../output/PRECIO1/definitivos/PRECIO_g04.csv',\n",
       " '../output/PRECIO1/definitivos/PRECIO_g04_old.csv')"
      ]
     },
     "execution_count": 27,
     "metadata": {},
     "output_type": "execute_result"
    }
   ],
   "source": [
    "exportar(_df)"
   ]
  },
  {
   "cell_type": "markdown",
   "metadata": {},
   "source": [
    "PRECIO_g5.csv"
   ]
  },
  {
   "cell_type": "code",
   "execution_count": 28,
   "metadata": {},
   "outputs": [
    {
     "name": "stdout",
     "output_type": "stream",
     "text": [
      "iso3 anio\n"
     ]
    },
    {
     "data": {
      "text/html": [
       "<div>\n",
       "<style scoped>\n",
       "    .dataframe tbody tr th:only-of-type {\n",
       "        vertical-align: middle;\n",
       "    }\n",
       "\n",
       "    .dataframe tbody tr th {\n",
       "        vertical-align: top;\n",
       "    }\n",
       "\n",
       "    .dataframe thead th {\n",
       "        text-align: right;\n",
       "    }\n",
       "</style>\n",
       "<table border=\"1\" class=\"dataframe\">\n",
       "  <thead>\n",
       "    <tr style=\"text-align: right;\">\n",
       "      <th></th>\n",
       "      <th>pais</th>\n",
       "      <th>iso3</th>\n",
       "      <th>anio</th>\n",
       "      <th>inflacion</th>\n",
       "    </tr>\n",
       "  </thead>\n",
       "  <tbody>\n",
       "    <tr>\n",
       "      <th>0</th>\n",
       "      <td>Argentina</td>\n",
       "      <td>ARG</td>\n",
       "      <td>2000</td>\n",
       "      <td>-0.733699</td>\n",
       "    </tr>\n",
       "    <tr>\n",
       "      <th>1</th>\n",
       "      <td>Argentina</td>\n",
       "      <td>ARG</td>\n",
       "      <td>2001</td>\n",
       "      <td>-1.543428</td>\n",
       "    </tr>\n",
       "    <tr>\n",
       "      <th>2</th>\n",
       "      <td>Argentina</td>\n",
       "      <td>ARG</td>\n",
       "      <td>2002</td>\n",
       "      <td>40.952869</td>\n",
       "    </tr>\n",
       "    <tr>\n",
       "      <th>3</th>\n",
       "      <td>Argentina</td>\n",
       "      <td>ARG</td>\n",
       "      <td>2003</td>\n",
       "      <td>3.656320</td>\n",
       "    </tr>\n",
       "    <tr>\n",
       "      <th>4</th>\n",
       "      <td>Argentina</td>\n",
       "      <td>ARG</td>\n",
       "      <td>2004</td>\n",
       "      <td>6.100982</td>\n",
       "    </tr>\n",
       "  </tbody>\n",
       "</table>\n",
       "</div>"
      ],
      "text/plain": [
       "        pais iso3  anio  inflacion\n",
       "0  Argentina  ARG  2000  -0.733699\n",
       "1  Argentina  ARG  2001  -1.543428\n",
       "2  Argentina  ARG  2002  40.952869\n",
       "3  Argentina  ARG  2003   3.656320\n",
       "4  Argentina  ARG  2004   6.100982"
      ]
     },
     "execution_count": 28,
     "metadata": {},
     "output_type": "execute_result"
    }
   ],
   "source": [
    "SUBTOP = 'PRECIO'\n",
    "entrega = 1\n",
    "folder = f\"../output/{SUBTOP}{entrega}\"\n",
    "grafico_n = 5\n",
    "\n",
    "archivo = f\"{SUBTOP}_g{str(grafico_n).zfill(2)}\"\n",
    "df = pd.read_csv(f\"{folder}/definitivos/{archivo}.csv\")\n",
    "\n",
    "mapping = pd.read_csv(f'{folder}/internal_mapping.csv')\n",
    "mapping = {id:archivo for (_,_,archivo,id,_) in mapping.iloc}\n",
    "\n",
    "plantilla = pd.read_excel(f'../tmp/ArgenData-{SUBTOP}.xlsx', header=6)\n",
    "plantilla_slice = plantilla[plantilla.dataset_archivo == mapping[archivo]]\n",
    "\n",
    "primary_keys = plantilla_slice.variable_nombre[plantilla_slice.primary_key].unique().tolist()\n",
    "print(*primary_keys)\n",
    "df.head()"
   ]
  },
  {
   "cell_type": "code",
   "execution_count": 29,
   "metadata": {},
   "outputs": [
    {
     "data": {
      "text/html": [
       "<div>\n",
       "<style scoped>\n",
       "    .dataframe tbody tr th:only-of-type {\n",
       "        vertical-align: middle;\n",
       "    }\n",
       "\n",
       "    .dataframe tbody tr th {\n",
       "        vertical-align: top;\n",
       "    }\n",
       "\n",
       "    .dataframe thead th {\n",
       "        text-align: right;\n",
       "    }\n",
       "</style>\n",
       "<table border=\"1\" class=\"dataframe\">\n",
       "  <thead>\n",
       "    <tr style=\"text-align: right;\">\n",
       "      <th></th>\n",
       "      <th>iso3</th>\n",
       "      <th>anio</th>\n",
       "      <th>pais</th>\n",
       "      <th>indicador</th>\n",
       "      <th>valor</th>\n",
       "    </tr>\n",
       "  </thead>\n",
       "  <tbody>\n",
       "    <tr>\n",
       "      <th>0</th>\n",
       "      <td>AFG</td>\n",
       "      <td>2000</td>\n",
       "      <td>Afganistán</td>\n",
       "      <td>inflacion</td>\n",
       "      <td>NaN</td>\n",
       "    </tr>\n",
       "    <tr>\n",
       "      <th>1</th>\n",
       "      <td>AFG</td>\n",
       "      <td>2001</td>\n",
       "      <td>Afganistán</td>\n",
       "      <td>inflacion</td>\n",
       "      <td>NaN</td>\n",
       "    </tr>\n",
       "    <tr>\n",
       "      <th>2</th>\n",
       "      <td>AFG</td>\n",
       "      <td>2002</td>\n",
       "      <td>Afganistán</td>\n",
       "      <td>inflacion</td>\n",
       "      <td>NaN</td>\n",
       "    </tr>\n",
       "    <tr>\n",
       "      <th>3</th>\n",
       "      <td>AFG</td>\n",
       "      <td>2003</td>\n",
       "      <td>Afganistán</td>\n",
       "      <td>inflacion</td>\n",
       "      <td>6.5</td>\n",
       "    </tr>\n",
       "    <tr>\n",
       "      <th>4</th>\n",
       "      <td>AFG</td>\n",
       "      <td>2004</td>\n",
       "      <td>Afganistán</td>\n",
       "      <td>inflacion</td>\n",
       "      <td>13.3</td>\n",
       "    </tr>\n",
       "  </tbody>\n",
       "</table>\n",
       "</div>"
      ],
      "text/plain": [
       "  iso3  anio        pais  indicador  valor\n",
       "0  AFG  2000  Afganistán  inflacion    NaN\n",
       "1  AFG  2001  Afganistán  inflacion    NaN\n",
       "2  AFG  2002  Afganistán  inflacion    NaN\n",
       "3  AFG  2003  Afganistán  inflacion    6.5\n",
       "4  AFG  2004  Afganistán  inflacion   13.3"
      ]
     },
     "execution_count": 29,
     "metadata": {},
     "output_type": "execute_result"
    }
   ],
   "source": [
    "drop = drop_colx\n",
    "to_long = wide_to_longx\n",
    "renombrar = rename_colsx\n",
    "nomenclar_paises = partial(normalize_countriesx, map=pais)\n",
    "replace = replace_valuex\n",
    "sort = sort_vals_ascx\n",
    "exportar = lambda df: exportar_definitivo(archivo=archivo, folder=folder, df=df, nuevo_nombre=None)\n",
    "\n",
    "\n",
    "\n",
    "pipeline = chain(\n",
    "    nomenclar_paises(code_col='iso3', new_col=None, desc_col='pais'),\n",
    "    # drop(col=\"countryname\"),\n",
    "    to_long(primary_keys + ['pais']),\n",
    "    sort(primary_keys),\n",
    "    # renombrar({'iso3': 'cod_fundar','time':'anio'}),\n",
    "    # replace(col='pov_type', curr_value='with_transfers', new_value='Con transferencias'),\n",
    "    # replace(col='pov_type', curr_value='without_transfers', new_value='Sin transferencias'),\n",
    "    # replace(col='pov_type', curr_value='difference', new_value='Diferencia')\n",
    "    # drop('region_name'), \n",
    "    # renombrar({'time': 'anio'}),\n",
    "    # nomenclar_paises(code_col='cod_area', new_col=\"desc_area\"), \n",
    "    #renombrar({'iso3': 'pais'}),\n",
    "   \n",
    ")\n",
    "\n",
    "_df = pipeline(df)\n",
    "\n",
    "diccionario_cambios[archivo] = lista_cambios.copy()\n",
    "\n",
    "_df.head()"
   ]
  },
  {
   "cell_type": "code",
   "execution_count": 30,
   "metadata": {},
   "outputs": [
    {
     "data": {
      "text/plain": [
       "{'PRECIO_g01': ['Long estricto: [sector, valor] -> [sector, _valor, indicador]',\n",
       "  'Ordené las filas por las columnas: sector',\n",
       "  'Se renombraron las columnas: _valor:valor'],\n",
       " 'PRECIO_g02': ['Long estricto: [region, sector, valor] -> [region, sector, _valor, indicador]',\n",
       "  'Ordené las filas por las columnas: region, sector',\n",
       "  'Se renombraron las columnas: _valor:valor'],\n",
       " 'PRECIO_g03': ['Long estricto: [anio, inflacion_todos, inflacion_positivos] -> [anio, valor, indicador]',\n",
       "  'Ordené las filas por las columnas: anio'],\n",
       " 'PRECIO_g04': ['Usando los valores de la columna iso3, se normalizaron los nombres de las regiones/paises con el nomenclador vigente al 2024-05-20, cambiando los valores de la columna pais',\n",
       "  'Long estricto: [pais, iso3, inflacion_prom_07_22] -> [iso3, pais, valor, indicador]',\n",
       "  'Ordené las filas por las columnas: iso3'],\n",
       " 'PRECIO_g05': ['Usando los valores de la columna iso3, se normalizaron los nombres de las regiones/paises con el nomenclador vigente al 2024-05-20, cambiando los valores de la columna pais',\n",
       "  'Long estricto: [pais, iso3, anio, inflacion] -> [iso3, anio, pais, valor, indicador]',\n",
       "  'Ordené las filas por las columnas: iso3, anio']}"
      ]
     },
     "execution_count": 30,
     "metadata": {},
     "output_type": "execute_result"
    }
   ],
   "source": [
    "diccionario_cambios"
   ]
  },
  {
   "cell_type": "code",
   "execution_count": 31,
   "metadata": {},
   "outputs": [
    {
     "data": {
      "text/plain": [
       "('../output/PRECIO1/definitivos/PRECIO_g05.csv',\n",
       " '../output/PRECIO1/definitivos/PRECIO_g05_old.csv')"
      ]
     },
     "execution_count": 31,
     "metadata": {},
     "output_type": "execute_result"
    }
   ],
   "source": [
    "exportar(_df)"
   ]
  },
  {
   "cell_type": "markdown",
   "metadata": {},
   "source": [
    "PRECIO_g6.csv"
   ]
  },
  {
   "cell_type": "code",
   "execution_count": 32,
   "metadata": {},
   "outputs": [
    {
     "name": "stdout",
     "output_type": "stream",
     "text": [
      "grupo_de_paises anio\n"
     ]
    },
    {
     "data": {
      "text/html": [
       "<div>\n",
       "<style scoped>\n",
       "    .dataframe tbody tr th:only-of-type {\n",
       "        vertical-align: middle;\n",
       "    }\n",
       "\n",
       "    .dataframe tbody tr th {\n",
       "        vertical-align: top;\n",
       "    }\n",
       "\n",
       "    .dataframe thead th {\n",
       "        text-align: right;\n",
       "    }\n",
       "</style>\n",
       "<table border=\"1\" class=\"dataframe\">\n",
       "  <thead>\n",
       "    <tr style=\"text-align: right;\">\n",
       "      <th></th>\n",
       "      <th>grupo_de_paises</th>\n",
       "      <th>anio</th>\n",
       "      <th>mediana_paises_inflacion</th>\n",
       "    </tr>\n",
       "  </thead>\n",
       "  <tbody>\n",
       "    <tr>\n",
       "      <th>0</th>\n",
       "      <td>América Latina y Caribe</td>\n",
       "      <td>1980</td>\n",
       "      <td>21.206</td>\n",
       "    </tr>\n",
       "    <tr>\n",
       "      <th>1</th>\n",
       "      <td>América Latina y Caribe</td>\n",
       "      <td>1981</td>\n",
       "      <td>17.300</td>\n",
       "    </tr>\n",
       "    <tr>\n",
       "      <th>2</th>\n",
       "      <td>América Latina y Caribe</td>\n",
       "      <td>1982</td>\n",
       "      <td>20.687</td>\n",
       "    </tr>\n",
       "    <tr>\n",
       "      <th>3</th>\n",
       "      <td>América Latina y Caribe</td>\n",
       "      <td>1983</td>\n",
       "      <td>16.783</td>\n",
       "    </tr>\n",
       "    <tr>\n",
       "      <th>4</th>\n",
       "      <td>América Latina y Caribe</td>\n",
       "      <td>1984</td>\n",
       "      <td>25.100</td>\n",
       "    </tr>\n",
       "  </tbody>\n",
       "</table>\n",
       "</div>"
      ],
      "text/plain": [
       "           grupo_de_paises  anio  mediana_paises_inflacion\n",
       "0  América Latina y Caribe  1980                    21.206\n",
       "1  América Latina y Caribe  1981                    17.300\n",
       "2  América Latina y Caribe  1982                    20.687\n",
       "3  América Latina y Caribe  1983                    16.783\n",
       "4  América Latina y Caribe  1984                    25.100"
      ]
     },
     "execution_count": 32,
     "metadata": {},
     "output_type": "execute_result"
    }
   ],
   "source": [
    "SUBTOP = 'PRECIO'\n",
    "entrega = 1\n",
    "folder = f\"../output/{SUBTOP}{entrega}\"\n",
    "grafico_n = 6\n",
    "\n",
    "archivo = f\"{SUBTOP}_g{str(grafico_n).zfill(2)}\"\n",
    "df = pd.read_csv(f\"{folder}/definitivos/{archivo}.csv\")\n",
    "\n",
    "mapping = pd.read_csv(f'{folder}/internal_mapping.csv')\n",
    "mapping = {id:archivo for (_,_,archivo,id,_) in mapping.iloc}\n",
    "\n",
    "plantilla = pd.read_excel(f'../tmp/ArgenData-{SUBTOP}.xlsx', header=6)\n",
    "plantilla_slice = plantilla[plantilla.dataset_archivo == mapping[archivo]]\n",
    "\n",
    "primary_keys = plantilla_slice.variable_nombre[plantilla_slice.primary_key].unique().tolist()\n",
    "print(*primary_keys)\n",
    "df.head()"
   ]
  },
  {
   "cell_type": "code",
   "execution_count": 43,
   "metadata": {},
   "outputs": [
    {
     "data": {
      "text/plain": [
       "[('F5205', 'América Latina y El Caribe'),\n",
       " ('LAC', 'América Latina y el Caribe (excluidos Países de Altos Ingresos)'),\n",
       " ('LCN', 'América Latina y el Caribe'),\n",
       " ('TLA', 'América Latina y el Caribe (IDA y BIRF)')]"
      ]
     },
     "execution_count": 43,
     "metadata": {},
     "output_type": "execute_result"
    }
   ],
   "source": [
    "list(filter(lambda x: \"América Latina\" in x[1], pais.items()))"
   ]
  },
  {
   "cell_type": "code",
   "execution_count": 33,
   "metadata": {},
   "outputs": [
    {
     "data": {
      "text/html": [
       "<div>\n",
       "<style scoped>\n",
       "    .dataframe tbody tr th:only-of-type {\n",
       "        vertical-align: middle;\n",
       "    }\n",
       "\n",
       "    .dataframe tbody tr th {\n",
       "        vertical-align: top;\n",
       "    }\n",
       "\n",
       "    .dataframe thead th {\n",
       "        text-align: right;\n",
       "    }\n",
       "</style>\n",
       "<table border=\"1\" class=\"dataframe\">\n",
       "  <thead>\n",
       "    <tr style=\"text-align: right;\">\n",
       "      <th></th>\n",
       "      <th>grupo_de_paises</th>\n",
       "      <th>anio</th>\n",
       "      <th>indicador</th>\n",
       "      <th>valor</th>\n",
       "    </tr>\n",
       "  </thead>\n",
       "  <tbody>\n",
       "    <tr>\n",
       "      <th>0</th>\n",
       "      <td>América Latina y Caribe</td>\n",
       "      <td>1980</td>\n",
       "      <td>mediana_paises_inflacion</td>\n",
       "      <td>21.206</td>\n",
       "    </tr>\n",
       "    <tr>\n",
       "      <th>1</th>\n",
       "      <td>América Latina y Caribe</td>\n",
       "      <td>1981</td>\n",
       "      <td>mediana_paises_inflacion</td>\n",
       "      <td>17.300</td>\n",
       "    </tr>\n",
       "    <tr>\n",
       "      <th>2</th>\n",
       "      <td>América Latina y Caribe</td>\n",
       "      <td>1982</td>\n",
       "      <td>mediana_paises_inflacion</td>\n",
       "      <td>20.687</td>\n",
       "    </tr>\n",
       "    <tr>\n",
       "      <th>3</th>\n",
       "      <td>América Latina y Caribe</td>\n",
       "      <td>1983</td>\n",
       "      <td>mediana_paises_inflacion</td>\n",
       "      <td>16.783</td>\n",
       "    </tr>\n",
       "    <tr>\n",
       "      <th>4</th>\n",
       "      <td>América Latina y Caribe</td>\n",
       "      <td>1984</td>\n",
       "      <td>mediana_paises_inflacion</td>\n",
       "      <td>25.100</td>\n",
       "    </tr>\n",
       "  </tbody>\n",
       "</table>\n",
       "</div>"
      ],
      "text/plain": [
       "           grupo_de_paises  anio                 indicador   valor\n",
       "0  América Latina y Caribe  1980  mediana_paises_inflacion  21.206\n",
       "1  América Latina y Caribe  1981  mediana_paises_inflacion  17.300\n",
       "2  América Latina y Caribe  1982  mediana_paises_inflacion  20.687\n",
       "3  América Latina y Caribe  1983  mediana_paises_inflacion  16.783\n",
       "4  América Latina y Caribe  1984  mediana_paises_inflacion  25.100"
      ]
     },
     "execution_count": 33,
     "metadata": {},
     "output_type": "execute_result"
    }
   ],
   "source": [
    "drop = drop_colx\n",
    "to_long = wide_to_longx\n",
    "renombrar = rename_colsx\n",
    "nomenclar_paises = partial(normalize_countriesx, map=pais)\n",
    "replace = replace_valuex\n",
    "sort = sort_vals_ascx\n",
    "exportar = lambda df: exportar_definitivo(archivo=archivo, folder=folder, df=df, nuevo_nombre=None)\n",
    "\n",
    "\n",
    "\n",
    "pipeline = chain(\n",
    "    # nomenclar_paises(code_col='iso3c', new_col=None, desc_col='pais'),\n",
    "    # drop(col=\"countryname\"),\n",
    "    to_long(primary_keys),\n",
    "    sort(primary_keys),\n",
    "    # renombrar({'_valor': 'valor'}),\n",
    "    # replace(col='pov_type', curr_value='with_transfers', new_value='Con transferencias'),\n",
    "    # replace(col='pov_type', curr_value='without_transfers', new_value='Sin transferencias'),\n",
    "    # replace(col='pov_type', curr_value='difference', new_value='Diferencia')\n",
    "    # drop('region_name'), \n",
    "    # renombrar({'time': 'anio'}),\n",
    "    # nomenclar_paises(code_col='cod_area', new_col=\"desc_area\"), \n",
    "    #renombrar({'iso3': 'pais'}),\n",
    "   \n",
    ")\n",
    "\n",
    "_df = pipeline(df)\n",
    "\n",
    "diccionario_cambios[archivo] = lista_cambios.copy()\n",
    "\n",
    "_df.head()"
   ]
  },
  {
   "cell_type": "code",
   "execution_count": 34,
   "metadata": {},
   "outputs": [
    {
     "data": {
      "text/plain": [
       "{'PRECIO_g01': ['Long estricto: [sector, valor] -> [sector, _valor, indicador]',\n",
       "  'Ordené las filas por las columnas: sector',\n",
       "  'Se renombraron las columnas: _valor:valor'],\n",
       " 'PRECIO_g02': ['Long estricto: [region, sector, valor] -> [region, sector, _valor, indicador]',\n",
       "  'Ordené las filas por las columnas: region, sector',\n",
       "  'Se renombraron las columnas: _valor:valor'],\n",
       " 'PRECIO_g03': ['Long estricto: [anio, inflacion_todos, inflacion_positivos] -> [anio, valor, indicador]',\n",
       "  'Ordené las filas por las columnas: anio'],\n",
       " 'PRECIO_g04': ['Usando los valores de la columna iso3, se normalizaron los nombres de las regiones/paises con el nomenclador vigente al 2024-05-20, cambiando los valores de la columna pais',\n",
       "  'Long estricto: [pais, iso3, inflacion_prom_07_22] -> [iso3, pais, valor, indicador]',\n",
       "  'Ordené las filas por las columnas: iso3'],\n",
       " 'PRECIO_g05': ['Usando los valores de la columna iso3, se normalizaron los nombres de las regiones/paises con el nomenclador vigente al 2024-05-20, cambiando los valores de la columna pais',\n",
       "  'Long estricto: [pais, iso3, anio, inflacion] -> [iso3, anio, pais, valor, indicador]',\n",
       "  'Ordené las filas por las columnas: iso3, anio'],\n",
       " 'PRECIO_g06': ['Long estricto: [grupo_de_paises, anio, mediana_paises_inflacion] -> [grupo_de_paises, anio, valor, indicador]',\n",
       "  'Ordené las filas por las columnas: grupo_de_paises, anio']}"
      ]
     },
     "execution_count": 34,
     "metadata": {},
     "output_type": "execute_result"
    }
   ],
   "source": [
    "diccionario_cambios"
   ]
  },
  {
   "cell_type": "code",
   "execution_count": 35,
   "metadata": {},
   "outputs": [
    {
     "data": {
      "text/plain": [
       "('../output/PRECIO1/definitivos/PRECIO_g06.csv',\n",
       " '../output/PRECIO1/definitivos/PRECIO_g06_old.csv')"
      ]
     },
     "execution_count": 35,
     "metadata": {},
     "output_type": "execute_result"
    }
   ],
   "source": [
    "exportar(_df)"
   ]
  },
  {
   "cell_type": "markdown",
   "metadata": {},
   "source": [
    "PRECIO_g7.csv"
   ]
  },
  {
   "cell_type": "code",
   "execution_count": null,
   "metadata": {},
   "outputs": [],
   "source": [
    "SUBTOP = 'PRECIO'\n",
    "entrega = 1\n",
    "folder = f\"../output/{SUBTOP}{entrega}\"\n",
    "grafico_n = 7\n",
    "\n",
    "archivo = f\"{SUBTOP}_g{str(grafico_n).zfill(2)}\"\n",
    "df = pd.read_csv(f\"{folder}/definitivos/{archivo}.csv\")\n",
    "\n",
    "mapping = pd.read_csv(f'{folder}/internal_mapping.csv')\n",
    "mapping = {id:archivo for (_,_,archivo,id,_) in mapping.iloc}\n",
    "\n",
    "plantilla = pd.read_excel(f'../tmp/ArgenData-{SUBTOP}.xlsx', header=6)\n",
    "plantilla_slice = plantilla[plantilla.dataset_archivo == mapping[archivo]]\n",
    "\n",
    "primary_keys = plantilla_slice.variable_nombre[plantilla_slice.primary_key].unique().tolist()\n",
    "print(*primary_keys)\n",
    "df.head()"
   ]
  },
  {
   "cell_type": "code",
   "execution_count": null,
   "metadata": {},
   "outputs": [],
   "source": [
    "drop = drop_colx\n",
    "to_long = wide_to_longx\n",
    "renombrar = rename_colsx\n",
    "nomenclar_paises = partial(normalize_countriesx, map=pais)\n",
    "replace = replace_valuex\n",
    "sort = sort_vals_ascx\n",
    "exportar = lambda df: exportar_definitivo(archivo=archivo, folder=folder, df=df, nuevo_nombre=None)\n",
    "\n",
    "\n",
    "\n",
    "pipeline = chain(\n",
    "    # nomenclar_paises(code_col='iso3c', new_col=None, desc_col='pais'),\n",
    "    # drop(col=\"countryname\"),\n",
    "    to_long(primary_keys),\n",
    "    sort(primary_keys),\n",
    "    # renombrar({'iso3': 'cod_fundar','time':'anio'}),\n",
    "    # replace(col='pov_type', curr_value='with_transfers', new_value='Con transferencias'),\n",
    "    # replace(col='pov_type', curr_value='without_transfers', new_value='Sin transferencias'),\n",
    "    # replace(col='pov_type', curr_value='difference', new_value='Diferencia')\n",
    "    # drop('region_name'), \n",
    "    # renombrar({'time': 'anio'}),\n",
    "    # nomenclar_paises(code_col='cod_area', new_col=\"desc_area\"), \n",
    "    #renombrar({'iso3': 'pais'}),\n",
    "   \n",
    ")\n",
    "\n",
    "_df = pipeline(df)\n",
    "\n",
    "diccionario_cambios[archivo] = lista_cambios.copy()\n",
    "\n",
    "_df.head()"
   ]
  },
  {
   "cell_type": "code",
   "execution_count": null,
   "metadata": {},
   "outputs": [],
   "source": [
    "diccionario_cambios"
   ]
  },
  {
   "cell_type": "code",
   "execution_count": null,
   "metadata": {},
   "outputs": [],
   "source": [
    "exportar(_df)"
   ]
  },
  {
   "cell_type": "markdown",
   "metadata": {},
   "source": [
    "PRECIO_g8.csv"
   ]
  },
  {
   "cell_type": "code",
   "execution_count": null,
   "metadata": {},
   "outputs": [],
   "source": [
    "SUBTOP = 'PRECIO'\n",
    "entrega = 1\n",
    "folder = f\"../output/{SUBTOP}{entrega}\"\n",
    "grafico_n = 8\n",
    "\n",
    "archivo = f\"{SUBTOP}_g{str(grafico_n).zfill(2)}\"\n",
    "df = pd.read_csv(f\"{folder}/definitivos/{archivo}.csv\")\n",
    "\n",
    "mapping = pd.read_csv(f'{folder}/internal_mapping.csv')\n",
    "mapping = {id:archivo for (_,_,archivo,id,_) in mapping.iloc}\n",
    "\n",
    "plantilla = pd.read_excel(f'../tmp/ArgenData-{SUBTOP}.xlsx', header=6)\n",
    "plantilla_slice = plantilla[plantilla.dataset_archivo == mapping[archivo]]\n",
    "\n",
    "primary_keys = plantilla_slice.variable_nombre[plantilla_slice.primary_key].unique().tolist()\n",
    "print(*primary_keys)\n",
    "df.head()"
   ]
  },
  {
   "cell_type": "code",
   "execution_count": null,
   "metadata": {},
   "outputs": [],
   "source": [
    "drop = drop_colx\n",
    "to_long = wide_to_longx\n",
    "renombrar = rename_colsx\n",
    "nomenclar_paises = partial(normalize_countriesx, map=pais)\n",
    "replace = replace_valuex\n",
    "sort = sort_vals_ascx\n",
    "exportar = lambda df: exportar_definitivo(archivo=archivo, folder=folder, df=df, nuevo_nombre=None)\n",
    "\n",
    "\n",
    "\n",
    "pipeline = chain(\n",
    "    # nomenclar_paises(code_col='iso3c', new_col=None, desc_col='pais'),\n",
    "    # drop(col=\"countryname\"),\n",
    "    to_long(primary_keys),\n",
    "    sort(primary_keys),\n",
    "    # renombrar({'iso3': 'cod_fundar','time':'anio'}),\n",
    "    # replace(col='pov_type', curr_value='with_transfers', new_value='Con transferencias'),\n",
    "    # replace(col='pov_type', curr_value='without_transfers', new_value='Sin transferencias'),\n",
    "    # replace(col='pov_type', curr_value='difference', new_value='Diferencia')\n",
    "    # drop('region_name'), \n",
    "    # renombrar({'time': 'anio'}),\n",
    "    # nomenclar_paises(code_col='cod_area', new_col=\"desc_area\"), \n",
    "    #renombrar({'iso3': 'pais'}),\n",
    "   \n",
    ")\n",
    "\n",
    "_df = pipeline(df)\n",
    "\n",
    "diccionario_cambios[archivo] = lista_cambios.copy()\n",
    "\n",
    "_df.head()"
   ]
  },
  {
   "cell_type": "code",
   "execution_count": null,
   "metadata": {},
   "outputs": [],
   "source": [
    "diccionario_cambios"
   ]
  },
  {
   "cell_type": "code",
   "execution_count": null,
   "metadata": {},
   "outputs": [],
   "source": [
    "exportar(_df)"
   ]
  },
  {
   "cell_type": "markdown",
   "metadata": {},
   "source": [
    "PRECIO_g9.csv"
   ]
  },
  {
   "cell_type": "code",
   "execution_count": null,
   "metadata": {},
   "outputs": [],
   "source": [
    "SUBTOP = 'PRECIO'\n",
    "entrega = 1\n",
    "folder = f\"../output/{SUBTOP}{entrega}\"\n",
    "grafico_n = 9\n",
    "\n",
    "archivo = f\"{SUBTOP}_g{str(grafico_n).zfill(2)}\"\n",
    "df = pd.read_csv(f\"{folder}/definitivos/{archivo}.csv\")\n",
    "\n",
    "mapping = pd.read_csv(f'{folder}/internal_mapping.csv')\n",
    "mapping = {id:archivo for (_,_,archivo,id,_) in mapping.iloc}\n",
    "\n",
    "plantilla = pd.read_excel(f'../tmp/ArgenData-{SUBTOP}.xlsx', header=6)\n",
    "plantilla_slice = plantilla[plantilla.dataset_archivo == mapping[archivo]]\n",
    "\n",
    "primary_keys = plantilla_slice.variable_nombre[plantilla_slice.primary_key].unique().tolist()\n",
    "print(*primary_keys)\n",
    "df.head()"
   ]
  },
  {
   "cell_type": "code",
   "execution_count": null,
   "metadata": {},
   "outputs": [],
   "source": [
    "drop = drop_colx\n",
    "to_long = wide_to_longx\n",
    "renombrar = rename_colsx\n",
    "nomenclar_paises = partial(normalize_countriesx, map=pais)\n",
    "replace = replace_valuex\n",
    "sort = sort_vals_ascx\n",
    "exportar = lambda df: exportar_definitivo(archivo=archivo, folder=folder, df=df, nuevo_nombre=None)\n",
    "\n",
    "\n",
    "\n",
    "pipeline = chain(\n",
    "    # nomenclar_paises(code_col='iso3c', new_col=None, desc_col='pais'),\n",
    "    # drop(col=\"countryname\"),\n",
    "    to_long(primary_keys),\n",
    "    sort(primary_keys),\n",
    "    # renombrar({'iso3': 'cod_fundar','time':'anio'}),\n",
    "    # replace(col='pov_type', curr_value='with_transfers', new_value='Con transferencias'),\n",
    "    # replace(col='pov_type', curr_value='without_transfers', new_value='Sin transferencias'),\n",
    "    # replace(col='pov_type', curr_value='difference', new_value='Diferencia')\n",
    "    # drop('region_name'), \n",
    "    # renombrar({'time': 'anio'}),\n",
    "    # nomenclar_paises(code_col='cod_area', new_col=\"desc_area\"), \n",
    "    #renombrar({'iso3': 'pais'}),\n",
    "   \n",
    ")\n",
    "\n",
    "_df = pipeline(df)\n",
    "\n",
    "diccionario_cambios[archivo] = lista_cambios.copy()\n",
    "\n",
    "_df.head()"
   ]
  },
  {
   "cell_type": "code",
   "execution_count": null,
   "metadata": {},
   "outputs": [],
   "source": [
    "diccionario_cambios"
   ]
  },
  {
   "cell_type": "code",
   "execution_count": null,
   "metadata": {},
   "outputs": [],
   "source": [
    "exportar(_df)"
   ]
  },
  {
   "cell_type": "markdown",
   "metadata": {},
   "source": [
    "PRECIO_g10.csv"
   ]
  },
  {
   "cell_type": "code",
   "execution_count": null,
   "metadata": {},
   "outputs": [],
   "source": [
    "SUBTOP = 'PRECIO'\n",
    "entrega = 1\n",
    "folder = f\"../output/{SUBTOP}{entrega}\"\n",
    "grafico_n = 10\n",
    "\n",
    "archivo = f\"{SUBTOP}_g{str(grafico_n).zfill(2)}\"\n",
    "df = pd.read_csv(f\"{folder}/definitivos/{archivo}.csv\")\n",
    "\n",
    "mapping = pd.read_csv(f'{folder}/internal_mapping.csv')\n",
    "mapping = {id:archivo for (_,_,archivo,id,_) in mapping.iloc}\n",
    "\n",
    "plantilla = pd.read_excel(f'../tmp/ArgenData-{SUBTOP}.xlsx', header=6)\n",
    "plantilla_slice = plantilla[plantilla.dataset_archivo == mapping[archivo]]\n",
    "\n",
    "primary_keys = plantilla_slice.variable_nombre[plantilla_slice.primary_key].unique().tolist()\n",
    "print(*primary_keys)\n",
    "df.head()"
   ]
  },
  {
   "cell_type": "code",
   "execution_count": null,
   "metadata": {},
   "outputs": [],
   "source": [
    "drop = drop_colx\n",
    "to_long = wide_to_longx\n",
    "renombrar = rename_colsx\n",
    "nomenclar_paises = partial(normalize_countriesx, map=pais)\n",
    "replace = replace_valuex\n",
    "sort = sort_vals_ascx\n",
    "exportar = lambda df: exportar_definitivo(archivo=archivo, folder=folder, df=df, nuevo_nombre=None)\n",
    "\n",
    "\n",
    "\n",
    "pipeline = chain(\n",
    "    # nomenclar_paises(code_col='iso3c', new_col=None, desc_col='pais'),\n",
    "    # drop(col=\"countryname\"),\n",
    "    to_long(primary_keys),\n",
    "    sort(primary_keys),\n",
    "    # renombrar({'iso3': 'cod_fundar','time':'anio'}),\n",
    "    # replace(col='pov_type', curr_value='with_transfers', new_value='Con transferencias'),\n",
    "    # replace(col='pov_type', curr_value='without_transfers', new_value='Sin transferencias'),\n",
    "    # replace(col='pov_type', curr_value='difference', new_value='Diferencia')\n",
    "    # drop('region_name'), \n",
    "    # renombrar({'time': 'anio'}),\n",
    "    # nomenclar_paises(code_col='cod_area', new_col=\"desc_area\"), \n",
    "    #renombrar({'iso3': 'pais'}),\n",
    "   \n",
    ")\n",
    "\n",
    "_df = pipeline(df)\n",
    "\n",
    "diccionario_cambios[archivo] = lista_cambios.copy()\n",
    "\n",
    "_df.head()"
   ]
  },
  {
   "cell_type": "code",
   "execution_count": null,
   "metadata": {},
   "outputs": [],
   "source": [
    "diccionario_cambios"
   ]
  },
  {
   "cell_type": "code",
   "execution_count": null,
   "metadata": {},
   "outputs": [],
   "source": [
    "exportar(_df)"
   ]
  },
  {
   "cell_type": "markdown",
   "metadata": {},
   "source": [
    "PRECIO_g11.csv"
   ]
  },
  {
   "cell_type": "code",
   "execution_count": null,
   "metadata": {},
   "outputs": [],
   "source": [
    "SUBTOP = 'PRECIO'\n",
    "entrega = 1\n",
    "folder = f\"../output/{SUBTOP}{entrega}\"\n",
    "grafico_n = 11\n",
    "\n",
    "archivo = f\"{SUBTOP}_g{str(grafico_n).zfill(2)}\"\n",
    "df = pd.read_csv(f\"{folder}/definitivos/{archivo}.csv\")\n",
    "\n",
    "mapping = pd.read_csv(f'{folder}/internal_mapping.csv')\n",
    "mapping = {id:archivo for (_,_,archivo,id,_) in mapping.iloc}\n",
    "\n",
    "plantilla = pd.read_excel(f'../tmp/ArgenData-{SUBTOP}.xlsx', header=6)\n",
    "plantilla_slice = plantilla[plantilla.dataset_archivo == mapping[archivo]]\n",
    "\n",
    "primary_keys = plantilla_slice.variable_nombre[plantilla_slice.primary_key].unique().tolist()\n",
    "print(*primary_keys)\n",
    "df.head()"
   ]
  },
  {
   "cell_type": "code",
   "execution_count": null,
   "metadata": {},
   "outputs": [],
   "source": [
    "# m49_cod = paises[['m49_code_unsd', 'iso3_desc_fundar']].dropna(how=\"any\").sort_values(by=\"m49_code_unsd\").reset_index(drop=True)\n",
    "# m49_cod['m49_code_unsd'] = m49_cod['m49_code_unsd'].astype('int')\n",
    "# pais_m49_cod = {k:v for k,v in m49_cod.iloc}\n",
    "# codes_set_m49_cod = set(pais_m49_cod.keys())\n"
   ]
  },
  {
   "cell_type": "code",
   "execution_count": null,
   "metadata": {},
   "outputs": [],
   "source": [
    "drop = drop_colx\n",
    "to_long = wide_to_longx\n",
    "renombrar = rename_colsx\n",
    "nomenclar_paises = partial(normalize_countriesx, map=pais)\n",
    "replace = replace_valuex\n",
    "sort = sort_vals_ascx\n",
    "exportar = lambda df: exportar_definitivo(archivo=archivo, folder=folder, df=df, nuevo_nombre=None)\n",
    "\n",
    "\n",
    "\n",
    "pipeline = chain(\n",
    "    # nomenclar_paises(code_col='iso3', new_col=None, desc_col='pais'),\n",
    "    # drop(col=\"countryname\"),\n",
    "    to_long(primary_keys),\n",
    "    sort(primary_keys),\n",
    "    # renombrar({'iso3': 'cod_fundar','time':'anio'}),\n",
    "    # replace(col='pov_type', curr_value='with_transfers', new_value='Con transferencias'),\n",
    "    # replace(col='pov_type', curr_value='without_transfers', new_value='Sin transferencias'),\n",
    "    # replace(col='pov_type', curr_value='difference', new_value='Diferencia')\n",
    "    # drop('region_name'), \n",
    "    # renombrar({'time': 'anio'}),\n",
    "    # nomenclar_paises(code_col='cod_area', new_col=\"desc_area\"), \n",
    "    #renombrar({'iso3': 'pais'}),\n",
    "   \n",
    ")\n",
    "\n",
    "_df = pipeline(df)\n",
    "\n",
    "diccionario_cambios[archivo] = lista_cambios.copy()\n",
    "\n",
    "_df.head()"
   ]
  },
  {
   "cell_type": "code",
   "execution_count": null,
   "metadata": {},
   "outputs": [],
   "source": [
    "diccionario_cambios"
   ]
  },
  {
   "cell_type": "code",
   "execution_count": null,
   "metadata": {},
   "outputs": [],
   "source": [
    "exportar(_df)"
   ]
  },
  {
   "cell_type": "markdown",
   "metadata": {},
   "source": [
    "PRECIO_g12.csv"
   ]
  },
  {
   "cell_type": "code",
   "execution_count": null,
   "metadata": {},
   "outputs": [],
   "source": [
    "SUBTOP = 'PRECIO'\n",
    "entrega = 1\n",
    "folder = f\"../output/{SUBTOP}{entrega}\"\n",
    "grafico_n = 12\n",
    "\n",
    "archivo = f\"{SUBTOP}_g{str(grafico_n).zfill(2)}\"\n",
    "df = pd.read_csv(f\"{folder}/definitivos/{archivo}.csv\")\n",
    "\n",
    "mapping = pd.read_csv(f'{folder}/internal_mapping.csv')\n",
    "mapping = {id:archivo for (_,_,archivo,id,_) in mapping.iloc}\n",
    "\n",
    "plantilla = pd.read_excel(f'../tmp/ArgenData-{SUBTOP}.xlsx', header=6)\n",
    "plantilla_slice = plantilla[plantilla.dataset_archivo == mapping[archivo]]\n",
    "\n",
    "primary_keys = plantilla_slice.variable_nombre[plantilla_slice.primary_key].unique().tolist()\n",
    "print(*primary_keys)\n",
    "df.head()"
   ]
  },
  {
   "cell_type": "code",
   "execution_count": null,
   "metadata": {},
   "outputs": [],
   "source": [
    "drop = drop_colx\n",
    "to_long = wide_to_longx\n",
    "renombrar = rename_colsx\n",
    "nomenclar_paises = partial(normalize_countriesx, map=pais)\n",
    "replace = replace_valuex\n",
    "sort = sort_vals_ascx\n",
    "exportar = lambda df: exportar_definitivo(archivo=archivo, folder=folder, df=df, nuevo_nombre=None)\n",
    "\n",
    "\n",
    "\n",
    "pipeline = chain(\n",
    "    # nomenclar_paises(code_col='iso3', new_col=None, desc_col='pais'),\n",
    "    # drop(col=\"countryname\"),\n",
    "    to_long(primary_keys),\n",
    "    sort(primary_keys),\n",
    "    # renombrar({'iso3': 'cod_fundar','time':'anio'}),\n",
    "    # replace(col='pov_type', curr_value='with_transfers', new_value='Con transferencias'),\n",
    "    # replace(col='pov_type', curr_value='without_transfers', new_value='Sin transferencias'),\n",
    "    # replace(col='pov_type', curr_value='difference', new_value='Diferencia')\n",
    "    # drop('region_name'), \n",
    "    # renombrar({'time': 'anio'}),\n",
    "    # nomenclar_paises(code_col='cod_area', new_col=\"desc_area\"), \n",
    "    #renombrar({'iso3': 'pais'}),\n",
    "   \n",
    ")\n",
    "\n",
    "_df = pipeline(df)\n",
    "\n",
    "diccionario_cambios[archivo] = lista_cambios.copy()\n",
    "\n",
    "_df.head()"
   ]
  },
  {
   "cell_type": "code",
   "execution_count": null,
   "metadata": {},
   "outputs": [],
   "source": [
    "diccionario_cambios"
   ]
  },
  {
   "cell_type": "code",
   "execution_count": null,
   "metadata": {},
   "outputs": [],
   "source": [
    "exportar(_df)"
   ]
  },
  {
   "cell_type": "markdown",
   "metadata": {},
   "source": [
    "PRECIO_g13.csv"
   ]
  },
  {
   "cell_type": "code",
   "execution_count": null,
   "metadata": {},
   "outputs": [],
   "source": [
    "SUBTOP = 'PRECIO'\n",
    "entrega = 1\n",
    "folder = f\"../output/{SUBTOP}{entrega}\"\n",
    "grafico_n = 13\n",
    "\n",
    "archivo = f\"{SUBTOP}_g{str(grafico_n).zfill(2)}\"\n",
    "df = pd.read_csv(f\"{folder}/definitivos/{archivo}.csv\")\n",
    "\n",
    "mapping = pd.read_csv(f'{folder}/internal_mapping.csv')\n",
    "mapping = {id:archivo for (_,_,archivo,id,_) in mapping.iloc}\n",
    "\n",
    "plantilla = pd.read_excel(f'../tmp/ArgenData-{SUBTOP}.xlsx', header=6)\n",
    "plantilla_slice = plantilla[plantilla.dataset_archivo == mapping[archivo]]\n",
    "\n",
    "primary_keys = plantilla_slice.variable_nombre[plantilla_slice.primary_key].unique().tolist()\n",
    "print(*primary_keys)\n",
    "df.head()"
   ]
  },
  {
   "cell_type": "code",
   "execution_count": null,
   "metadata": {},
   "outputs": [],
   "source": [
    "drop = drop_colx\n",
    "to_long = wide_to_longx\n",
    "renombrar = rename_colsx\n",
    "nomenclar_paises = partial(normalize_countriesx, map=pais)\n",
    "replace = replace_valuex\n",
    "sort = sort_vals_ascx\n",
    "exportar = lambda df: exportar_definitivo(archivo=archivo, folder=folder, df=df, nuevo_nombre=None)\n",
    "\n",
    "\n",
    "\n",
    "pipeline = chain(\n",
    "    # nomenclar_paises(code_col='iso3', new_col=None, desc_col='pais'),\n",
    "    # drop(col=\"countryname\"),\n",
    "    to_long(primary_keys),\n",
    "    sort(primary_keys),\n",
    "    # renombrar({'iso3': 'cod_fundar','time':'anio'}),\n",
    "    # replace(col='pov_type', curr_value='with_transfers', new_value='Con transferencias'),\n",
    "    # replace(col='pov_type', curr_value='without_transfers', new_value='Sin transferencias'),\n",
    "    # replace(col='pov_type', curr_value='difference', new_value='Diferencia')\n",
    "    # drop('region_name'), \n",
    "    # renombrar({'time': 'anio'}),\n",
    "    # nomenclar_paises(code_col='cod_area', new_col=\"desc_area\"), \n",
    "    #renombrar({'iso3': 'pais'}),\n",
    "   \n",
    ")\n",
    "\n",
    "_df = pipeline(df)\n",
    "\n",
    "diccionario_cambios[archivo] = lista_cambios.copy()\n",
    "\n",
    "_df.head()"
   ]
  },
  {
   "cell_type": "code",
   "execution_count": null,
   "metadata": {},
   "outputs": [],
   "source": [
    "diccionario_cambios"
   ]
  },
  {
   "cell_type": "code",
   "execution_count": null,
   "metadata": {},
   "outputs": [],
   "source": [
    "exportar(_df)"
   ]
  },
  {
   "cell_type": "markdown",
   "metadata": {},
   "source": [
    "PRECIO_g14.csv"
   ]
  },
  {
   "cell_type": "code",
   "execution_count": null,
   "metadata": {},
   "outputs": [],
   "source": [
    "SUBTOP = 'PRECIO'\n",
    "entrega = 1\n",
    "folder = f\"../output/{SUBTOP}{entrega}\"\n",
    "grafico_n = 14\n",
    "\n",
    "archivo = f\"{SUBTOP}_g{str(grafico_n).zfill(2)}\"\n",
    "df = pd.read_csv(f\"{folder}/definitivos/{archivo}.csv\")\n",
    "\n",
    "mapping = pd.read_csv(f'{folder}/internal_mapping.csv')\n",
    "mapping = {id:archivo for (_,_,archivo,id,_) in mapping.iloc}\n",
    "\n",
    "plantilla = pd.read_excel(f'../tmp/ArgenData-{SUBTOP}.xlsx', header=6)\n",
    "plantilla_slice = plantilla[plantilla.dataset_archivo == mapping[archivo]]\n",
    "\n",
    "primary_keys = plantilla_slice.variable_nombre[plantilla_slice.primary_key].unique().tolist()\n",
    "print(*primary_keys)\n",
    "df.head()"
   ]
  },
  {
   "cell_type": "code",
   "execution_count": null,
   "metadata": {},
   "outputs": [],
   "source": [
    "drop = drop_colx\n",
    "to_long = wide_to_longx\n",
    "renombrar = rename_colsx\n",
    "nomenclar_paises = partial(normalize_countriesx, map=pais)\n",
    "replace = replace_valuex\n",
    "sort = sort_vals_ascx\n",
    "exportar = lambda df: exportar_definitivo(archivo=archivo, folder=folder, df=df, nuevo_nombre=None)\n",
    "\n",
    "\n",
    "\n",
    "pipeline = chain(\n",
    "    # nomenclar_paises(code_col='iso3', new_col=None, desc_col='iso3_desc_fundar'),\n",
    "    # drop(col=\"countryname\"),\n",
    "    to_long(primary_keys),\n",
    "    sort(primary_keys),\n",
    "    # renombrar({'_valor': 'valor'}),\n",
    "    # replace(col='pov_type', curr_value='with_transfers', new_value='Con transferencias'),\n",
    "    # replace(col='pov_type', curr_value='without_transfers', new_value='Sin transferencias'),\n",
    "    # replace(col='pov_type', curr_value='difference', new_value='Diferencia')\n",
    "    # drop('region_name'), \n",
    "    # renombrar({'time': 'anio'}),\n",
    "    # nomenclar_paises(code_col='cod_area', new_col=\"desc_area\"), \n",
    "    #renombrar({'iso3': 'pais'}),\n",
    "   \n",
    ")\n",
    "\n",
    "_df = pipeline(df)\n",
    "\n",
    "diccionario_cambios[archivo] = lista_cambios.copy()\n",
    "\n",
    "_df.head()"
   ]
  },
  {
   "cell_type": "code",
   "execution_count": null,
   "metadata": {},
   "outputs": [],
   "source": [
    "diccionario_cambios"
   ]
  },
  {
   "cell_type": "code",
   "execution_count": null,
   "metadata": {},
   "outputs": [],
   "source": [
    "exportar(_df)"
   ]
  },
  {
   "cell_type": "markdown",
   "metadata": {},
   "source": [
    "PRECIO_g15.csv"
   ]
  },
  {
   "cell_type": "code",
   "execution_count": null,
   "metadata": {},
   "outputs": [],
   "source": [
    "SUBTOP = 'PRECIO'\n",
    "entrega = 1\n",
    "folder = f\"../output/{SUBTOP}{entrega}\"\n",
    "grafico_n = 15\n",
    "\n",
    "archivo = f\"{SUBTOP}_g{str(grafico_n).zfill(2)}\"\n",
    "df = pd.read_csv(f\"{folder}/definitivos/{archivo}.csv\")\n",
    "\n",
    "mapping = pd.read_csv(f'{folder}/internal_mapping.csv')\n",
    "mapping = {id:archivo for (_,_,archivo,id,_) in mapping.iloc}\n",
    "\n",
    "plantilla = pd.read_excel(f'../tmp/ArgenData-{SUBTOP}.xlsx', header=6)\n",
    "plantilla_slice = plantilla[plantilla.dataset_archivo == mapping[archivo]]\n",
    "\n",
    "primary_keys = plantilla_slice.variable_nombre[plantilla_slice.primary_key].unique().tolist()\n",
    "print(*primary_keys)\n",
    "df.head()"
   ]
  },
  {
   "cell_type": "code",
   "execution_count": null,
   "metadata": {},
   "outputs": [],
   "source": [
    "drop = drop_colx\n",
    "to_long = wide_to_longx\n",
    "renombrar = rename_colsx\n",
    "nomenclar_paises = partial(normalize_countriesx, map=pais)\n",
    "replace = replace_valuex\n",
    "sort = sort_vals_ascx\n",
    "exportar = lambda df: exportar_definitivo(archivo=archivo, folder=folder, df=df, nuevo_nombre=None)\n",
    "\n",
    "\n",
    "\n",
    "pipeline = chain(\n",
    "    # nomenclar_paises(code_col='iso3', new_col=None, desc_col='iso3_desc_fundar'),\n",
    "    # drop(col=\"countryname\"),\n",
    "    to_long(primary_keys),\n",
    "    sort(primary_keys),\n",
    "    # renombrar({'_valor': 'valor'}),\n",
    "    # replace(col='pov_type', curr_value='with_transfers', new_value='Con transferencias'),\n",
    "    # replace(col='pov_type', curr_value='without_transfers', new_value='Sin transferencias'),\n",
    "    # replace(col='pov_type', curr_value='difference', new_value='Diferencia')\n",
    "    # drop('region_name'), \n",
    "    # renombrar({'time': 'anio'}),\n",
    "    # nomenclar_paises(code_col='cod_area', new_col=\"desc_area\"), \n",
    "    #renombrar({'iso3': 'pais'}),\n",
    "   \n",
    ")\n",
    "\n",
    "_df = pipeline(df)\n",
    "\n",
    "diccionario_cambios[archivo] = lista_cambios.copy()\n",
    "\n",
    "_df.head()"
   ]
  },
  {
   "cell_type": "code",
   "execution_count": null,
   "metadata": {},
   "outputs": [],
   "source": [
    "diccionario_cambios"
   ]
  },
  {
   "cell_type": "code",
   "execution_count": null,
   "metadata": {},
   "outputs": [],
   "source": [
    "exportar(_df)"
   ]
  },
  {
   "cell_type": "markdown",
   "metadata": {},
   "source": [
    "PRECIO_g16.csv"
   ]
  },
  {
   "cell_type": "code",
   "execution_count": null,
   "metadata": {},
   "outputs": [],
   "source": [
    "SUBTOP = 'PRECIO'\n",
    "entrega = 1\n",
    "folder = f\"../output/{SUBTOP}{entrega}\"\n",
    "grafico_n = 16\n",
    "\n",
    "archivo = f\"{SUBTOP}_g{str(grafico_n).zfill(2)}\"\n",
    "df = pd.read_csv(f\"{folder}/definitivos/{archivo}.csv\")\n",
    "\n",
    "mapping = pd.read_csv(f'{folder}/internal_mapping.csv')\n",
    "mapping = {id:archivo for (_,_,archivo,id,_) in mapping.iloc}\n",
    "\n",
    "plantilla = pd.read_excel(f'../tmp/ArgenData-{SUBTOP}.xlsx', header=6)\n",
    "plantilla_slice = plantilla[plantilla.dataset_archivo == mapping[archivo]]\n",
    "\n",
    "primary_keys = plantilla_slice.variable_nombre[plantilla_slice.primary_key].unique().tolist()\n",
    "print(*primary_keys)\n",
    "df.head()"
   ]
  },
  {
   "cell_type": "code",
   "execution_count": null,
   "metadata": {},
   "outputs": [],
   "source": [
    "drop = drop_colx\n",
    "to_long = wide_to_longx\n",
    "renombrar = rename_colsx\n",
    "nomenclar_paises = partial(normalize_countriesx, map=pais)\n",
    "replace = replace_valuex\n",
    "sort = sort_vals_ascx\n",
    "exportar = lambda df: exportar_definitivo(archivo=archivo, folder=folder, df=df, nuevo_nombre=None)\n",
    "\n",
    "\n",
    "\n",
    "pipeline = chain(\n",
    "    # nomenclar_paises(code_col='iso3', new_col=None, desc_col='iso3_desc_fundar'),\n",
    "    # drop(col=\"countryname\"),\n",
    "    to_long(primary_keys),\n",
    "    sort(primary_keys),\n",
    "    # renombrar({'_valor': 'valor'}),\n",
    "    # replace(col='pov_type', curr_value='with_transfers', new_value='Con transferencias'),\n",
    "    # replace(col='pov_type', curr_value='without_transfers', new_value='Sin transferencias'),\n",
    "    # replace(col='pov_type', curr_value='difference', new_value='Diferencia')\n",
    "    # drop('region_name'), \n",
    "    # renombrar({'time': 'anio'}),\n",
    "    # nomenclar_paises(code_col='cod_area', new_col=\"desc_area\"), \n",
    "    #renombrar({'iso3': 'pais'}),\n",
    "   \n",
    ")\n",
    "\n",
    "_df = pipeline(df)\n",
    "\n",
    "diccionario_cambios[archivo] = lista_cambios.copy()\n",
    "\n",
    "_df.head()"
   ]
  },
  {
   "cell_type": "code",
   "execution_count": null,
   "metadata": {},
   "outputs": [],
   "source": [
    "diccionario_cambios"
   ]
  },
  {
   "cell_type": "code",
   "execution_count": null,
   "metadata": {},
   "outputs": [],
   "source": [
    "exportar(_df)"
   ]
  },
  {
   "cell_type": "markdown",
   "metadata": {},
   "source": [
    "PRECIO_g17.csv"
   ]
  },
  {
   "cell_type": "code",
   "execution_count": null,
   "metadata": {},
   "outputs": [],
   "source": [
    "SUBTOP = 'PRECIO'\n",
    "entrega = 1\n",
    "folder = f\"../output/{SUBTOP}{entrega}\"\n",
    "grafico_n = 17\n",
    "\n",
    "archivo = f\"{SUBTOP}_g{str(grafico_n).zfill(2)}\"\n",
    "df = pd.read_csv(f\"{folder}/definitivos/{archivo}.csv\")\n",
    "\n",
    "mapping = pd.read_csv(f'{folder}/internal_mapping.csv')\n",
    "mapping = {id:archivo for (_,_,archivo,id,_) in mapping.iloc}\n",
    "\n",
    "plantilla = pd.read_excel(f'../tmp/ArgenData-{SUBTOP}.xlsx', header=6)\n",
    "plantilla_slice = plantilla[plantilla.dataset_archivo == mapping[archivo]]\n",
    "\n",
    "primary_keys = plantilla_slice.variable_nombre[plantilla_slice.primary_key].unique().tolist()\n",
    "print(*primary_keys)\n",
    "df.head()"
   ]
  },
  {
   "cell_type": "code",
   "execution_count": null,
   "metadata": {},
   "outputs": [],
   "source": [
    "drop = drop_colx\n",
    "to_long = wide_to_longx\n",
    "renombrar = rename_colsx\n",
    "nomenclar_paises = partial(normalize_countriesx, map=pais)\n",
    "replace = replace_valuex\n",
    "sort = sort_vals_ascx\n",
    "exportar = lambda df: exportar_definitivo(archivo=archivo, folder=folder, df=df, nuevo_nombre=None)\n",
    "\n",
    "\n",
    "\n",
    "pipeline = chain(\n",
    "    # nomenclar_paises(code_col='iso3', new_col=None, desc_col='pais'),\n",
    "    # drop(col=\"countryname\"),\n",
    "    to_long(primary_keys),\n",
    "    sort(primary_keys),\n",
    "    # renombrar({'_valor':'valor'}),\n",
    "    # replace(col='pov_type', curr_value='with_transfers', new_value='Con transferencias'),\n",
    "    # replace(col='pov_type', curr_value='without_transfers', new_value='Sin transferencias'),\n",
    "    # replace(col='pov_type', curr_value='difference', new_value='Diferencia')\n",
    "    # drop('region_name'), \n",
    "    # renombrar({'time': 'anio'}),\n",
    "    # nomenclar_paises(code_col='cod_area', new_col=\"desc_area\"), \n",
    "    #renombrar({'iso3': 'pais'}),\n",
    "   \n",
    ")\n",
    "\n",
    "_df = pipeline(df)\n",
    "\n",
    "diccionario_cambios[archivo] = lista_cambios.copy()\n",
    "\n",
    "_df.head()"
   ]
  },
  {
   "cell_type": "code",
   "execution_count": null,
   "metadata": {},
   "outputs": [],
   "source": [
    "diccionario_cambios"
   ]
  },
  {
   "cell_type": "code",
   "execution_count": null,
   "metadata": {},
   "outputs": [],
   "source": [
    "exportar(_df)"
   ]
  },
  {
   "cell_type": "markdown",
   "metadata": {},
   "source": [
    "PRECIO_g18.csv"
   ]
  },
  {
   "cell_type": "code",
   "execution_count": null,
   "metadata": {},
   "outputs": [],
   "source": [
    "SUBTOP = 'PRECIO'\n",
    "entrega = 1\n",
    "folder = f\"../output/{SUBTOP}{entrega}\"\n",
    "grafico_n = 18\n",
    "\n",
    "archivo = f\"{SUBTOP}_g{str(grafico_n).zfill(2)}\"\n",
    "df = pd.read_csv(f\"{folder}/definitivos/{archivo}.csv\")\n",
    "\n",
    "mapping = pd.read_csv(f'{folder}/internal_mapping.csv')\n",
    "mapping = {id:archivo for (_,_,archivo,id,_) in mapping.iloc}\n",
    "\n",
    "plantilla = pd.read_excel(f'../tmp/ArgenData-{SUBTOP}.xlsx', header=6)\n",
    "plantilla_slice = plantilla[plantilla.dataset_archivo == mapping[archivo]]\n",
    "\n",
    "primary_keys = plantilla_slice.variable_nombre[plantilla_slice.primary_key].unique().tolist()\n",
    "print(*primary_keys)\n",
    "df.head()"
   ]
  },
  {
   "cell_type": "code",
   "execution_count": null,
   "metadata": {},
   "outputs": [],
   "source": [
    "drop = drop_colx\n",
    "to_long = wide_to_longx\n",
    "renombrar = rename_colsx\n",
    "nomenclar_paises = partial(normalize_countriesx, map=pais)\n",
    "replace = replace_valuex\n",
    "sort = sort_vals_ascx\n",
    "exportar = lambda df: exportar_definitivo(archivo=archivo, folder=folder, df=df, nuevo_nombre=None)\n",
    "\n",
    "\n",
    "\n",
    "pipeline = chain(\n",
    "    # nomenclar_paises(code_col='iso3', new_col=None, desc_col='pais'),\n",
    "    # drop(col=\"countryname\"),\n",
    "    to_long(primary_keys),\n",
    "    sort(primary_keys),\n",
    "    # renombrar({'_valor':'valor'}),\n",
    "    # replace(col='pov_type', curr_value='with_transfers', new_value='Con transferencias'),\n",
    "    # replace(col='pov_type', curr_value='without_transfers', new_value='Sin transferencias'),\n",
    "    # replace(col='pov_type', curr_value='difference', new_value='Diferencia')\n",
    "    # drop('region_name'), \n",
    "    # renombrar({'time': 'anio'}),\n",
    "    # nomenclar_paises(code_col='cod_area', new_col=\"desc_area\"), \n",
    "    #renombrar({'iso3': 'pais'}),\n",
    "   \n",
    ")\n",
    "\n",
    "_df = pipeline(df)\n",
    "\n",
    "diccionario_cambios[archivo] = lista_cambios.copy()\n",
    "\n",
    "_df.head()"
   ]
  },
  {
   "cell_type": "code",
   "execution_count": null,
   "metadata": {},
   "outputs": [],
   "source": [
    "diccionario_cambios"
   ]
  },
  {
   "cell_type": "code",
   "execution_count": null,
   "metadata": {},
   "outputs": [],
   "source": [
    "exportar(_df)"
   ]
  },
  {
   "cell_type": "markdown",
   "metadata": {},
   "source": [
    "PRECIO_g12.csv"
   ]
  },
  {
   "cell_type": "code",
   "execution_count": null,
   "metadata": {},
   "outputs": [],
   "source": [
    "SUBTOP = 'PRECIO'\n",
    "entrega = 1\n",
    "folder = f\"../output/{SUBTOP}{entrega}\"\n",
    "grafico_n = 19\n",
    "\n",
    "archivo = f\"{SUBTOP}_g{str(grafico_n).zfill(2)}\"\n",
    "df = pd.read_csv(f\"{folder}/definitivos/{archivo}.csv\")\n",
    "\n",
    "mapping = pd.read_csv(f'{folder}/internal_mapping.csv')\n",
    "mapping = {id:archivo for (_,_,archivo,id,_) in mapping.iloc}\n",
    "\n",
    "plantilla = pd.read_excel(f'../tmp/ArgenData-{SUBTOP}.xlsx', header=6)\n",
    "plantilla_slice = plantilla[plantilla.dataset_archivo == mapping[archivo]]\n",
    "\n",
    "primary_keys = plantilla_slice.variable_nombre[plantilla_slice.primary_key].unique().tolist()\n",
    "print(*primary_keys)\n",
    "df.head()"
   ]
  },
  {
   "cell_type": "code",
   "execution_count": null,
   "metadata": {},
   "outputs": [],
   "source": [
    "drop = drop_colx\n",
    "to_long = wide_to_longx\n",
    "renombrar = rename_colsx\n",
    "nomenclar_paises = partial(normalize_countriesx, map=pais)\n",
    "replace = replace_valuex\n",
    "sort = sort_vals_ascx\n",
    "exportar = lambda df: exportar_definitivo(archivo=archivo, folder=folder, df=df, nuevo_nombre=None)\n",
    "\n",
    "\n",
    "\n",
    "pipeline = chain(\n",
    "    # nomenclar_paises(code_col='iso3', new_col=None, desc_col='iso3_desc_fundar'),\n",
    "    # drop(col=\"countryname\"),\n",
    "    to_long(primary_keys),\n",
    "    sort(primary_keys),\n",
    "    # renombrar({'_valor': 'valor'}),\n",
    "    # replace(col='pov_type', curr_value='with_transfers', new_value='Con transferencias'),\n",
    "    # replace(col='pov_type', curr_value='without_transfers', new_value='Sin transferencias'),\n",
    "    # replace(col='pov_type', curr_value='difference', new_value='Diferencia')\n",
    "    # drop('region_name'), \n",
    "    # renombrar({'time': 'anio'}),\n",
    "    # nomenclar_paises(code_col='cod_area', new_col=\"desc_area\"), \n",
    "    #renombrar({'iso3': 'pais'}),\n",
    "   \n",
    ")\n",
    "\n",
    "_df = pipeline(df)\n",
    "\n",
    "diccionario_cambios[archivo] = lista_cambios.copy()\n",
    "\n",
    "_df.head()"
   ]
  },
  {
   "cell_type": "code",
   "execution_count": null,
   "metadata": {},
   "outputs": [],
   "source": [
    "diccionario_cambios"
   ]
  },
  {
   "cell_type": "code",
   "execution_count": null,
   "metadata": {},
   "outputs": [],
   "source": [
    "exportar(_df)"
   ]
  },
  {
   "cell_type": "markdown",
   "metadata": {},
   "source": [
    "PRECIO_g20.csv"
   ]
  },
  {
   "cell_type": "code",
   "execution_count": null,
   "metadata": {},
   "outputs": [],
   "source": [
    "SUBTOP = 'PRECIO'\n",
    "entrega = 1\n",
    "folder = f\"../output/{SUBTOP}{entrega}\"\n",
    "grafico_n = 20\n",
    "\n",
    "archivo = f\"{SUBTOP}_g{str(grafico_n).zfill(2)}\"\n",
    "df = pd.read_csv(f\"{folder}/definitivos/{archivo}.csv\")\n",
    "\n",
    "mapping = pd.read_csv(f'{folder}/internal_mapping.csv')\n",
    "mapping = {id:archivo for (_,_,archivo,id,_) in mapping.iloc}\n",
    "\n",
    "plantilla = pd.read_excel(f'../tmp/ArgenData-{SUBTOP}.xlsx', header=6)\n",
    "plantilla_slice = plantilla[plantilla.dataset_archivo == mapping[archivo]]\n",
    "\n",
    "primary_keys = plantilla_slice.variable_nombre[plantilla_slice.primary_key].unique().tolist()\n",
    "print(*primary_keys)\n",
    "df.head()"
   ]
  },
  {
   "cell_type": "code",
   "execution_count": null,
   "metadata": {},
   "outputs": [],
   "source": [
    "drop = drop_colx\n",
    "to_long = wide_to_longx\n",
    "renombrar = rename_colsx\n",
    "nomenclar_paises = partial(normalize_countriesx, map=pais)\n",
    "replace = replace_valuex\n",
    "sort = sort_vals_ascx\n",
    "exportar = lambda df: exportar_definitivo(archivo=archivo, folder=folder, df=df, nuevo_nombre=None)\n",
    "\n",
    "\n",
    "\n",
    "pipeline = chain(\n",
    "    # nomenclar_paises(code_col='iso3', new_col=None, desc_col='iso3_desc_fundar'),\n",
    "    # drop(col=\"countryname\"),\n",
    "    to_long(primary_keys),\n",
    "    sort(primary_keys),\n",
    "    # renombrar({'_valor':'valor'}),\n",
    "    # replace(col='pov_type', curr_value='with_transfers', new_value='Con transferencias'),\n",
    "    # replace(col='pov_type', curr_value='without_transfers', new_value='Sin transferencias'),\n",
    "    # replace(col='pov_type', curr_value='difference', new_value='Diferencia')\n",
    "    # drop('region_name'), \n",
    "    # renombrar({'time': 'anio'}),\n",
    "    # nomenclar_paises(code_col='cod_area', new_col=\"desc_area\"), \n",
    "    #renombrar({'iso3': 'pais'}),\n",
    "   \n",
    ")\n",
    "\n",
    "_df = pipeline(df)\n",
    "\n",
    "diccionario_cambios[archivo] = lista_cambios.copy()\n",
    "\n",
    "_df.head()"
   ]
  },
  {
   "cell_type": "code",
   "execution_count": null,
   "metadata": {},
   "outputs": [],
   "source": [
    "diccionario_cambios"
   ]
  },
  {
   "cell_type": "code",
   "execution_count": null,
   "metadata": {},
   "outputs": [],
   "source": [
    "exportar(_df)"
   ]
  },
  {
   "cell_type": "markdown",
   "metadata": {},
   "source": [
    "PRECIO_g21.csv"
   ]
  },
  {
   "cell_type": "code",
   "execution_count": null,
   "metadata": {},
   "outputs": [],
   "source": [
    "SUBTOP = 'PRECIO'\n",
    "entrega = 1\n",
    "folder = f\"../output/{SUBTOP}{entrega}\"\n",
    "grafico_n = 21\n",
    "\n",
    "archivo = f\"{SUBTOP}_g{str(grafico_n).zfill(2)}\"\n",
    "df = pd.read_csv(f\"{folder}/definitivos/{archivo}.csv\")\n",
    "\n",
    "mapping = pd.read_csv(f'{folder}/internal_mapping.csv')\n",
    "mapping = {id:archivo for (_,_,archivo,id,_) in mapping.iloc}\n",
    "\n",
    "plantilla = pd.read_excel(f'../tmp/ArgenData-{SUBTOP}.xlsx', header=6)\n",
    "plantilla_slice = plantilla[plantilla.dataset_archivo == mapping[archivo]]\n",
    "\n",
    "primary_keys = plantilla_slice.variable_nombre[plantilla_slice.primary_key].unique().tolist()\n",
    "print(*primary_keys)\n",
    "df.head()"
   ]
  },
  {
   "cell_type": "code",
   "execution_count": null,
   "metadata": {},
   "outputs": [],
   "source": [
    "drop = drop_colx\n",
    "to_long = wide_to_longx\n",
    "renombrar = rename_colsx\n",
    "nomenclar_paises = partial(normalize_countriesx, map=pais)\n",
    "replace = replace_valuex\n",
    "sort = sort_vals_ascx\n",
    "exportar = lambda df: exportar_definitivo(archivo=archivo, folder=folder, df=df, nuevo_nombre=None)\n",
    "\n",
    "\n",
    "\n",
    "pipeline = chain(\n",
    "    # nomenclar_paises(code_col='iso3', new_col=None, desc_col='iso3_desc_fundar'),\n",
    "    # drop(col=\"countryname\"),\n",
    "    to_long(primary_keys),\n",
    "    sort(primary_keys),\n",
    "    # renombrar({'_valor':'valor'}),\n",
    "    # replace(col='pov_type', curr_value='with_transfers', new_value='Con transferencias'),\n",
    "    # replace(col='pov_type', curr_value='without_transfers', new_value='Sin transferencias'),\n",
    "    # replace(col='pov_type', curr_value='difference', new_value='Diferencia')\n",
    "    # drop('region_name'), \n",
    "    # renombrar({'time': 'anio'}),\n",
    "    # nomenclar_paises(code_col='cod_area', new_col=\"desc_area\"), \n",
    "    #renombrar({'iso3': 'pais'}),\n",
    "   \n",
    ")\n",
    "\n",
    "_df = pipeline(df)\n",
    "\n",
    "diccionario_cambios[archivo] = lista_cambios.copy()\n",
    "\n",
    "_df.head()"
   ]
  },
  {
   "cell_type": "code",
   "execution_count": null,
   "metadata": {},
   "outputs": [],
   "source": [
    "diccionario_cambios"
   ]
  },
  {
   "cell_type": "code",
   "execution_count": null,
   "metadata": {},
   "outputs": [],
   "source": [
    "exportar(_df)"
   ]
  },
  {
   "cell_type": "markdown",
   "metadata": {},
   "source": [
    "PRECIO_g22.csv"
   ]
  },
  {
   "cell_type": "code",
   "execution_count": null,
   "metadata": {},
   "outputs": [],
   "source": [
    "SUBTOP = 'PRECIO'\n",
    "entrega = 1\n",
    "folder = f\"../output/{SUBTOP}{entrega}\"\n",
    "grafico_n = 22\n",
    "\n",
    "archivo = f\"{SUBTOP}_g{str(grafico_n).zfill(2)}\"\n",
    "df = pd.read_csv(f\"{folder}/definitivos/{archivo}.csv\")\n",
    "\n",
    "mapping = pd.read_csv(f'{folder}/internal_mapping.csv')\n",
    "mapping = {id:archivo for (_,_,archivo,id,_) in mapping.iloc}\n",
    "\n",
    "plantilla = pd.read_excel(f'../tmp/ArgenData-{SUBTOP}.xlsx', header=6)\n",
    "plantilla_slice = plantilla[plantilla.dataset_archivo == mapping[archivo]]\n",
    "\n",
    "primary_keys = plantilla_slice.variable_nombre[plantilla_slice.primary_key].unique().tolist()\n",
    "print(*primary_keys)\n",
    "df.head()"
   ]
  },
  {
   "cell_type": "code",
   "execution_count": null,
   "metadata": {},
   "outputs": [],
   "source": [
    "drop = drop_colx\n",
    "to_long = wide_to_longx\n",
    "renombrar = rename_colsx\n",
    "nomenclar_paises = partial(normalize_countriesx, map=pais)\n",
    "replace = replace_valuex\n",
    "sort = sort_vals_ascx\n",
    "exportar = lambda df: exportar_definitivo(archivo=archivo, folder=folder, df=df, nuevo_nombre=None)\n",
    "\n",
    "\n",
    "\n",
    "pipeline = chain(\n",
    "    nomenclar_paises(code_col='iso3', new_col=None, desc_col=None),\n",
    "    # drop(col=\"countryname\"),\n",
    "    to_long(primary_keys),\n",
    "    sort(primary_keys),\n",
    "    # renombrar({'_valor':'valor'}),\n",
    "    # replace(col='pov_type', curr_value='with_transfers', new_value='Con transferencias'),\n",
    "    # replace(col='pov_type', curr_value='without_transfers', new_value='Sin transferencias'),\n",
    "    # replace(col='pov_type', curr_value='difference', new_value='Diferencia')\n",
    "    # drop('region_name'), \n",
    "    # renombrar({'time': 'anio'}),\n",
    "    # nomenclar_paises(code_col='cod_area', new_col=\"desc_area\"), \n",
    "    #renombrar({'iso3': 'pais'}),\n",
    "   \n",
    ")\n",
    "\n",
    "_df = pipeline(df)\n",
    "\n",
    "diccionario_cambios[archivo] = lista_cambios.copy()\n",
    "\n",
    "_df.head()"
   ]
  },
  {
   "cell_type": "code",
   "execution_count": null,
   "metadata": {},
   "outputs": [],
   "source": [
    "diccionario_cambios"
   ]
  },
  {
   "cell_type": "code",
   "execution_count": null,
   "metadata": {},
   "outputs": [],
   "source": [
    "exportar(_df)"
   ]
  },
  {
   "cell_type": "markdown",
   "metadata": {},
   "source": [
    "PRECIO_g23.csv"
   ]
  },
  {
   "cell_type": "code",
   "execution_count": null,
   "metadata": {},
   "outputs": [],
   "source": [
    "SUBTOP = 'PRECIO'\n",
    "entrega = 1\n",
    "folder = f\"../output/{SUBTOP}{entrega}\"\n",
    "grafico_n = 23\n",
    "\n",
    "archivo = f\"{SUBTOP}_g{str(grafico_n).zfill(2)}\"\n",
    "df = pd.read_csv(f\"{folder}/definitivos/{archivo}.csv\")\n",
    "\n",
    "mapping = pd.read_csv(f'{folder}/internal_mapping.csv')\n",
    "mapping = {id:archivo for (_,_,archivo,id,_) in mapping.iloc}\n",
    "\n",
    "plantilla = pd.read_excel(f'../tmp/ArgenData-{SUBTOP}.xlsx', header=6)\n",
    "plantilla_slice = plantilla[plantilla.dataset_archivo == mapping[archivo]]\n",
    "\n",
    "primary_keys = plantilla_slice.variable_nombre[plantilla_slice.primary_key].unique().tolist()\n",
    "print(*primary_keys)\n",
    "df.head()"
   ]
  },
  {
   "cell_type": "code",
   "execution_count": null,
   "metadata": {},
   "outputs": [],
   "source": [
    "drop = drop_colx\n",
    "to_long = wide_to_longx\n",
    "renombrar = rename_colsx\n",
    "nomenclar_paises = partial(normalize_countriesx, map=pais)\n",
    "replace = replace_valuex\n",
    "sort = sort_vals_ascx\n",
    "exportar = lambda df: exportar_definitivo(archivo=archivo, folder=folder, df=df, nuevo_nombre=None)\n",
    "\n",
    "\n",
    "\n",
    "pipeline = chain(\n",
    "    nomenclar_paises(code_col='iso3', new_col=None, desc_col=None),\n",
    "    # drop(col=\"countryname\"),\n",
    "    to_long(primary_keys),\n",
    "    sort(primary_keys),\n",
    "    # renombrar({'_valor':'valor'}),\n",
    "    # replace(col='pov_type', curr_value='with_transfers', new_value='Con transferencias'),\n",
    "    # replace(col='pov_type', curr_value='without_transfers', new_value='Sin transferencias'),\n",
    "    # replace(col='pov_type', curr_value='difference', new_value='Diferencia')\n",
    "    # drop('region_name'), \n",
    "    # renombrar({'time': 'anio'}),\n",
    "    # nomenclar_paises(code_col='cod_area', new_col=\"desc_area\"), \n",
    "    #renombrar({'iso3': 'pais'}),\n",
    "   \n",
    ")\n",
    "\n",
    "_df = pipeline(df)\n",
    "\n",
    "diccionario_cambios[archivo] = lista_cambios.copy()\n",
    "\n",
    "_df.head()"
   ]
  },
  {
   "cell_type": "code",
   "execution_count": null,
   "metadata": {},
   "outputs": [],
   "source": [
    "diccionario_cambios"
   ]
  },
  {
   "cell_type": "code",
   "execution_count": null,
   "metadata": {},
   "outputs": [],
   "source": [
    "exportar(_df)"
   ]
  },
  {
   "cell_type": "markdown",
   "metadata": {},
   "source": [
    "PRECIO_g24.csv"
   ]
  },
  {
   "cell_type": "code",
   "execution_count": null,
   "metadata": {},
   "outputs": [],
   "source": [
    "SUBTOP = 'PRECIO'\n",
    "entrega = 1\n",
    "folder = f\"../output/{SUBTOP}{entrega}\"\n",
    "grafico_n = 24\n",
    "\n",
    "archivo = f\"{SUBTOP}_g{str(grafico_n).zfill(2)}\"\n",
    "df = pd.read_csv(f\"{folder}/definitivos/{archivo}.csv\")\n",
    "\n",
    "mapping = pd.read_csv(f'{folder}/internal_mapping.csv')\n",
    "mapping = {id:archivo for (_,_,archivo,id,_) in mapping.iloc}\n",
    "\n",
    "plantilla = pd.read_excel(f'../tmp/ArgenData-{SUBTOP}.xlsx', header=6)\n",
    "plantilla_slice = plantilla[plantilla.dataset_archivo == mapping[archivo]]\n",
    "\n",
    "primary_keys = plantilla_slice.variable_nombre[plantilla_slice.primary_key].unique().tolist()\n",
    "print(*primary_keys)\n",
    "df.head()"
   ]
  },
  {
   "cell_type": "code",
   "execution_count": null,
   "metadata": {},
   "outputs": [],
   "source": [
    "drop = drop_colx\n",
    "to_long = wide_to_longx\n",
    "renombrar = rename_colsx\n",
    "nomenclar_paises = partial(normalize_countriesx, map=pais)\n",
    "replace = replace_valuex\n",
    "sort = sort_vals_ascx\n",
    "exportar = lambda df: exportar_definitivo(archivo=archivo, folder=folder, df=df, nuevo_nombre=None)\n",
    "\n",
    "\n",
    "\n",
    "pipeline = chain(\n",
    "    nomenclar_paises(code_col='iso3', new_col=None, desc_col=None),\n",
    "    # drop(col=\"countryname\"),\n",
    "    to_long(primary_keys),\n",
    "    sort(primary_keys),\n",
    "    # renombrar({'_valor':'valor'}),\n",
    "    # replace(col='pov_type', curr_value='with_transfers', new_value='Con transferencias'),\n",
    "    # replace(col='pov_type', curr_value='without_transfers', new_value='Sin transferencias'),\n",
    "    # replace(col='pov_type', curr_value='difference', new_value='Diferencia')\n",
    "    # drop('region_name'), \n",
    "    # renombrar({'time': 'anio'}),\n",
    "    # nomenclar_paises(code_col='cod_area', new_col=\"desc_area\"), \n",
    "    #renombrar({'iso3': 'pais'}),\n",
    "   \n",
    ")\n",
    "\n",
    "_df = pipeline(df)\n",
    "\n",
    "diccionario_cambios[archivo] = lista_cambios.copy()\n",
    "\n",
    "_df.head()"
   ]
  },
  {
   "cell_type": "code",
   "execution_count": null,
   "metadata": {},
   "outputs": [],
   "source": [
    "diccionario_cambios"
   ]
  },
  {
   "cell_type": "code",
   "execution_count": null,
   "metadata": {},
   "outputs": [],
   "source": [
    "exportar(_df)"
   ]
  },
  {
   "cell_type": "markdown",
   "metadata": {},
   "source": [
    "PRECIO_g25.csv"
   ]
  },
  {
   "cell_type": "code",
   "execution_count": null,
   "metadata": {},
   "outputs": [],
   "source": [
    "SUBTOP = 'PRECIO'\n",
    "entrega = 1\n",
    "folder = f\"../output/{SUBTOP}{entrega}\"\n",
    "grafico_n = 25\n",
    "\n",
    "archivo = f\"{SUBTOP}_g{str(grafico_n).zfill(2)}\"\n",
    "df = pd.read_csv(f\"{folder}/definitivos/{archivo}.csv\")\n",
    "\n",
    "mapping = pd.read_csv(f'{folder}/internal_mapping.csv')\n",
    "mapping = {id:archivo for (_,_,archivo,id,_) in mapping.iloc}\n",
    "\n",
    "plantilla = pd.read_excel(f'../tmp/ArgenData-{SUBTOP}.xlsx', header=6)\n",
    "plantilla_slice = plantilla[plantilla.dataset_archivo == mapping[archivo]]\n",
    "\n",
    "primary_keys = plantilla_slice.variable_nombre[plantilla_slice.primary_key].unique().tolist()\n",
    "print(*primary_keys)\n",
    "df.head()"
   ]
  },
  {
   "cell_type": "code",
   "execution_count": null,
   "metadata": {},
   "outputs": [],
   "source": [
    "drop = drop_colx\n",
    "to_long = wide_to_longx\n",
    "renombrar = rename_colsx\n",
    "nomenclar_paises = partial(normalize_countriesx, map=pais)\n",
    "replace = replace_valuex\n",
    "sort = sort_vals_ascx\n",
    "exportar = lambda df: exportar_definitivo(archivo=archivo, folder=folder, df=df, nuevo_nombre=None)\n",
    "\n",
    "\n",
    "\n",
    "pipeline = chain(\n",
    "    nomenclar_paises(code_col='iso3', new_col=None, desc_col=None),\n",
    "    # drop(col=\"countryname\"),\n",
    "    to_long(primary_keys),\n",
    "    sort(primary_keys),\n",
    "    renombrar({'_valor':'valor'}),\n",
    "    # replace(col='pov_type', curr_value='with_transfers', new_value='Con transferencias'),\n",
    "    # replace(col='pov_type', curr_value='without_transfers', new_value='Sin transferencias'),\n",
    "    # replace(col='pov_type', curr_value='difference', new_value='Diferencia')\n",
    "    # drop('region_name'), \n",
    "    # renombrar({'time': 'anio'}),\n",
    "    # nomenclar_paises(code_col='cod_area', new_col=\"desc_area\"), \n",
    "    #renombrar({'iso3': 'pais'}),\n",
    "   \n",
    ")\n",
    "\n",
    "_df = pipeline(df)\n",
    "\n",
    "diccionario_cambios[archivo] = lista_cambios.copy()\n",
    "\n",
    "_df.head()"
   ]
  },
  {
   "cell_type": "code",
   "execution_count": null,
   "metadata": {},
   "outputs": [],
   "source": [
    "diccionario_cambios"
   ]
  },
  {
   "cell_type": "code",
   "execution_count": null,
   "metadata": {},
   "outputs": [],
   "source": [
    "exportar(_df)"
   ]
  },
  {
   "cell_type": "code",
   "execution_count": null,
   "metadata": {},
   "outputs": [],
   "source": [
    "SUBTOP = 'PRECIO'\n",
    "entrega = 1\n",
    "folder = f\"../output/{SUBTOP}{entrega}\"\n",
    "match_relocate(f'{folder}/definitivos', f'{folder}/old', '.*old.*')"
   ]
  },
  {
   "cell_type": "code",
   "execution_count": null,
   "metadata": {},
   "outputs": [],
   "source": [
    "import json\n",
    "import datetime\n",
    "\n",
    "today = datetime.datetime.now().strftime(\"%Y-%m-%d\")\n",
    "\n",
    "with open(f'../output/PRECIO1/definitivos/paso_a_definitivos_{today}.json', 'w') as fp:\n",
    "    json.dump(diccionario_cambios, fp, indent=4, ensure_ascii=False)\n"
   ]
  }
 ],
 "metadata": {
  "kernelspec": {
   "display_name": "Python 3",
   "language": "python",
   "name": "python3"
  },
  "language_info": {
   "codemirror_mode": {
    "name": "ipython",
    "version": 3
   },
   "file_extension": ".py",
   "mimetype": "text/x-python",
   "name": "python",
   "nbconvert_exporter": "python",
   "pygments_lexer": "ipython3",
   "version": "3.10.12"
  }
 },
 "nbformat": 4,
 "nbformat_minor": 2
}
