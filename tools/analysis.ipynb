{
 "cells": [
  {
   "cell_type": "code",
   "execution_count": 70,
   "metadata": {},
   "outputs": [],
   "source": [
    "from functools import partial, reduce\n",
    "from os import rename, makedirs\n",
    "import urllib.request\n",
    "import pandas as pd\n",
    "import os.path\n",
    "import shutil\n",
    "import json\n",
    "import csv\n",
    "import re\n",
    "\n",
    "def gsheet_download_csv(id: str, target: str, url_template=\"https://docs.google.com/spreadsheets/d/{id}/export?format=csv\"):\n",
    "    url = url_template.format(id=id)\n",
    "    return urllib.request.urlretrieve(url, target)\n",
    "\n",
    "def match_relocate(src, target, pattern, file_list=None):\n",
    "    files_to_move = file_list or os.listdir(src)\n",
    "\n",
    "    pattern = re.compile(pattern)\n",
    "\n",
    "    if not os.path.exists(target):\n",
    "        makedirs(target)\n",
    "\n",
    "    for filename in files_to_move:\n",
    "        if pattern.match(filename):\n",
    "            src_path = os.path.join(src, filename)\n",
    "            dest_path = os.path.join(target, filename)\n",
    "\n",
    "            shutil.move(src_path, dest_path)\n",
    "\n",
    "    print(f\"Files matching the pattern '{pattern}' moved to '{target}'.\")\n",
    "\n",
    "def compose2(f, g):\n",
    "    def composed(*a, **kw):\n",
    "        return f(g(*a, **kw))\n",
    "\n",
    "    return composed\n",
    "\n",
    "def compose(*fs):\n",
    "    return reduce(compose2, fs)\n",
    "\n",
    "def chain(*fs):\n",
    "    return compose(*reversed(fs))\n",
    "\n",
    "def exportar_definitivo(archivo: str, folder:str, df: pd.DataFrame, nuevo_nombre=None):\n",
    "    if not nuevo_nombre:\n",
    "        nuevo_nombre = f\"{folder}/definitivos/{archivo}_old.csv\"\n",
    "\n",
    "    original_file = f'{folder}/definitivos/{archivo}.csv'\n",
    "\n",
    "    rename(original_file, nuevo_nombre)\n",
    "\n",
    "    df.to_csv(original_file, \n",
    "              encoding='utf-8', \n",
    "              sep=',', \n",
    "              quoting=csv.QUOTE_ALL, \n",
    "              quotechar='\"', \n",
    "              lineterminator='\\n', \n",
    "              decimal='.', \n",
    "              index=False)\n",
    "    \n",
    "    return original_file, nuevo_nombre\n",
    "\n",
    "def drop_col(df: pd.DataFrame, col, axis=1):\n",
    "    return df.drop(col, axis=axis)\n",
    "\n",
    "def drop_colx(col, axis=1):\n",
    "    return lambda df: drop_col(df, col, axis=axis)\n",
    "\n",
    "def normalize_countries(df: pd.DataFrame, code_col:str, new_col:str, map: dict):\n",
    "    df[new_col] = df[code_col].apply(map.__getitem__)\n",
    "    return df\n",
    "\n",
    "def normalize_countriesx(code_col, new_col, map):\n",
    "    return lambda df: normalize_countries(df, code_col, new_col, map)\n",
    "\n",
    "def wide_to_long(df: pd.DataFrame, primary_keys, value_name='valor', var_name='indicador'):\n",
    "    return df.melt(id_vars=primary_keys, value_name=value_name, var_name=var_name)\n",
    "\n",
    "def wide_to_longx(primary_keys, value_name='valor', var_name='indicador'):\n",
    "    return lambda df: wide_to_long(df, primary_keys, value_name=value_name, var_name=var_name)\n",
    "\n",
    "def rename_cols(df: pd.DataFrame, map):\n",
    "    df = df.rename(columns=map)\n",
    "    return df\n",
    "\n",
    "def rename_colsx(map):\n",
    "    return lambda df: rename_cols(df, map)\n",
    "\n",
    "def replace_value(df:pd.DataFrame, col:str, curr_value:str, new_value:str):\n",
    "    df = df.replace({col: curr_value}, new_value)\n",
    "    return df\n",
    "\n",
    "def replace_valuex(col, curr_value, new_value):\n",
    "    return lambda df: replace_value(df=df, col=col, curr_value=curr_value, new_value=new_value)"
   ]
  },
  {
   "cell_type": "code",
   "execution_count": 65,
   "metadata": {},
   "outputs": [],
   "source": [
    "gsheet_download_csv('1kK1Yu6gz5kEWe_i0vamiGttkXUH5H90e', 'paises.csv')\n",
    "paises = pd.read_csv('./paises.csv')\n",
    "pais = {k:v for k,v in paises[['iso3', 'iso3_desc_fundar']].iloc}\n",
    "pais['SUD'] = pais['SDN']\n",
    "pais['OHI'] = \"Otros países de ingreso alto\""
   ]
  },
  {
   "cell_type": "code",
   "execution_count": 118,
   "metadata": {},
   "outputs": [
    {
     "name": "stdout",
     "output_type": "stream",
     "text": [
      "year semester poverty_line pov_type\n"
     ]
    },
    {
     "data": {
      "text/html": [
       "<div>\n",
       "<style scoped>\n",
       "    .dataframe tbody tr th:only-of-type {\n",
       "        vertical-align: middle;\n",
       "    }\n",
       "\n",
       "    .dataframe tbody tr th {\n",
       "        vertical-align: top;\n",
       "    }\n",
       "\n",
       "    .dataframe thead th {\n",
       "        text-align: right;\n",
       "    }\n",
       "</style>\n",
       "<table border=\"1\" class=\"dataframe\">\n",
       "  <thead>\n",
       "    <tr style=\"text-align: right;\">\n",
       "      <th></th>\n",
       "      <th>year</th>\n",
       "      <th>semester</th>\n",
       "      <th>poverty_line</th>\n",
       "      <th>pov_type</th>\n",
       "      <th>poverty_rate</th>\n",
       "    </tr>\n",
       "  </thead>\n",
       "  <tbody>\n",
       "    <tr>\n",
       "      <th>0</th>\n",
       "      <td>2003</td>\n",
       "      <td>II</td>\n",
       "      <td>Indigencia</td>\n",
       "      <td>with_transfers</td>\n",
       "      <td>32.061440</td>\n",
       "    </tr>\n",
       "    <tr>\n",
       "      <th>1</th>\n",
       "      <td>2003</td>\n",
       "      <td>II</td>\n",
       "      <td>Indigencia</td>\n",
       "      <td>without_transfers</td>\n",
       "      <td>34.679829</td>\n",
       "    </tr>\n",
       "    <tr>\n",
       "      <th>2</th>\n",
       "      <td>2003</td>\n",
       "      <td>II</td>\n",
       "      <td>Indigencia</td>\n",
       "      <td>difference</td>\n",
       "      <td>2.618388</td>\n",
       "    </tr>\n",
       "    <tr>\n",
       "      <th>3</th>\n",
       "      <td>2004</td>\n",
       "      <td>I</td>\n",
       "      <td>Indigencia</td>\n",
       "      <td>with_transfers</td>\n",
       "      <td>29.734375</td>\n",
       "    </tr>\n",
       "    <tr>\n",
       "      <th>4</th>\n",
       "      <td>2004</td>\n",
       "      <td>I</td>\n",
       "      <td>Indigencia</td>\n",
       "      <td>without_transfers</td>\n",
       "      <td>31.940569</td>\n",
       "    </tr>\n",
       "  </tbody>\n",
       "</table>\n",
       "</div>"
      ],
      "text/plain": [
       "   year semester poverty_line           pov_type  poverty_rate\n",
       "0  2003       II   Indigencia     with_transfers     32.061440\n",
       "1  2003       II   Indigencia  without_transfers     34.679829\n",
       "2  2003       II   Indigencia         difference      2.618388\n",
       "3  2004        I   Indigencia     with_transfers     29.734375\n",
       "4  2004        I   Indigencia  without_transfers     31.940569"
      ]
     },
     "execution_count": 118,
     "metadata": {},
     "output_type": "execute_result"
    }
   ],
   "source": [
    "SUBTOP = 'POBREZ'\n",
    "entrega = 1\n",
    "folder = f\"../output/{SUBTOP}{entrega}\"\n",
    "grafico_n = 22\n",
    "\n",
    "archivo = f'{SUBTOP}_g{grafico_n}'\n",
    "df = pd.read_csv(f\"{folder}/definitivos/{archivo}.csv\")\n",
    "\n",
    "mapping = pd.read_csv(f'{folder}/internal_mapping.csv')\n",
    "mapping = {id:archivo for (_,_,archivo,id,_) in mapping.iloc}\n",
    "\n",
    "plantilla = pd.read_excel(f'../tmp/ArgenData-{SUBTOP}.xlsx', header=6)\n",
    "plantilla_slice = plantilla[plantilla.dataset_archivo == mapping[archivo]]\n",
    "\n",
    "primary_keys = plantilla_slice.variable_nombre[plantilla_slice.primary_key].unique().tolist()\n",
    "print(*primary_keys)\n",
    "df.head()"
   ]
  },
  {
   "cell_type": "code",
   "execution_count": 111,
   "metadata": {},
   "outputs": [
    {
     "data": {
      "text/plain": [
       "array(['with_transfers', 'without_transfers', 'difference'], dtype=object)"
      ]
     },
     "execution_count": 111,
     "metadata": {},
     "output_type": "execute_result"
    }
   ],
   "source": [
    "df.pov_type.unique()"
   ]
  },
  {
   "cell_type": "code",
   "execution_count": 119,
   "metadata": {},
   "outputs": [
    {
     "data": {
      "text/html": [
       "<div>\n",
       "<style scoped>\n",
       "    .dataframe tbody tr th:only-of-type {\n",
       "        vertical-align: middle;\n",
       "    }\n",
       "\n",
       "    .dataframe tbody tr th {\n",
       "        vertical-align: top;\n",
       "    }\n",
       "\n",
       "    .dataframe thead th {\n",
       "        text-align: right;\n",
       "    }\n",
       "</style>\n",
       "<table border=\"1\" class=\"dataframe\">\n",
       "  <thead>\n",
       "    <tr style=\"text-align: right;\">\n",
       "      <th></th>\n",
       "      <th>year</th>\n",
       "      <th>semester</th>\n",
       "      <th>poverty_line</th>\n",
       "      <th>pov_type</th>\n",
       "      <th>indicador</th>\n",
       "      <th>valor</th>\n",
       "    </tr>\n",
       "  </thead>\n",
       "  <tbody>\n",
       "    <tr>\n",
       "      <th>0</th>\n",
       "      <td>2003</td>\n",
       "      <td>II</td>\n",
       "      <td>Indigencia</td>\n",
       "      <td>Con transferencias</td>\n",
       "      <td>poverty_rate</td>\n",
       "      <td>32.061440</td>\n",
       "    </tr>\n",
       "    <tr>\n",
       "      <th>1</th>\n",
       "      <td>2003</td>\n",
       "      <td>II</td>\n",
       "      <td>Indigencia</td>\n",
       "      <td>Sin transferencias</td>\n",
       "      <td>poverty_rate</td>\n",
       "      <td>34.679829</td>\n",
       "    </tr>\n",
       "    <tr>\n",
       "      <th>2</th>\n",
       "      <td>2003</td>\n",
       "      <td>II</td>\n",
       "      <td>Indigencia</td>\n",
       "      <td>Diferencia</td>\n",
       "      <td>poverty_rate</td>\n",
       "      <td>2.618388</td>\n",
       "    </tr>\n",
       "    <tr>\n",
       "      <th>3</th>\n",
       "      <td>2004</td>\n",
       "      <td>I</td>\n",
       "      <td>Indigencia</td>\n",
       "      <td>Con transferencias</td>\n",
       "      <td>poverty_rate</td>\n",
       "      <td>29.734375</td>\n",
       "    </tr>\n",
       "    <tr>\n",
       "      <th>4</th>\n",
       "      <td>2004</td>\n",
       "      <td>I</td>\n",
       "      <td>Indigencia</td>\n",
       "      <td>Sin transferencias</td>\n",
       "      <td>poverty_rate</td>\n",
       "      <td>31.940569</td>\n",
       "    </tr>\n",
       "  </tbody>\n",
       "</table>\n",
       "</div>"
      ],
      "text/plain": [
       "   year semester poverty_line            pov_type     indicador      valor\n",
       "0  2003       II   Indigencia  Con transferencias  poverty_rate  32.061440\n",
       "1  2003       II   Indigencia  Sin transferencias  poverty_rate  34.679829\n",
       "2  2003       II   Indigencia          Diferencia  poverty_rate   2.618388\n",
       "3  2004        I   Indigencia  Con transferencias  poverty_rate  29.734375\n",
       "4  2004        I   Indigencia  Sin transferencias  poverty_rate  31.940569"
      ]
     },
     "execution_count": 119,
     "metadata": {},
     "output_type": "execute_result"
    }
   ],
   "source": [
    "drop = drop_colx\n",
    "to_long = wide_to_longx\n",
    "renombrar = rename_colsx\n",
    "nomenclar_paises = partial(normalize_countriesx, map=pais)\n",
    "replace = replace_valuex\n",
    "\n",
    "exportar = lambda df: exportar_definitivo(archivo=archivo, folder=folder, df=df, nuevo_nombre=None)\n",
    "\n",
    "\n",
    "\n",
    "pipeline = chain(\n",
    "    to_long(primary_keys),\n",
    "    replace(col='pov_type', curr_value='with_transfers', new_value='Con transferencias'),\n",
    "    replace(col='pov_type', curr_value='without_transfers', new_value='Sin transferencias'),\n",
    "    replace(col='pov_type', curr_value='difference', new_value='Diferencia')\n",
    "    # drop('region_name'), \n",
    "    # renombrar({'region_code': 'cod_area'}),\n",
    "    # nomenclar_paises(code_col='cod_area', new_col=\"desc_area\"), \n",
    "    #renombrar({'iso3': 'pais'}),\n",
    "     \n",
    ")\n",
    "\n",
    "_df = pipeline(df)\n",
    "_df.head()"
   ]
  },
  {
   "cell_type": "code",
   "execution_count": 122,
   "metadata": {},
   "outputs": [
    {
     "data": {
      "text/plain": [
       "<function __main__.compose2.<locals>.composed(*a, **kw)>"
      ]
     },
     "execution_count": 122,
     "metadata": {},
     "output_type": "execute_result"
    }
   ],
   "source": [
    "pipeline"
   ]
  },
  {
   "cell_type": "code",
   "execution_count": 120,
   "metadata": {},
   "outputs": [
    {
     "data": {
      "text/plain": [
       "('../output/POBREZ1/definitivos/POBREZ_g22.csv',\n",
       " '../output/POBREZ1/definitivos/POBREZ_g22_old.csv')"
      ]
     },
     "execution_count": 120,
     "metadata": {},
     "output_type": "execute_result"
    }
   ],
   "source": [
    "exportar(_df)"
   ]
  },
  {
   "cell_type": "code",
   "execution_count": 121,
   "metadata": {},
   "outputs": [
    {
     "name": "stdout",
     "output_type": "stream",
     "text": [
      "Files matching the pattern 're.compile('.*old.*')' moved to '../output/POBREZ1/old'.\n"
     ]
    }
   ],
   "source": [
    "match_relocate(f'{folder}/definitivos', f'{folder}/old', '.*old.*')"
   ]
  },
  {
   "cell_type": "code",
   "execution_count": 128,
   "metadata": {},
   "outputs": [],
   "source": [
    "def f(x, resultado: list) -> int:\n",
    "    resultado.append( f'{x} -> {x+1}' )\n",
    "    return x+1\n",
    "\n",
    "def g(y, resultado: list) -> int:\n",
    "    r = y*2\n",
    "    resultado.append( f'{y}*2 = {r}' )\n",
    "    return r"
   ]
  },
  {
   "cell_type": "code",
   "execution_count": 131,
   "metadata": {},
   "outputs": [
    {
     "data": {
      "text/plain": [
       "8"
      ]
     },
     "execution_count": 131,
     "metadata": {},
     "output_type": "execute_result"
    }
   ],
   "source": [
    "a = []\n",
    "\n",
    "f(3, a)\n",
    "g(4, a)"
   ]
  },
  {
   "cell_type": "code",
   "execution_count": 132,
   "metadata": {},
   "outputs": [
    {
     "data": {
      "text/plain": [
       "['3 -> 4', '4*2 = 8']"
      ]
     },
     "execution_count": 132,
     "metadata": {},
     "output_type": "execute_result"
    }
   ],
   "source": [
    "a"
   ]
  },
  {
   "cell_type": "code",
   "execution_count": null,
   "metadata": {},
   "outputs": [],
   "source": []
  }
 ],
 "metadata": {
  "kernelspec": {
   "display_name": "Python 3",
   "language": "python",
   "name": "python3"
  },
  "language_info": {
   "codemirror_mode": {
    "name": "ipython",
    "version": 3
   },
   "file_extension": ".py",
   "mimetype": "text/x-python",
   "name": "python",
   "nbconvert_exporter": "python",
   "pygments_lexer": "ipython3",
   "version": "3.10.12"
  }
 },
 "nbformat": 4,
 "nbformat_minor": 2
}
