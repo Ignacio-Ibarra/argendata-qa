{
 "cells": [
  {
   "cell_type": "code",
   "execution_count": 2,
   "metadata": {},
   "outputs": [],
   "source": [
    "#########################################################################\n",
    "## CHUNK PARA CARGA DE VARIABLES COMUNES PARA CUALQUIER TRANSFORMACION ##\n",
    "#########################################################################\n",
    "from typing import Any\n",
    "from data_transformers import chain\n",
    "from dotenv import load_dotenv\n",
    "import os\n",
    "import pandas as pd\n",
    "from analysislib import (\n",
    "    get_geonomenclador, \n",
    "    exportar_definitivo,\n",
    "    exportar_transformador,\n",
    "    compare_ids,\n",
    "    cargar_verificaciones,\n",
    "    get_geoerrores,\n",
    "    gsheet_download_xlsx,\n",
    "    verificaciones_datasetx,\n",
    "    match_relocate,\n",
    ")\n",
    "\n",
    "from data_transformers.default_transformers import (\n",
    "    drop_col,\n",
    "    wide_to_long,\n",
    "    replace_value,\n",
    "    rename_cols,\n",
    "    sort_values,\n",
    "    cast_col\n",
    ")\n",
    "\n",
    "geonomenclador = get_geonomenclador()\n",
    "\n",
    "# ARGENDATA_WORK_ID = os.getenv(\"ARGENDATA_WORK_ID\")\n",
    "# gsheet_download_xlsx(id= ARGENDATA_WORK_ID, target=\"work.xlsx\")\n",
    "\n",
    "work = pd.read_excel('./work.xlsx', sheet_name='Suma de gráficos')\n",
    "tipo = work[['ID', 'Unnamed: 7', 'Bajada','Publicación']]"
   ]
  },
  {
   "cell_type": "code",
   "execution_count": 3,
   "metadata": {},
   "outputs": [],
   "source": [
    "##########################################################\n",
    "## CHUNK PARA CARGA DE VARIABLES COMUNES PARA SUBTOPICO ##\n",
    "##########################################################\n",
    "\n",
    "SUBTOP = 'SALING'\n",
    "entrega = 1\n",
    "alias = f\"{SUBTOP}{entrega}\"\n",
    "folder = f'../output/{alias}'\n",
    "verificaciones = cargar_verificaciones(alias=alias)\n",
    "\n",
    "mapping = pd.read_csv(f'{folder}/internal_mapping.csv')\n",
    "mapping = {id:archivo for (_,_,archivo,id,_) in mapping.iloc}\n",
    "\n",
    "plantilla = pd.read_excel(f'../tmp/ArgenData-{SUBTOP}.xlsx', header=6)\n",
    "\n",
    "# Cargo funcion para traer datos de dataset para este subtopico- \n",
    "verificar_dataset = verificaciones_datasetx(verificaciones=verificaciones)"
   ]
  },
  {
   "cell_type": "code",
   "execution_count": 13,
   "metadata": {},
   "outputs": [
    {
     "name": "stdout",
     "output_type": "stream",
     "text": [
      "No tiene geocontroles\n",
      "El gráfico SALING_g01 no se encuentra en la plantilla 'WORK'\n",
      "Primary keys: \"year\", \"semestre\"\n"
     ]
    },
    {
     "data": {
      "text/html": [
       "<div>\n",
       "<style scoped>\n",
       "    .dataframe tbody tr th:only-of-type {\n",
       "        vertical-align: middle;\n",
       "    }\n",
       "\n",
       "    .dataframe tbody tr th {\n",
       "        vertical-align: top;\n",
       "    }\n",
       "\n",
       "    .dataframe thead th {\n",
       "        text-align: right;\n",
       "    }\n",
       "</style>\n",
       "<table border=\"1\" class=\"dataframe\">\n",
       "  <thead>\n",
       "    <tr style=\"text-align: right;\">\n",
       "      <th></th>\n",
       "      <th>year</th>\n",
       "      <th>semestre</th>\n",
       "      <th>indicador</th>\n",
       "      <th>valor</th>\n",
       "    </tr>\n",
       "  </thead>\n",
       "  <tbody>\n",
       "    <tr>\n",
       "      <th>0</th>\n",
       "      <td>2003</td>\n",
       "      <td>2</td>\n",
       "      <td>ipcf_index</td>\n",
       "      <td>100.00000</td>\n",
       "    </tr>\n",
       "    <tr>\n",
       "      <th>1</th>\n",
       "      <td>2004</td>\n",
       "      <td>1</td>\n",
       "      <td>ipcf_index</td>\n",
       "      <td>102.31232</td>\n",
       "    </tr>\n",
       "    <tr>\n",
       "      <th>2</th>\n",
       "      <td>2004</td>\n",
       "      <td>2</td>\n",
       "      <td>ipcf_index</td>\n",
       "      <td>107.82178</td>\n",
       "    </tr>\n",
       "    <tr>\n",
       "      <th>3</th>\n",
       "      <td>2005</td>\n",
       "      <td>1</td>\n",
       "      <td>ipcf_index</td>\n",
       "      <td>109.70754</td>\n",
       "    </tr>\n",
       "    <tr>\n",
       "      <th>4</th>\n",
       "      <td>2005</td>\n",
       "      <td>2</td>\n",
       "      <td>ipcf_index</td>\n",
       "      <td>118.60464</td>\n",
       "    </tr>\n",
       "  </tbody>\n",
       "</table>\n",
       "</div>"
      ],
      "text/plain": [
       "   year  semestre   indicador      valor\n",
       "0  2003         2  ipcf_index  100.00000\n",
       "1  2004         1  ipcf_index  102.31232\n",
       "2  2004         2  ipcf_index  107.82178\n",
       "3  2005         1  ipcf_index  109.70754\n",
       "4  2005         2  ipcf_index  118.60464"
      ]
     },
     "execution_count": 13,
     "metadata": {},
     "output_type": "execute_result"
    }
   ],
   "source": [
    "########################################\n",
    "## CHUNK PARA CARGA DE DATASET POR ID ##\n",
    "########################################\n",
    "\n",
    "\n",
    "grafico_n = 1\n",
    "archivo = f'{SUBTOP}_g{grafico_n:02d}'\n",
    "\n",
    "dataset_name = mapping[archivo]\n",
    "verificaciones_dataset = verificar_dataset(dataset_name=dataset_name)\n",
    "\n",
    "if verificaciones_dataset:\n",
    "\n",
    "    geoerrores = get_geoerrores(verificaciones_dataset)\n",
    "\n",
    "    for col, errores in geoerrores.items():\n",
    "        for (_, valor, es_correcto) in errores:\n",
    "            if not es_correcto:\n",
    "                print(f\"No se encontró '{valor}' en la columna {col}\")\n",
    "\n",
    "df = pd.read_csv(f'{folder}/definitivos/{archivo}.csv')\n",
    "\n",
    "exportar = (lambda df:\n",
    "                exportar_definitivo(archivo=archivo,\n",
    "                                    folder=folder,\n",
    "                                    df=df,\n",
    "                                    nuevo_nombre=None))\n",
    "\n",
    "fila_work = tipo[tipo.ID.map(compare_ids(archivo))]\n",
    "\n",
    "if len(fila_work)>0:\n",
    "\n",
    "    _, tipologia_target, bajada, va = tipo[tipo.ID.map(compare_ids(archivo))].iloc[0]\n",
    "\n",
    "    va = va.lower() != 'no va'\n",
    "\n",
    "    print(f\"Va? = {'Sí' if va else 'No'}\")\n",
    "    print(f\"Tipología target = '{tipologia_target}'\")\n",
    "    print(f\"Bajada = '{bajada}'\")\n",
    "\n",
    "else:\n",
    "    print(f\"El gráfico {archivo} no se encuentra en la plantilla 'WORK'\")\n",
    "\n",
    "\n",
    "plantilla_slice = plantilla[plantilla.dataset_archivo == mapping[archivo]]\n",
    "\n",
    "primary_keys = plantilla_slice.variable_nombre[plantilla_slice.primary_key].unique().tolist()\n",
    "print('Primary keys:', ', '.join(f'\"{x}\"' for x in primary_keys))\n",
    "df.head()"
   ]
  },
  {
   "cell_type": "code",
   "execution_count": 4,
   "metadata": {},
   "outputs": [
    {
     "data": {
      "text/html": [
       "<div>\n",
       "<style scoped>\n",
       "    .dataframe tbody tr th:only-of-type {\n",
       "        vertical-align: middle;\n",
       "    }\n",
       "\n",
       "    .dataframe tbody tr th {\n",
       "        vertical-align: top;\n",
       "    }\n",
       "\n",
       "    .dataframe thead th {\n",
       "        text-align: right;\n",
       "    }\n",
       "</style>\n",
       "<table border=\"1\" class=\"dataframe\">\n",
       "  <thead>\n",
       "    <tr style=\"text-align: right;\">\n",
       "      <th></th>\n",
       "      <th>indicador</th>\n",
       "      <th>valor</th>\n",
       "    </tr>\n",
       "  </thead>\n",
       "  <tbody>\n",
       "    <tr>\n",
       "      <th>0</th>\n",
       "      <td>Alimentos y bebidas no alcoholicas</td>\n",
       "      <td>26.93381</td>\n",
       "    </tr>\n",
       "    <tr>\n",
       "      <th>1</th>\n",
       "      <td>Bebidas alcoholicas y tabaco</td>\n",
       "      <td>3.49540</td>\n",
       "    </tr>\n",
       "    <tr>\n",
       "      <th>2</th>\n",
       "      <td>Prendas de vestir y calzado</td>\n",
       "      <td>9.90447</td>\n",
       "    </tr>\n",
       "    <tr>\n",
       "      <th>3</th>\n",
       "      <td>Vivienda agua electricidad gas y otros combust...</td>\n",
       "      <td>9.43438</td>\n",
       "    </tr>\n",
       "    <tr>\n",
       "      <th>4</th>\n",
       "      <td>Equipamiento y mantenimiento del hogar</td>\n",
       "      <td>6.36303</td>\n",
       "    </tr>\n",
       "  </tbody>\n",
       "</table>\n",
       "</div>"
      ],
      "text/plain": [
       "                                           indicador     valor\n",
       "0                 Alimentos y bebidas no alcoholicas  26.93381\n",
       "1                       Bebidas alcoholicas y tabaco   3.49540\n",
       "2                        Prendas de vestir y calzado   9.90447\n",
       "3  Vivienda agua electricidad gas y otros combust...   9.43438\n",
       "4             Equipamiento y mantenimiento del hogar   6.36303"
      ]
     },
     "execution_count": 4,
     "metadata": {},
     "output_type": "execute_result"
    }
   ],
   "source": [
    "#######################################################\n",
    "## CHUNK PARA ARMADO DE PIPELINE DE TRANSFORMACIONES ##\n",
    "#######################################################\n",
    "\n",
    "\n",
    "pipeline = chain(\n",
    "    rename_cols({'sector': 'indicador'})\n",
    ")\n",
    "\n",
    "callstack, result = pipeline(df)\n",
    "\n",
    "result.head()"
   ]
  },
  {
   "cell_type": "code",
   "execution_count": 5,
   "metadata": {},
   "outputs": [
    {
     "data": {
      "text/plain": [
       "'PRECIO_g01_transformer.py'"
      ]
     },
     "execution_count": 5,
     "metadata": {},
     "output_type": "execute_result"
    }
   ],
   "source": [
    "#########################################################\n",
    "## CHUNK PARA EXPORTAR PIPELINE COMO ARCHIVO DE PYTHON ##\n",
    "#########################################################\n",
    "\n",
    "exportar_transformador(archivo, pipeline, callstack)"
   ]
  },
  {
   "cell_type": "code",
   "execution_count": 12,
   "metadata": {},
   "outputs": [
    {
     "data": {
      "text/plain": [
       "('../output/PRECIO1/definitivos/PRECIO_g01.csv',\n",
       " '../output/PRECIO1/definitivos/PRECIO_g01_old.csv')"
      ]
     },
     "execution_count": 12,
     "metadata": {},
     "output_type": "execute_result"
    }
   ],
   "source": [
    "#######################################################################\n",
    "## CHUNK PARA EXPORTAR DATASET COMO CSV Y RENOMBRAR DATASET ORIGINAL ##\n",
    "#######################################################################\n",
    "\n",
    "exportar(result)"
   ]
  },
  {
   "cell_type": "code",
   "execution_count": null,
   "metadata": {},
   "outputs": [],
   "source": [
    "#####################################################################\n",
    "## CHUNK PARA CREAR CARPETA OLD Y PASAR AHI TODOS LOS ARCHIVOS OLD ##\n",
    "#####################################################################\n",
    "\n",
    "# match_relocate(f'{folder}/definitivos', f'{folder}/old', '.*old.*')"
   ]
  }
 ],
 "metadata": {
  "kernelspec": {
   "display_name": "Python 3",
   "language": "python",
   "name": "python3"
  },
  "language_info": {
   "codemirror_mode": {
    "name": "ipython",
    "version": 3
   },
   "file_extension": ".py",
   "mimetype": "text/x-python",
   "name": "python",
   "nbconvert_exporter": "python",
   "pygments_lexer": "ipython3",
   "version": "3.10.12"
  }
 },
 "nbformat": 4,
 "nbformat_minor": 2
}
