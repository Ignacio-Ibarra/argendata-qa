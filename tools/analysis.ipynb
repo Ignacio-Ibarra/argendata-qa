{
 "cells": [
  {
   "cell_type": "code",
   "execution_count": 1,
   "metadata": {},
   "outputs": [],
   "source": [
    "from functools import partial, reduce\n",
    "from os import rename, makedirs\n",
    "import urllib.request\n",
    "import pandas as pd\n",
    "import os.path\n",
    "import shutil\n",
    "import json\n",
    "import csv\n",
    "import re\n",
    "import datetime"
   ]
  },
  {
   "cell_type": "code",
   "execution_count": 2,
   "metadata": {},
   "outputs": [],
   "source": [
    "def gsheet_download_csv(id: str, target: str, url_template=\"https://docs.google.com/spreadsheets/d/{id}/export?format=csv\"):\n",
    "    url = url_template.format(id=id)\n",
    "    return urllib.request.urlretrieve(url, target)\n",
    "\n",
    "gsheet_download_csv('1kK1Yu6gz5kEWe_i0vamiGttkXUH5H90e', 'nomenclador.csv')\n",
    "paises = pd.read_csv('./nomenclador.csv')\n",
    "pais = {k:v for k,v in paises[['iso3', 'iso3_desc_fundar']].iloc}\n",
    "codes_set = set(pais.keys())\n",
    "\n",
    "lista_cambios = []\n",
    "diccionario_cambios = {}"
   ]
  },
  {
   "cell_type": "code",
   "execution_count": 4,
   "metadata": {},
   "outputs": [],
   "source": [
    "def match_relocate(src, target, pattern, file_list=None):\n",
    "    files_to_move = file_list or os.listdir(src)\n",
    "\n",
    "    pattern = re.compile(pattern)\n",
    "\n",
    "    if not os.path.exists(target):\n",
    "        makedirs(target)\n",
    "\n",
    "    for filename in files_to_move:\n",
    "        if pattern.match(filename):\n",
    "            src_path = os.path.join(src, filename)\n",
    "            dest_path = os.path.join(target, filename)\n",
    "\n",
    "            shutil.move(src_path, dest_path)\n",
    "\n",
    "    print(f\"Files matching the pattern '{pattern}' moved to '{target}'.\")\n",
    "\n",
    "def compose2(f, g):\n",
    "    def composed(*a, **kw):\n",
    "        return f(g(*a, **kw))\n",
    "\n",
    "    return composed\n",
    "\n",
    "def compose(*fs):\n",
    "    return reduce(compose2, fs)\n",
    "\n",
    "def _chain(*fs):\n",
    "    return compose(*reversed(fs))\n",
    "\n",
    "def chain(*fs):\n",
    "    lista_cambios.clear()\n",
    "    return _chain(*fs)\n",
    "\n",
    "def exportar_definitivo(archivo: str, folder:str, df: pd.DataFrame, nuevo_nombre=None):\n",
    "    if not nuevo_nombre:\n",
    "        nuevo_nombre = f\"{folder}/definitivos/{archivo}_old.csv\"\n",
    "\n",
    "    original_file = f'{folder}/definitivos/{archivo}.csv'\n",
    "\n",
    "    rename(original_file, nuevo_nombre)\n",
    "\n",
    "    df.to_csv(original_file, \n",
    "              encoding='utf-8', \n",
    "              sep=',', \n",
    "              quoting=csv.QUOTE_ALL, \n",
    "              quotechar='\"', \n",
    "              lineterminator='\\n', \n",
    "              decimal='.', \n",
    "              index=False)\n",
    "    \n",
    "    return original_file, nuevo_nombre\n",
    "\n",
    "def drop_col(df: pd.DataFrame, col, axis=1, lista_cambios = lista_cambios):\n",
    "    lista_cambios.append(f\"Se borró la columna {col}\")\n",
    "    return df.drop(col, axis=axis)\n",
    "\n",
    "def drop_colx(col, axis=1):\n",
    "    return lambda df: drop_col(df, col, axis=axis)\n",
    "\n",
    "def normalize_countries(df: pd.DataFrame, code_col:str, new_col:str, desc_col:str, map: dict, codes_set=codes_set, lista_cambios = lista_cambios):\n",
    "    today = datetime.datetime.now().strftime(\"%Y-%m-%d\")\n",
    "    diff_set = set(df[code_col].dropna()) - codes_set\n",
    "    if len(diff_set)>0: \n",
    "        diff_str = \", \".join(list(diff_set))\n",
    "        string = f\"ERROR: Los códigos {diff_str} no se encontraron en el nomenclador vigente al {today} en la columna {code_col}\"\n",
    "        lista_cambios.append(string)\n",
    "    else:\n",
    "        if (new_col and desc_col):\n",
    "            df[new_col] = df[code_col].apply(map.__getitem__)\n",
    "            df = df.drop(desc_col, axis=1)\n",
    "            string = f\"\"\"Usando los valores de la columna {code_col}, \n",
    "            se normalizaron los nombres de las regiones/paises con el nomenclador vigente al {today}, \n",
    "            creando la columna {new_col} y borrando la columna {desc_col}\"\"\"\n",
    "        elif desc_col:\n",
    "            df[desc_col] = df[code_col].apply(map.__getitem__)\n",
    "            string = f\"\"\"Usando los valores de la columna {code_col}, \n",
    "            se normalizaron los nombres de las regiones/paises con el nomenclador vigente al {today}, \n",
    "            cambiando los valores de la columna {desc_col}\"\"\"\n",
    "        else: \n",
    "            string = f\"\"\"Usando los valores de la columna {code_col}, \n",
    "            se verificó que todos los códigos se encuentran en el nomenclador vigente al {today}\"\"\"\n",
    "        lista_cambios.append(string)\n",
    "    return df\n",
    "\n",
    "def normalize_countriesx(code_col, new_col, desc_col, map):\n",
    "    return lambda df: normalize_countries(df, code_col=code_col, new_col=new_col, desc_col=desc_col, map=map)\n",
    "\n",
    "def wide_to_long(df: pd.DataFrame, primary_keys, value_name='valor', var_name='indicador', lista_cambios=lista_cambios):\n",
    "    cols = \", \".join(df.columns)\n",
    "    new_cols = \", \".join(primary_keys + [value_name, var_name])\n",
    "    string = f\"Long estricto: [{cols}] -> [{new_cols}]\"\n",
    "    lista_cambios.append(string)\n",
    "    return df.melt(id_vars=primary_keys, value_name=value_name, var_name=var_name)\n",
    "\n",
    "def wide_to_longx(primary_keys, value_name='valor', var_name='indicador'):\n",
    "    return lambda df: wide_to_long(df, primary_keys, value_name=value_name, var_name=var_name)\n",
    "\n",
    "def rename_cols(df: pd.DataFrame, map, lista_cambios=lista_cambios):\n",
    "    map_string = \", \".join(f\"{old_col}:{new_col}\" for old_col, new_col in map.items())\n",
    "    string = f\"Se renombraron las columnas: {map_string}\"\n",
    "    lista_cambios.append(string)\n",
    "    df = df.rename(columns=map)\n",
    "    return df\n",
    "\n",
    "def rename_colsx(map):\n",
    "    return lambda df: rename_cols(df, map)\n",
    "\n",
    "def replace_value(df:pd.DataFrame, col:str, curr_value:str, new_value:str, lista_cambios=lista_cambios):\n",
    "    string = f\"Se imputó el valor {new_value} en la columna {col} cuando {col}=={curr_value}\"\n",
    "    lista_cambios.append(string)\n",
    "    df = df.replace({col: curr_value}, new_value)\n",
    "    return df\n",
    "\n",
    "def replace_valuex(col, curr_value, new_value):\n",
    "    return lambda df: replace_value(df=df, col=col, curr_value=curr_value, new_value=new_value)\n",
    "\n",
    "def sort_vals_asc(df:pd.DataFrame, prim_keys:list, lista_cambios=lista_cambios):\n",
    "    lista_cambios.append(f\"Ordené las filas por las columnas: {', '.join(prim_keys)}\")\n",
    "    return df.sort_values(by=prim_keys).reset_index(drop=True)\n",
    "\n",
    "def sort_vals_ascx(prim_keys):\n",
    "    return lambda df: sort_vals_asc(df=df, prim_keys=prim_keys)"
   ]
  },
  {
   "cell_type": "markdown",
   "metadata": {},
   "source": [
    "AGROPE_g1.csv"
   ]
  },
  {
   "cell_type": "code",
   "execution_count": 5,
   "metadata": {},
   "outputs": [
    {
     "name": "stdout",
     "output_type": "stream",
     "text": [
      "anio\n"
     ]
    },
    {
     "data": {
      "text/html": [
       "<div>\n",
       "<style scoped>\n",
       "    .dataframe tbody tr th:only-of-type {\n",
       "        vertical-align: middle;\n",
       "    }\n",
       "\n",
       "    .dataframe tbody tr th {\n",
       "        vertical-align: top;\n",
       "    }\n",
       "\n",
       "    .dataframe thead th {\n",
       "        text-align: right;\n",
       "    }\n",
       "</style>\n",
       "<table border=\"1\" class=\"dataframe\">\n",
       "  <thead>\n",
       "    <tr style=\"text-align: right;\">\n",
       "      <th></th>\n",
       "      <th>anio</th>\n",
       "      <th>participacion_agro</th>\n",
       "    </tr>\n",
       "  </thead>\n",
       "  <tbody>\n",
       "    <tr>\n",
       "      <th>0</th>\n",
       "      <td>1935</td>\n",
       "      <td>0.21</td>\n",
       "    </tr>\n",
       "    <tr>\n",
       "      <th>1</th>\n",
       "      <td>1936</td>\n",
       "      <td>0.21</td>\n",
       "    </tr>\n",
       "    <tr>\n",
       "      <th>2</th>\n",
       "      <td>1937</td>\n",
       "      <td>0.23</td>\n",
       "    </tr>\n",
       "    <tr>\n",
       "      <th>3</th>\n",
       "      <td>1938</td>\n",
       "      <td>0.20</td>\n",
       "    </tr>\n",
       "    <tr>\n",
       "      <th>4</th>\n",
       "      <td>1939</td>\n",
       "      <td>0.19</td>\n",
       "    </tr>\n",
       "  </tbody>\n",
       "</table>\n",
       "</div>"
      ],
      "text/plain": [
       "   anio  participacion_agro\n",
       "0  1935                0.21\n",
       "1  1936                0.21\n",
       "2  1937                0.23\n",
       "3  1938                0.20\n",
       "4  1939                0.19"
      ]
     },
     "execution_count": 5,
     "metadata": {},
     "output_type": "execute_result"
    }
   ],
   "source": [
    "SUBTOP = 'AGROPE'\n",
    "entrega = 1\n",
    "folder = f\"../output/{SUBTOP}{entrega}\"\n",
    "grafico_n = 1\n",
    "\n",
    "archivo = f'{SUBTOP}_g{grafico_n}'\n",
    "df = pd.read_csv(f\"{folder}/definitivos/{archivo}.csv\")\n",
    "\n",
    "mapping = pd.read_csv(f'{folder}/internal_mapping.csv')\n",
    "mapping = {id:archivo for (_,_,archivo,id,_) in mapping.iloc}\n",
    "\n",
    "plantilla = pd.read_excel(f'../tmp/ArgenData-{SUBTOP}.xlsx', header=6)\n",
    "plantilla_slice = plantilla[plantilla.dataset_archivo == mapping[archivo]]\n",
    "\n",
    "primary_keys = plantilla_slice.variable_nombre[plantilla_slice.primary_key].unique().tolist()\n",
    "print(*primary_keys)\n",
    "df.head()"
   ]
  },
  {
   "cell_type": "code",
   "execution_count": 6,
   "metadata": {},
   "outputs": [
    {
     "data": {
      "text/html": [
       "<div>\n",
       "<style scoped>\n",
       "    .dataframe tbody tr th:only-of-type {\n",
       "        vertical-align: middle;\n",
       "    }\n",
       "\n",
       "    .dataframe tbody tr th {\n",
       "        vertical-align: top;\n",
       "    }\n",
       "\n",
       "    .dataframe thead th {\n",
       "        text-align: right;\n",
       "    }\n",
       "</style>\n",
       "<table border=\"1\" class=\"dataframe\">\n",
       "  <thead>\n",
       "    <tr style=\"text-align: right;\">\n",
       "      <th></th>\n",
       "      <th>anio</th>\n",
       "      <th>indicador</th>\n",
       "      <th>valor</th>\n",
       "    </tr>\n",
       "  </thead>\n",
       "  <tbody>\n",
       "    <tr>\n",
       "      <th>0</th>\n",
       "      <td>1935</td>\n",
       "      <td>participacion_agro</td>\n",
       "      <td>0.21</td>\n",
       "    </tr>\n",
       "    <tr>\n",
       "      <th>1</th>\n",
       "      <td>1936</td>\n",
       "      <td>participacion_agro</td>\n",
       "      <td>0.21</td>\n",
       "    </tr>\n",
       "    <tr>\n",
       "      <th>2</th>\n",
       "      <td>1937</td>\n",
       "      <td>participacion_agro</td>\n",
       "      <td>0.23</td>\n",
       "    </tr>\n",
       "    <tr>\n",
       "      <th>3</th>\n",
       "      <td>1938</td>\n",
       "      <td>participacion_agro</td>\n",
       "      <td>0.20</td>\n",
       "    </tr>\n",
       "    <tr>\n",
       "      <th>4</th>\n",
       "      <td>1939</td>\n",
       "      <td>participacion_agro</td>\n",
       "      <td>0.19</td>\n",
       "    </tr>\n",
       "  </tbody>\n",
       "</table>\n",
       "</div>"
      ],
      "text/plain": [
       "   anio           indicador  valor\n",
       "0  1935  participacion_agro   0.21\n",
       "1  1936  participacion_agro   0.21\n",
       "2  1937  participacion_agro   0.23\n",
       "3  1938  participacion_agro   0.20\n",
       "4  1939  participacion_agro   0.19"
      ]
     },
     "execution_count": 6,
     "metadata": {},
     "output_type": "execute_result"
    }
   ],
   "source": [
    "drop = drop_colx\n",
    "to_long = wide_to_longx\n",
    "renombrar = rename_colsx\n",
    "nomenclar_paises = partial(normalize_countriesx, map=pais)\n",
    "replace = replace_valuex\n",
    "sort = sort_vals_ascx\n",
    "exportar = lambda df: exportar_definitivo(archivo=archivo, folder=folder, df=df, nuevo_nombre=None)\n",
    "\n",
    "\n",
    "pipeline = chain(\n",
    "    to_long(primary_keys),\n",
    "    sort_vals_ascx(primary_keys)\n",
    "    # replace(col='pov_type', curr_value='with_transfers', new_value='Con transferencias'),\n",
    "    # replace(col='pov_type', curr_value='without_transfers', new_value='Sin transferencias'),\n",
    "    # replace(col='pov_type', curr_value='difference', new_value='Diferencia')\n",
    "    # drop('region_name'), \n",
    "    # renombrar({'region_code': 'cod_area'}),\n",
    "    # nomenclar_paises(code_col='cod_area', new_col=\"desc_area\"), \n",
    "    #renombrar({'iso3': 'pais'}),\n",
    "   \n",
    ")\n",
    "\n",
    "_df = pipeline(df)\n",
    "\n",
    "\n",
    "diccionario_cambios[archivo] = lista_cambios.copy()\n",
    "\n",
    "_df.head()"
   ]
  },
  {
   "cell_type": "code",
   "execution_count": 7,
   "metadata": {},
   "outputs": [
    {
     "data": {
      "text/plain": [
       "{'AGROPE_g1': ['Long estricto: [anio, participacion_agro] -> [anio, valor, indicador]',\n",
       "  'Ordené las filas por las columnas: anio']}"
      ]
     },
     "execution_count": 7,
     "metadata": {},
     "output_type": "execute_result"
    }
   ],
   "source": [
    "diccionario_cambios"
   ]
  },
  {
   "cell_type": "code",
   "execution_count": 8,
   "metadata": {},
   "outputs": [
    {
     "data": {
      "text/plain": [
       "('../output/AGROPE1/definitivos/AGROPE_g1.csv',\n",
       " '../output/AGROPE1/definitivos/AGROPE_g1_old.csv')"
      ]
     },
     "execution_count": 8,
     "metadata": {},
     "output_type": "execute_result"
    }
   ],
   "source": [
    "exportar(_df)"
   ]
  },
  {
   "cell_type": "markdown",
   "metadata": {},
   "source": [
    "AGROPE_g2.csv"
   ]
  },
  {
   "cell_type": "code",
   "execution_count": 9,
   "metadata": {},
   "outputs": [
    {
     "name": "stdout",
     "output_type": "stream",
     "text": [
      "anio\n"
     ]
    },
    {
     "data": {
      "text/html": [
       "<div>\n",
       "<style scoped>\n",
       "    .dataframe tbody tr th:only-of-type {\n",
       "        vertical-align: middle;\n",
       "    }\n",
       "\n",
       "    .dataframe tbody tr th {\n",
       "        vertical-align: top;\n",
       "    }\n",
       "\n",
       "    .dataframe thead th {\n",
       "        text-align: right;\n",
       "    }\n",
       "</style>\n",
       "<table border=\"1\" class=\"dataframe\">\n",
       "  <thead>\n",
       "    <tr style=\"text-align: right;\">\n",
       "      <th></th>\n",
       "      <th>anio</th>\n",
       "      <th>pbi_agro_pcons</th>\n",
       "    </tr>\n",
       "  </thead>\n",
       "  <tbody>\n",
       "    <tr>\n",
       "      <th>0</th>\n",
       "      <td>1875</td>\n",
       "      <td>971</td>\n",
       "    </tr>\n",
       "    <tr>\n",
       "      <th>1</th>\n",
       "      <td>1876</td>\n",
       "      <td>1139</td>\n",
       "    </tr>\n",
       "    <tr>\n",
       "      <th>2</th>\n",
       "      <td>1877</td>\n",
       "      <td>1302</td>\n",
       "    </tr>\n",
       "    <tr>\n",
       "      <th>3</th>\n",
       "      <td>1878</td>\n",
       "      <td>1237</td>\n",
       "    </tr>\n",
       "    <tr>\n",
       "      <th>4</th>\n",
       "      <td>1879</td>\n",
       "      <td>1330</td>\n",
       "    </tr>\n",
       "  </tbody>\n",
       "</table>\n",
       "</div>"
      ],
      "text/plain": [
       "   anio  pbi_agro_pcons\n",
       "0  1875             971\n",
       "1  1876            1139\n",
       "2  1877            1302\n",
       "3  1878            1237\n",
       "4  1879            1330"
      ]
     },
     "execution_count": 9,
     "metadata": {},
     "output_type": "execute_result"
    }
   ],
   "source": [
    "SUBTOP = 'AGROPE'\n",
    "entrega = 1\n",
    "folder = f\"../output/{SUBTOP}{entrega}\"\n",
    "grafico_n = 2\n",
    "\n",
    "archivo = f'{SUBTOP}_g{grafico_n}'\n",
    "df = pd.read_csv(f\"{folder}/definitivos/{archivo}.csv\")\n",
    "\n",
    "mapping = pd.read_csv(f'{folder}/internal_mapping.csv')\n",
    "mapping = {id:archivo for (_,_,archivo,id,_) in mapping.iloc}\n",
    "\n",
    "plantilla = pd.read_excel(f'../tmp/ArgenData-{SUBTOP}.xlsx', header=6)\n",
    "plantilla_slice = plantilla[plantilla.dataset_archivo == mapping[archivo]]\n",
    "\n",
    "primary_keys = plantilla_slice.variable_nombre[plantilla_slice.primary_key].unique().tolist()\n",
    "print(*primary_keys)\n",
    "df.head()"
   ]
  },
  {
   "cell_type": "code",
   "execution_count": 10,
   "metadata": {},
   "outputs": [
    {
     "data": {
      "text/html": [
       "<div>\n",
       "<style scoped>\n",
       "    .dataframe tbody tr th:only-of-type {\n",
       "        vertical-align: middle;\n",
       "    }\n",
       "\n",
       "    .dataframe tbody tr th {\n",
       "        vertical-align: top;\n",
       "    }\n",
       "\n",
       "    .dataframe thead th {\n",
       "        text-align: right;\n",
       "    }\n",
       "</style>\n",
       "<table border=\"1\" class=\"dataframe\">\n",
       "  <thead>\n",
       "    <tr style=\"text-align: right;\">\n",
       "      <th></th>\n",
       "      <th>anio</th>\n",
       "      <th>indicador</th>\n",
       "      <th>valor</th>\n",
       "    </tr>\n",
       "  </thead>\n",
       "  <tbody>\n",
       "    <tr>\n",
       "      <th>0</th>\n",
       "      <td>1875</td>\n",
       "      <td>pbi_agro_pcons</td>\n",
       "      <td>971</td>\n",
       "    </tr>\n",
       "    <tr>\n",
       "      <th>1</th>\n",
       "      <td>1876</td>\n",
       "      <td>pbi_agro_pcons</td>\n",
       "      <td>1139</td>\n",
       "    </tr>\n",
       "    <tr>\n",
       "      <th>2</th>\n",
       "      <td>1877</td>\n",
       "      <td>pbi_agro_pcons</td>\n",
       "      <td>1302</td>\n",
       "    </tr>\n",
       "    <tr>\n",
       "      <th>3</th>\n",
       "      <td>1878</td>\n",
       "      <td>pbi_agro_pcons</td>\n",
       "      <td>1237</td>\n",
       "    </tr>\n",
       "    <tr>\n",
       "      <th>4</th>\n",
       "      <td>1879</td>\n",
       "      <td>pbi_agro_pcons</td>\n",
       "      <td>1330</td>\n",
       "    </tr>\n",
       "  </tbody>\n",
       "</table>\n",
       "</div>"
      ],
      "text/plain": [
       "   anio       indicador  valor\n",
       "0  1875  pbi_agro_pcons    971\n",
       "1  1876  pbi_agro_pcons   1139\n",
       "2  1877  pbi_agro_pcons   1302\n",
       "3  1878  pbi_agro_pcons   1237\n",
       "4  1879  pbi_agro_pcons   1330"
      ]
     },
     "execution_count": 10,
     "metadata": {},
     "output_type": "execute_result"
    }
   ],
   "source": [
    "drop = drop_colx\n",
    "to_long = wide_to_longx\n",
    "renombrar = rename_colsx\n",
    "nomenclar_paises = partial(normalize_countriesx, map=pais)\n",
    "replace = replace_valuex\n",
    "sort = sort_vals_ascx\n",
    "exportar = lambda df: exportar_definitivo(archivo=archivo, folder=folder, df=df, nuevo_nombre=None)\n",
    "\n",
    "\n",
    "\n",
    "pipeline = chain(\n",
    "    to_long(primary_keys),\n",
    "    sort_vals_ascx(primary_keys)\n",
    "    # replace(col='pov_type', curr_value='with_transfers', new_value='Con transferencias'),\n",
    "    # replace(col='pov_type', curr_value='without_transfers', new_value='Sin transferencias'),\n",
    "    # replace(col='pov_type', curr_value='difference', new_value='Diferencia')\n",
    "    # drop('region_name'), \n",
    "    # renombrar({'region_code': 'cod_area'}),\n",
    "    # nomenclar_paises(code_col='cod_area', new_col=\"desc_area\"), \n",
    "    #renombrar({'iso3': 'pais'}),\n",
    "   \n",
    ")\n",
    "\n",
    "_df = pipeline(df)\n",
    "\n",
    "diccionario_cambios[archivo] = lista_cambios.copy()\n",
    "\n",
    "_df.head()"
   ]
  },
  {
   "cell_type": "code",
   "execution_count": 11,
   "metadata": {},
   "outputs": [
    {
     "data": {
      "text/plain": [
       "{'AGROPE_g1': ['Long estricto: [anio, participacion_agro] -> [anio, valor, indicador]',\n",
       "  'Ordené las filas por las columnas: anio'],\n",
       " 'AGROPE_g2': ['Long estricto: [anio, pbi_agro_pcons] -> [anio, valor, indicador]',\n",
       "  'Ordené las filas por las columnas: anio']}"
      ]
     },
     "execution_count": 11,
     "metadata": {},
     "output_type": "execute_result"
    }
   ],
   "source": [
    "diccionario_cambios"
   ]
  },
  {
   "cell_type": "code",
   "execution_count": 12,
   "metadata": {},
   "outputs": [
    {
     "data": {
      "text/plain": [
       "('../output/AGROPE1/definitivos/AGROPE_g2.csv',\n",
       " '../output/AGROPE1/definitivos/AGROPE_g2_old.csv')"
      ]
     },
     "execution_count": 12,
     "metadata": {},
     "output_type": "execute_result"
    }
   ],
   "source": [
    "exportar(_df)"
   ]
  },
  {
   "cell_type": "markdown",
   "metadata": {},
   "source": [
    "AGROPE_g3.csv"
   ]
  },
  {
   "cell_type": "code",
   "execution_count": 13,
   "metadata": {},
   "outputs": [
    {
     "name": "stdout",
     "output_type": "stream",
     "text": [
      "anio cuenta\n"
     ]
    },
    {
     "data": {
      "text/html": [
       "<div>\n",
       "<style scoped>\n",
       "    .dataframe tbody tr th:only-of-type {\n",
       "        vertical-align: middle;\n",
       "    }\n",
       "\n",
       "    .dataframe tbody tr th {\n",
       "        vertical-align: top;\n",
       "    }\n",
       "\n",
       "    .dataframe thead th {\n",
       "        text-align: right;\n",
       "    }\n",
       "</style>\n",
       "<table border=\"1\" class=\"dataframe\">\n",
       "  <thead>\n",
       "    <tr style=\"text-align: right;\">\n",
       "      <th></th>\n",
       "      <th>anio</th>\n",
       "      <th>cuenta</th>\n",
       "      <th>participacion_pbi</th>\n",
       "    </tr>\n",
       "  </thead>\n",
       "  <tbody>\n",
       "    <tr>\n",
       "      <th>0</th>\n",
       "      <td>2004</td>\n",
       "      <td>Agricultura</td>\n",
       "      <td>0.05</td>\n",
       "    </tr>\n",
       "    <tr>\n",
       "      <th>1</th>\n",
       "      <td>2005</td>\n",
       "      <td>Agricultura</td>\n",
       "      <td>0.04</td>\n",
       "    </tr>\n",
       "    <tr>\n",
       "      <th>2</th>\n",
       "      <td>2006</td>\n",
       "      <td>Agricultura</td>\n",
       "      <td>0.04</td>\n",
       "    </tr>\n",
       "    <tr>\n",
       "      <th>3</th>\n",
       "      <td>2007</td>\n",
       "      <td>Agricultura</td>\n",
       "      <td>0.05</td>\n",
       "    </tr>\n",
       "    <tr>\n",
       "      <th>4</th>\n",
       "      <td>2008</td>\n",
       "      <td>Agricultura</td>\n",
       "      <td>0.05</td>\n",
       "    </tr>\n",
       "  </tbody>\n",
       "</table>\n",
       "</div>"
      ],
      "text/plain": [
       "   anio       cuenta  participacion_pbi\n",
       "0  2004  Agricultura               0.05\n",
       "1  2005  Agricultura               0.04\n",
       "2  2006  Agricultura               0.04\n",
       "3  2007  Agricultura               0.05\n",
       "4  2008  Agricultura               0.05"
      ]
     },
     "execution_count": 13,
     "metadata": {},
     "output_type": "execute_result"
    }
   ],
   "source": [
    "SUBTOP = 'AGROPE'\n",
    "entrega = 1\n",
    "folder = f\"../output/{SUBTOP}{entrega}\"\n",
    "grafico_n = 3\n",
    "\n",
    "archivo = f'{SUBTOP}_g{grafico_n}'\n",
    "df = pd.read_csv(f\"{folder}/definitivos/{archivo}.csv\")\n",
    "\n",
    "mapping = pd.read_csv(f'{folder}/internal_mapping.csv')\n",
    "mapping = {id:archivo for (_,_,archivo,id,_) in mapping.iloc}\n",
    "\n",
    "plantilla = pd.read_excel(f'../tmp/ArgenData-{SUBTOP}.xlsx', header=6)\n",
    "plantilla_slice = plantilla[plantilla.dataset_archivo == mapping[archivo]]\n",
    "\n",
    "primary_keys = plantilla_slice.variable_nombre[plantilla_slice.primary_key].unique().tolist()\n",
    "print(*primary_keys)\n",
    "df.head()"
   ]
  },
  {
   "cell_type": "code",
   "execution_count": 14,
   "metadata": {},
   "outputs": [
    {
     "data": {
      "text/html": [
       "<div>\n",
       "<style scoped>\n",
       "    .dataframe tbody tr th:only-of-type {\n",
       "        vertical-align: middle;\n",
       "    }\n",
       "\n",
       "    .dataframe tbody tr th {\n",
       "        vertical-align: top;\n",
       "    }\n",
       "\n",
       "    .dataframe thead th {\n",
       "        text-align: right;\n",
       "    }\n",
       "</style>\n",
       "<table border=\"1\" class=\"dataframe\">\n",
       "  <thead>\n",
       "    <tr style=\"text-align: right;\">\n",
       "      <th></th>\n",
       "      <th>anio</th>\n",
       "      <th>cuenta</th>\n",
       "      <th>indicador</th>\n",
       "      <th>valor</th>\n",
       "    </tr>\n",
       "  </thead>\n",
       "  <tbody>\n",
       "    <tr>\n",
       "      <th>0</th>\n",
       "      <td>2004</td>\n",
       "      <td>Agricultura</td>\n",
       "      <td>participacion_pbi</td>\n",
       "      <td>0.050</td>\n",
       "    </tr>\n",
       "    <tr>\n",
       "      <th>1</th>\n",
       "      <td>2004</td>\n",
       "      <td>Otros</td>\n",
       "      <td>participacion_pbi</td>\n",
       "      <td>0.010</td>\n",
       "    </tr>\n",
       "    <tr>\n",
       "      <th>2</th>\n",
       "      <td>2004</td>\n",
       "      <td>Pecuario</td>\n",
       "      <td>participacion_pbi</td>\n",
       "      <td>0.020</td>\n",
       "    </tr>\n",
       "    <tr>\n",
       "      <th>3</th>\n",
       "      <td>2004</td>\n",
       "      <td>Total</td>\n",
       "      <td>participacion_pbi</td>\n",
       "      <td>0.081</td>\n",
       "    </tr>\n",
       "    <tr>\n",
       "      <th>4</th>\n",
       "      <td>2005</td>\n",
       "      <td>Agricultura</td>\n",
       "      <td>participacion_pbi</td>\n",
       "      <td>0.040</td>\n",
       "    </tr>\n",
       "  </tbody>\n",
       "</table>\n",
       "</div>"
      ],
      "text/plain": [
       "   anio       cuenta          indicador  valor\n",
       "0  2004  Agricultura  participacion_pbi  0.050\n",
       "1  2004        Otros  participacion_pbi  0.010\n",
       "2  2004     Pecuario  participacion_pbi  0.020\n",
       "3  2004        Total  participacion_pbi  0.081\n",
       "4  2005  Agricultura  participacion_pbi  0.040"
      ]
     },
     "execution_count": 14,
     "metadata": {},
     "output_type": "execute_result"
    }
   ],
   "source": [
    "drop = drop_colx\n",
    "to_long = wide_to_longx\n",
    "renombrar = rename_colsx\n",
    "nomenclar_paises = partial(normalize_countriesx, map=pais)\n",
    "replace = replace_valuex\n",
    "sort = sort_vals_ascx\n",
    "exportar = lambda df: exportar_definitivo(archivo=archivo, folder=folder, df=df, nuevo_nombre=None)\n",
    "\n",
    "\n",
    "\n",
    "pipeline = chain(\n",
    "    to_long(primary_keys),\n",
    "    sort_vals_ascx(primary_keys)\n",
    "    # replace(col='pov_type', curr_value='with_transfers', new_value='Con transferencias'),\n",
    "    # replace(col='pov_type', curr_value='without_transfers', new_value='Sin transferencias'),\n",
    "    # replace(col='pov_type', curr_value='difference', new_value='Diferencia')\n",
    "    # drop('region_name'), \n",
    "    # renombrar({'region_code': 'cod_area'}),\n",
    "    # nomenclar_paises(code_col='cod_area', new_col=\"desc_area\"), \n",
    "    #renombrar({'iso3': 'pais'}),\n",
    "   \n",
    ")\n",
    "\n",
    "_df = pipeline(df)\n",
    "\n",
    "diccionario_cambios[archivo] = lista_cambios.copy()\n",
    "\n",
    "_df.head()"
   ]
  },
  {
   "cell_type": "code",
   "execution_count": 15,
   "metadata": {},
   "outputs": [
    {
     "data": {
      "text/plain": [
       "{'AGROPE_g1': ['Long estricto: [anio, participacion_agro] -> [anio, valor, indicador]',\n",
       "  'Ordené las filas por las columnas: anio'],\n",
       " 'AGROPE_g2': ['Long estricto: [anio, pbi_agro_pcons] -> [anio, valor, indicador]',\n",
       "  'Ordené las filas por las columnas: anio'],\n",
       " 'AGROPE_g3': ['Long estricto: [anio, cuenta, participacion_pbi] -> [anio, cuenta, valor, indicador]',\n",
       "  'Ordené las filas por las columnas: anio, cuenta']}"
      ]
     },
     "execution_count": 15,
     "metadata": {},
     "output_type": "execute_result"
    }
   ],
   "source": [
    "diccionario_cambios"
   ]
  },
  {
   "cell_type": "code",
   "execution_count": 16,
   "metadata": {},
   "outputs": [
    {
     "data": {
      "text/plain": [
       "('../output/AGROPE1/definitivos/AGROPE_g3.csv',\n",
       " '../output/AGROPE1/definitivos/AGROPE_g3_old.csv')"
      ]
     },
     "execution_count": 16,
     "metadata": {},
     "output_type": "execute_result"
    }
   ],
   "source": [
    "exportar(_df)"
   ]
  },
  {
   "cell_type": "markdown",
   "metadata": {},
   "source": [
    "AGROPE_g4.csv"
   ]
  },
  {
   "cell_type": "code",
   "execution_count": 17,
   "metadata": {},
   "outputs": [
    {
     "name": "stdout",
     "output_type": "stream",
     "text": [
      "iso3c anio\n"
     ]
    },
    {
     "data": {
      "text/html": [
       "<div>\n",
       "<style scoped>\n",
       "    .dataframe tbody tr th:only-of-type {\n",
       "        vertical-align: middle;\n",
       "    }\n",
       "\n",
       "    .dataframe tbody tr th {\n",
       "        vertical-align: top;\n",
       "    }\n",
       "\n",
       "    .dataframe thead th {\n",
       "        text-align: right;\n",
       "    }\n",
       "</style>\n",
       "<table border=\"1\" class=\"dataframe\">\n",
       "  <thead>\n",
       "    <tr style=\"text-align: right;\">\n",
       "      <th></th>\n",
       "      <th>iso3c</th>\n",
       "      <th>anio</th>\n",
       "      <th>va_agro_sobre_pbi</th>\n",
       "      <th>pais</th>\n",
       "    </tr>\n",
       "  </thead>\n",
       "  <tbody>\n",
       "    <tr>\n",
       "      <th>0</th>\n",
       "      <td>HIC</td>\n",
       "      <td>2022</td>\n",
       "      <td>NaN</td>\n",
       "      <td>Países de ingreso alto</td>\n",
       "    </tr>\n",
       "    <tr>\n",
       "      <th>1</th>\n",
       "      <td>HIC</td>\n",
       "      <td>2021</td>\n",
       "      <td>1.276669</td>\n",
       "      <td>Países de ingreso alto</td>\n",
       "    </tr>\n",
       "    <tr>\n",
       "      <th>2</th>\n",
       "      <td>HIC</td>\n",
       "      <td>2020</td>\n",
       "      <td>1.285265</td>\n",
       "      <td>Países de ingreso alto</td>\n",
       "    </tr>\n",
       "    <tr>\n",
       "      <th>3</th>\n",
       "      <td>HIC</td>\n",
       "      <td>2019</td>\n",
       "      <td>1.217419</td>\n",
       "      <td>Países de ingreso alto</td>\n",
       "    </tr>\n",
       "    <tr>\n",
       "      <th>4</th>\n",
       "      <td>HIC</td>\n",
       "      <td>2018</td>\n",
       "      <td>1.267516</td>\n",
       "      <td>Países de ingreso alto</td>\n",
       "    </tr>\n",
       "  </tbody>\n",
       "</table>\n",
       "</div>"
      ],
      "text/plain": [
       "  iso3c  anio  va_agro_sobre_pbi                    pais\n",
       "0   HIC  2022                NaN  Países de ingreso alto\n",
       "1   HIC  2021           1.276669  Países de ingreso alto\n",
       "2   HIC  2020           1.285265  Países de ingreso alto\n",
       "3   HIC  2019           1.217419  Países de ingreso alto\n",
       "4   HIC  2018           1.267516  Países de ingreso alto"
      ]
     },
     "execution_count": 17,
     "metadata": {},
     "output_type": "execute_result"
    }
   ],
   "source": [
    "SUBTOP = 'AGROPE'\n",
    "entrega = 1\n",
    "folder = f\"../output/{SUBTOP}{entrega}\"\n",
    "grafico_n = 4\n",
    "\n",
    "archivo = f'{SUBTOP}_g{grafico_n}'\n",
    "df = pd.read_csv(f\"{folder}/definitivos/{archivo}.csv\")\n",
    "\n",
    "mapping = pd.read_csv(f'{folder}/internal_mapping.csv')\n",
    "mapping = {id:archivo for (_,_,archivo,id,_) in mapping.iloc}\n",
    "\n",
    "plantilla = pd.read_excel(f'../tmp/ArgenData-{SUBTOP}.xlsx', header=6)\n",
    "plantilla_slice = plantilla[plantilla.dataset_archivo == mapping[archivo]]\n",
    "\n",
    "primary_keys = plantilla_slice.variable_nombre[plantilla_slice.primary_key].unique().tolist()\n",
    "print(*primary_keys)\n",
    "df.head()"
   ]
  },
  {
   "cell_type": "code",
   "execution_count": null,
   "metadata": {},
   "outputs": [
    {
     "data": {
      "text/html": [
       "<div>\n",
       "<style scoped>\n",
       "    .dataframe tbody tr th:only-of-type {\n",
       "        vertical-align: middle;\n",
       "    }\n",
       "\n",
       "    .dataframe tbody tr th {\n",
       "        vertical-align: top;\n",
       "    }\n",
       "\n",
       "    .dataframe thead th {\n",
       "        text-align: right;\n",
       "    }\n",
       "</style>\n",
       "<table border=\"1\" class=\"dataframe\">\n",
       "  <thead>\n",
       "    <tr style=\"text-align: right;\">\n",
       "      <th></th>\n",
       "      <th>anio</th>\n",
       "      <th>cuenta</th>\n",
       "      <th>indicador</th>\n",
       "      <th>valor</th>\n",
       "    </tr>\n",
       "  </thead>\n",
       "  <tbody>\n",
       "    <tr>\n",
       "      <th>0</th>\n",
       "      <td>2004</td>\n",
       "      <td>Agricultura</td>\n",
       "      <td>participacion_pbi</td>\n",
       "      <td>0.050</td>\n",
       "    </tr>\n",
       "    <tr>\n",
       "      <th>1</th>\n",
       "      <td>2004</td>\n",
       "      <td>Otros</td>\n",
       "      <td>participacion_pbi</td>\n",
       "      <td>0.010</td>\n",
       "    </tr>\n",
       "    <tr>\n",
       "      <th>2</th>\n",
       "      <td>2004</td>\n",
       "      <td>Pecuario</td>\n",
       "      <td>participacion_pbi</td>\n",
       "      <td>0.020</td>\n",
       "    </tr>\n",
       "    <tr>\n",
       "      <th>3</th>\n",
       "      <td>2004</td>\n",
       "      <td>Total</td>\n",
       "      <td>participacion_pbi</td>\n",
       "      <td>0.081</td>\n",
       "    </tr>\n",
       "    <tr>\n",
       "      <th>4</th>\n",
       "      <td>2005</td>\n",
       "      <td>Agricultura</td>\n",
       "      <td>participacion_pbi</td>\n",
       "      <td>0.040</td>\n",
       "    </tr>\n",
       "  </tbody>\n",
       "</table>\n",
       "</div>"
      ],
      "text/plain": [
       "   anio       cuenta          indicador  valor\n",
       "0  2004  Agricultura  participacion_pbi  0.050\n",
       "1  2004        Otros  participacion_pbi  0.010\n",
       "2  2004     Pecuario  participacion_pbi  0.020\n",
       "3  2004        Total  participacion_pbi  0.081\n",
       "4  2005  Agricultura  participacion_pbi  0.040"
      ]
     },
     "metadata": {},
     "output_type": "display_data"
    }
   ],
   "source": [
    "drop = drop_colx\n",
    "to_long = wide_to_longx\n",
    "renombrar = rename_colsx\n",
    "nomenclar_paises = partial(normalize_countriesx, map=pais)\n",
    "replace = replace_valuex\n",
    "sort = sort_vals_ascx\n",
    "exportar = lambda df: exportar_definitivo(archivo=archivo, folder=folder, df=df, nuevo_nombre=None)\n",
    "\n",
    "\n",
    "\n",
    "pipeline = chain(\n",
    "    nomenclar_paises(code_col='iso3c', new_col=None, desc_col=\"countryname\"),\n",
    "    # drop(col=\"countryname\"),\n",
    "    to_long(primary_keys + ['countryname']),\n",
    "    sort(primary_keys),\n",
    "    # renombrar({'iso3': 'cod_fundar','time':'anio'}),\n",
    "    # replace(col='pov_type', curr_value='with_transfers', new_value='Con transferencias'),\n",
    "    # replace(col='pov_type', curr_value='without_transfers', new_value='Sin transferencias'),\n",
    "    # replace(col='pov_type', curr_value='difference', new_value='Diferencia')\n",
    "    # drop('region_name'), \n",
    "    # renombrar({'time': 'anio'}),\n",
    "    # nomenclar_paises(code_col='cod_area', new_col=\"desc_area\"), \n",
    "    #renombrar({'iso3': 'pais'}),\n",
    "   \n",
    ")\n",
    "\n",
    "_df = pipeline(df)\n",
    "\n",
    "diccionario_cambios[archivo] = lista_cambios.copy()\n",
    "\n",
    "_df.head()"
   ]
  },
  {
   "cell_type": "code",
   "execution_count": null,
   "metadata": {},
   "outputs": [
    {
     "data": {
      "text/plain": [
       "{'AGROPE_g1': ['Long estricto: [anio, participacion_agro] -> [anio, valor, indicador]',\n",
       "  'Ordené las filas por las columnas: anio'],\n",
       " 'AGROPE_g2': ['Long estricto: [anio, pbi_agro_pcons] -> [anio, valor, indicador]',\n",
       "  'Ordené las filas por las columnas: anio'],\n",
       " 'AGROPE_g3': ['Long estricto: [anio, cuenta, participacion_pbi] -> [anio, cuenta, valor, indicador]',\n",
       "  'Ordené las filas por las columnas: anio, cuenta']}"
      ]
     },
     "metadata": {},
     "output_type": "display_data"
    }
   ],
   "source": [
    "diccionario_cambios"
   ]
  },
  {
   "cell_type": "code",
   "execution_count": null,
   "metadata": {},
   "outputs": [
    {
     "data": {
      "text/plain": [
       "('../output/AGROPE1/definitivos/AGROPE_g3.csv',\n",
       " '../output/AGROPE1/definitivos/AGROPE_g3_old.csv')"
      ]
     },
     "metadata": {},
     "output_type": "display_data"
    }
   ],
   "source": [
    "exportar(_df)"
   ]
  },
  {
   "cell_type": "code",
   "execution_count": null,
   "metadata": {},
   "outputs": [],
   "source": [
    "match_relocate(f'{folder}/definitivos', f'{folder}/old', '.*old.*')"
   ]
  },
  {
   "cell_type": "code",
   "execution_count": 5,
   "metadata": {},
   "outputs": [],
   "source": [
    "import json\n",
    "from datetime import datetime\n",
    "\n",
    "today = \n",
    "\n",
    "with open(f'../output/AGROPE1/definitivos/paso_a_definitivos_.json', 'w') as fp:\n",
    "    json.dump(diccionario_cambios, fp, indent=4, ensure_ascii=False)\n"
   ]
  }
 ],
 "metadata": {
  "kernelspec": {
   "display_name": "Python 3",
   "language": "python",
   "name": "python3"
  },
  "language_info": {
   "codemirror_mode": {
    "name": "ipython",
    "version": 3
   },
   "file_extension": ".py",
   "mimetype": "text/x-python",
   "name": "python",
   "nbconvert_exporter": "python",
   "pygments_lexer": "ipython3",
   "version": "3.10.12"
  }
 },
 "nbformat": 4,
 "nbformat_minor": 2
}
