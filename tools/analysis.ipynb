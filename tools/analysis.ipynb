{
 "cells": [
  {
   "cell_type": "code",
   "execution_count": 1,
   "metadata": {},
   "outputs": [],
   "source": [
    "from data_transformers import chain\n",
    "import pandas as pd\n",
    "from analysislib import (\n",
    "    get_geonomenclador, \n",
    "    exportar_definitivo,\n",
    "    exportar_transformador,\n",
    "    match_relocate,\n",
    ")\n",
    "\n",
    "from data_transformers.default_transformers import (\n",
    "    drop_col,\n",
    "    wide_to_long,\n",
    "    replace_value,\n",
    "    rename_cols,\n",
    "    sort_values,\n",
    "    cast_col\n",
    ")\n",
    "\n",
    "geonomenclador = get_geonomenclador()\n",
    "\n",
    "def compare_ids(a):\n",
    "    def _(b):\n",
    "        try:\n",
    "            a_before, a_after = a.split('_g')\n",
    "            b_before, b_after = b.split('_g')\n",
    "            return a_before == b_before and int(a_after) == int(b_after)\n",
    "        except Exception:\n",
    "            return False\n",
    "    return _"
   ]
  },
  {
   "cell_type": "code",
   "execution_count": 2,
   "metadata": {},
   "outputs": [],
   "source": [
    "from dotenv import load_dotenv\n",
    "from analysislib import gsheet_download_xlsx\n",
    "import os\n",
    "\n",
    "ARGENDATA_WORK_ID = os.getenv(\"ARGENDATA_WORK_ID\")\n",
    "gsheet_download_xlsx(id= ARGENDATA_WORK_ID, target=\"work.xlsx\")\n",
    "\n",
    "work = pd.read_excel('./work.xlsx', sheet_name='Suma de gráficos')\n",
    "tipo = work[['ID', 'Unnamed: 7', 'Bajada','Publicación']]"
   ]
  },
  {
   "cell_type": "code",
   "execution_count": 13,
   "metadata": {},
   "outputs": [
    {
     "name": "stdout",
     "output_type": "stream",
     "text": [
      "Va? = Sí\n",
      "Tipología target = 'Barras apiladas con selector'\n",
      "Bajada = 'Composición del Índice de Precios al Consumidor en Argentina, por rubro y región (2016)'\n",
      "Primary keys: \"region\", \"sector\"\n"
     ]
    },
    {
     "data": {
      "text/html": [
       "<div>\n",
       "<style scoped>\n",
       "    .dataframe tbody tr th:only-of-type {\n",
       "        vertical-align: middle;\n",
       "    }\n",
       "\n",
       "    .dataframe tbody tr th {\n",
       "        vertical-align: top;\n",
       "    }\n",
       "\n",
       "    .dataframe thead th {\n",
       "        text-align: right;\n",
       "    }\n",
       "</style>\n",
       "<table border=\"1\" class=\"dataframe\">\n",
       "  <thead>\n",
       "    <tr style=\"text-align: right;\">\n",
       "      <th></th>\n",
       "      <th>region</th>\n",
       "      <th>sector</th>\n",
       "      <th>valor</th>\n",
       "    </tr>\n",
       "  </thead>\n",
       "  <tbody>\n",
       "    <tr>\n",
       "      <th>0</th>\n",
       "      <td>Nacional</td>\n",
       "      <td>Alimentos y bebidas no alcoholicas</td>\n",
       "      <td>26.9</td>\n",
       "    </tr>\n",
       "    <tr>\n",
       "      <th>1</th>\n",
       "      <td>GBA</td>\n",
       "      <td>Alimentos y bebidas no alcoholicas</td>\n",
       "      <td>23.4</td>\n",
       "    </tr>\n",
       "    <tr>\n",
       "      <th>2</th>\n",
       "      <td>Pampeana</td>\n",
       "      <td>Alimentos y bebidas no alcoholicas</td>\n",
       "      <td>28.6</td>\n",
       "    </tr>\n",
       "    <tr>\n",
       "      <th>3</th>\n",
       "      <td>NEA</td>\n",
       "      <td>Alimentos y bebidas no alcoholicas</td>\n",
       "      <td>35.3</td>\n",
       "    </tr>\n",
       "    <tr>\n",
       "      <th>4</th>\n",
       "      <td>NOA</td>\n",
       "      <td>Alimentos y bebidas no alcoholicas</td>\n",
       "      <td>34.7</td>\n",
       "    </tr>\n",
       "  </tbody>\n",
       "</table>\n",
       "</div>"
      ],
      "text/plain": [
       "     region                              sector  valor\n",
       "0  Nacional  Alimentos y bebidas no alcoholicas   26.9\n",
       "1       GBA  Alimentos y bebidas no alcoholicas   23.4\n",
       "2  Pampeana  Alimentos y bebidas no alcoholicas   28.6\n",
       "3       NEA  Alimentos y bebidas no alcoholicas   35.3\n",
       "4       NOA  Alimentos y bebidas no alcoholicas   34.7"
      ]
     },
     "execution_count": 13,
     "metadata": {},
     "output_type": "execute_result"
    }
   ],
   "source": [
    "SUBTOP = 'PRECIO'\n",
    "entrega = 1\n",
    "folder = f'../output/{SUBTOP}{entrega}'\n",
    "grafico_n = 2\n",
    "\n",
    "archivo = f'{SUBTOP}_g{grafico_n:02d}'\n",
    "df = pd.read_csv(f'{folder}/definitivos/{archivo}.csv')\n",
    "\n",
    "exportar = (lambda df:\n",
    "                exportar_definitivo(archivo=archivo,\n",
    "                                    folder=folder,\n",
    "                                    df=df,\n",
    "                                    nuevo_nombre=None))\n",
    "\n",
    "_, tipologia_target, bajada, va = tipo[tipo.ID.map(compare_ids(archivo))].iloc[0]\n",
    "\n",
    "va = va.lower() != 'no va'\n",
    "\n",
    "print(f\"Va? = {'Sí' if va else 'No'}\")\n",
    "print(f\"Tipología target = '{tipologia_target}'\")\n",
    "print(f\"Bajada = '{bajada}'\")\n",
    "\n",
    "mapping = pd.read_csv(f'{folder}/internal_mapping.csv')\n",
    "mapping = {id:archivo for (_,_,archivo,id,_) in mapping.iloc}\n",
    "\n",
    "plantilla = pd.read_excel(f'../tmp/ArgenData-{SUBTOP}.xlsx', header=6)\n",
    "plantilla_slice = plantilla[plantilla.dataset_archivo == mapping[archivo]]\n",
    "\n",
    "primary_keys = plantilla_slice.variable_nombre[plantilla_slice.primary_key].unique().tolist()\n",
    "print('Primary keys:', ', '.join(f'\"{x}\"' for x in primary_keys))\n",
    "df.head()"
   ]
  },
  {
   "cell_type": "code",
   "execution_count": 20,
   "metadata": {},
   "outputs": [
    {
     "data": {
      "text/plain": [
       "array(['Nacional', 'GBA', 'Pampeana', 'NEA', 'NOA', 'Cuyo', 'Patagonia'],\n",
       "      dtype=object)"
      ]
     },
     "execution_count": 20,
     "metadata": {},
     "output_type": "execute_result"
    }
   ],
   "source": [
    "df.region.unique()"
   ]
  },
  {
   "cell_type": "code",
   "execution_count": 4,
   "metadata": {},
   "outputs": [
    {
     "data": {
      "text/html": [
       "<div>\n",
       "<style scoped>\n",
       "    .dataframe tbody tr th:only-of-type {\n",
       "        vertical-align: middle;\n",
       "    }\n",
       "\n",
       "    .dataframe tbody tr th {\n",
       "        vertical-align: top;\n",
       "    }\n",
       "\n",
       "    .dataframe thead th {\n",
       "        text-align: right;\n",
       "    }\n",
       "</style>\n",
       "<table border=\"1\" class=\"dataframe\">\n",
       "  <thead>\n",
       "    <tr style=\"text-align: right;\">\n",
       "      <th></th>\n",
       "      <th>indicador</th>\n",
       "      <th>valor</th>\n",
       "    </tr>\n",
       "  </thead>\n",
       "  <tbody>\n",
       "    <tr>\n",
       "      <th>0</th>\n",
       "      <td>Alimentos y bebidas no alcoholicas</td>\n",
       "      <td>26.93381</td>\n",
       "    </tr>\n",
       "    <tr>\n",
       "      <th>1</th>\n",
       "      <td>Bebidas alcoholicas y tabaco</td>\n",
       "      <td>3.49540</td>\n",
       "    </tr>\n",
       "    <tr>\n",
       "      <th>2</th>\n",
       "      <td>Prendas de vestir y calzado</td>\n",
       "      <td>9.90447</td>\n",
       "    </tr>\n",
       "    <tr>\n",
       "      <th>3</th>\n",
       "      <td>Vivienda agua electricidad gas y otros combust...</td>\n",
       "      <td>9.43438</td>\n",
       "    </tr>\n",
       "    <tr>\n",
       "      <th>4</th>\n",
       "      <td>Equipamiento y mantenimiento del hogar</td>\n",
       "      <td>6.36303</td>\n",
       "    </tr>\n",
       "  </tbody>\n",
       "</table>\n",
       "</div>"
      ],
      "text/plain": [
       "                                           indicador     valor\n",
       "0                 Alimentos y bebidas no alcoholicas  26.93381\n",
       "1                       Bebidas alcoholicas y tabaco   3.49540\n",
       "2                        Prendas de vestir y calzado   9.90447\n",
       "3  Vivienda agua electricidad gas y otros combust...   9.43438\n",
       "4             Equipamiento y mantenimiento del hogar   6.36303"
      ]
     },
     "execution_count": 4,
     "metadata": {},
     "output_type": "execute_result"
    }
   ],
   "source": [
    "pipeline = chain(\n",
    "    rename_cols({'sector': 'indicador'})\n",
    ")\n",
    "\n",
    "callstack, result = pipeline(df)\n",
    "\n",
    "result.head()"
   ]
  },
  {
   "cell_type": "code",
   "execution_count": 5,
   "metadata": {},
   "outputs": [
    {
     "data": {
      "text/plain": [
       "'PRECIO_g01_transformer.py'"
      ]
     },
     "execution_count": 5,
     "metadata": {},
     "output_type": "execute_result"
    }
   ],
   "source": [
    "exportar_transformador(archivo, pipeline, callstack)"
   ]
  },
  {
   "cell_type": "code",
   "execution_count": 12,
   "metadata": {},
   "outputs": [
    {
     "data": {
      "text/plain": [
       "('../output/PRECIO1/definitivos/PRECIO_g01.csv',\n",
       " '../output/PRECIO1/definitivos/PRECIO_g01_old.csv')"
      ]
     },
     "execution_count": 12,
     "metadata": {},
     "output_type": "execute_result"
    }
   ],
   "source": [
    "exportar(result)"
   ]
  }
 ],
 "metadata": {
  "kernelspec": {
   "display_name": "Python 3",
   "language": "python",
   "name": "python3"
  },
  "language_info": {
   "codemirror_mode": {
    "name": "ipython",
    "version": 3
   },
   "file_extension": ".py",
   "mimetype": "text/x-python",
   "name": "python",
   "nbconvert_exporter": "python",
   "pygments_lexer": "ipython3",
   "version": "3.10.12"
  }
 },
 "nbformat": 4,
 "nbformat_minor": 2
}
