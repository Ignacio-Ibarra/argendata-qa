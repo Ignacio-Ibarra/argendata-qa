{
 "cells": [
  {
   "cell_type": "code",
   "execution_count": 49,
   "metadata": {},
   "outputs": [],
   "source": [
    "from functools import partial, reduce\n",
    "from os import rename, makedirs\n",
    "import urllib.request\n",
    "import pandas as pd\n",
    "import os.path\n",
    "import shutil\n",
    "import json\n",
    "import csv\n",
    "import re\n",
    "\n",
    "def gsheet_download_csv(id: str, target: str, url_template=\"https://docs.google.com/spreadsheets/d/{id}/export?format=csv\"):\n",
    "    url = url_template.format(id=id)\n",
    "    return urllib.request.urlretrieve(url, target)\n",
    "\n",
    "def match_relocate(src, target, pattern, file_list=None):\n",
    "    files_to_move = file_list or os.listdir(src)\n",
    "\n",
    "    pattern = re.compile(pattern)\n",
    "\n",
    "    if not os.path.exists(target):\n",
    "        makedirs(target)\n",
    "\n",
    "    for filename in files_to_move:\n",
    "        if pattern.match(filename):\n",
    "            src_path = os.path.join(src, filename)\n",
    "            dest_path = os.path.join(target, filename)\n",
    "\n",
    "            shutil.move(src_path, dest_path)\n",
    "\n",
    "    print(f\"Files matching the pattern '{pattern}' moved to '{target}'.\")\n",
    "\n",
    "def compose2(f, g):\n",
    "    def composed(*a, **kw):\n",
    "        return f(g(*a, **kw))\n",
    "\n",
    "    return composed\n",
    "\n",
    "def compose(*fs):\n",
    "    return reduce(compose2, fs)\n",
    "\n",
    "def chain(*fs):\n",
    "    return compose(*reversed(fs))\n",
    "\n",
    "def exportar_definitivo(archivo: str, folder:str, df: pd.DataFrame, nuevo_nombre=None):\n",
    "    if not nuevo_nombre:\n",
    "        nuevo_nombre = f\"{folder}/definitivos/{archivo}_old.csv\"\n",
    "\n",
    "    original_file = f'{folder}/definitivos/{archivo}.csv'\n",
    "\n",
    "    rename(original_file, nuevo_nombre)\n",
    "\n",
    "    df.to_csv(original_file, \n",
    "              encoding='utf-8', \n",
    "              sep=',', \n",
    "              quoting=csv.QUOTE_ALL, \n",
    "              quotechar='\"', \n",
    "              lineterminator='\\n', \n",
    "              decimal='.', \n",
    "              index=False)\n",
    "    \n",
    "    return original_file, nuevo_nombre\n",
    "\n",
    "def drop_col(df: pd.DataFrame, col, axis=1):\n",
    "    return df.drop(col, axis=axis)\n",
    "\n",
    "def drop_colx(col, axis=1):\n",
    "    return lambda df: drop_col(df, col, axis=axis)\n",
    "\n",
    "def normalize_countries(df: pd.DataFrame, code_col:str, new_col:str, map: dict):\n",
    "    df[new_col] = df[code_col].apply(map.__getitem__)\n",
    "    return df\n",
    "\n",
    "def normalize_countriesx(code_col, new_col, map):\n",
    "    return lambda df: normalize_countries(df, code_col, new_col, map)\n",
    "\n",
    "def wide_to_long(df: pd.DataFrame, primary_keys, value_name='valor', var_name='indicador'):\n",
    "    return df.melt(id_vars=primary_keys, value_name=value_name, var_name=var_name)\n",
    "\n",
    "def wide_to_longx(primary_keys, value_name='valor', var_name='indicador'):\n",
    "    return lambda df: wide_to_long(df, primary_keys, value_name=value_name, var_name=var_name)\n",
    "\n",
    "def rename_cols(df: pd.DataFrame, map):\n",
    "    df = df.rename(columns=map)\n",
    "    return df\n",
    "\n",
    "def rename_colsx(map):\n",
    "    return lambda df: rename_cols(df, map)\n",
    "\n",
    "def replace_value(df:pd.DataFrame, col:str, curr_value:str, new_value:str):\n",
    "    df = df.replace({col: curr_value}, new_value)\n",
    "    return df\n",
    "\n",
    "def replace_valuex(col, curr_value, new_value):\n",
    "    return lambda df: replace_value(df=df, col=col, curr_value=curr_value, new_value=new_value)\n",
    "\n",
    "def sort_vals_asc(df:pd.DataFrame, prim_keys:list):\n",
    "    return df.sort_values(by=prim_keys).reset_index(drop=True)\n",
    "\n",
    "def sort_vals_ascx(prim_keys):\n",
    "    return lambda df: sort_vals_asc(df=df, prim_keys=prim_keys)"
   ]
  },
  {
   "cell_type": "code",
   "execution_count": 2,
   "metadata": {},
   "outputs": [],
   "source": [
    "gsheet_download_csv('1kK1Yu6gz5kEWe_i0vamiGttkXUH5H90e', 'nomenclador.csv')\n",
    "paises = pd.read_csv('./nomenclador.csv')\n",
    "pais = {k:v for k,v in paises[['iso3', 'iso3_desc_fundar']].iloc}\n",
    "# pais['SUD'] = pais['SDN']\n",
    "# pais['OHI'] = \"Otros países de ingreso alto\""
   ]
  },
  {
   "cell_type": "code",
   "execution_count": 51,
   "metadata": {},
   "outputs": [],
   "source": [
    "diccionario_cambios = {}"
   ]
  },
  {
   "cell_type": "markdown",
   "metadata": {},
   "source": [
    "COMEXT_g1.csv"
   ]
  },
  {
   "cell_type": "code",
   "execution_count": 50,
   "metadata": {},
   "outputs": [
    {
     "name": "stdout",
     "output_type": "stream",
     "text": [
      "anio\n"
     ]
    },
    {
     "data": {
      "text/html": [
       "<div>\n",
       "<style scoped>\n",
       "    .dataframe tbody tr th:only-of-type {\n",
       "        vertical-align: middle;\n",
       "    }\n",
       "\n",
       "    .dataframe tbody tr th {\n",
       "        vertical-align: top;\n",
       "    }\n",
       "\n",
       "    .dataframe thead th {\n",
       "        text-align: right;\n",
       "    }\n",
       "</style>\n",
       "<table border=\"1\" class=\"dataframe\">\n",
       "  <thead>\n",
       "    <tr style=\"text-align: right;\">\n",
       "      <th></th>\n",
       "      <th>anio</th>\n",
       "      <th>cantidades_exportacion_ferreres</th>\n",
       "      <th>cantidades_exportacion_indec</th>\n",
       "    </tr>\n",
       "  </thead>\n",
       "  <tbody>\n",
       "    <tr>\n",
       "      <th>0</th>\n",
       "      <td>1810</td>\n",
       "      <td>0.019382</td>\n",
       "      <td>NaN</td>\n",
       "    </tr>\n",
       "    <tr>\n",
       "      <th>1</th>\n",
       "      <td>1811</td>\n",
       "      <td>0.024362</td>\n",
       "      <td>NaN</td>\n",
       "    </tr>\n",
       "    <tr>\n",
       "      <th>2</th>\n",
       "      <td>1812</td>\n",
       "      <td>0.010767</td>\n",
       "      <td>NaN</td>\n",
       "    </tr>\n",
       "    <tr>\n",
       "      <th>3</th>\n",
       "      <td>1813</td>\n",
       "      <td>0.013730</td>\n",
       "      <td>NaN</td>\n",
       "    </tr>\n",
       "    <tr>\n",
       "      <th>4</th>\n",
       "      <td>1814</td>\n",
       "      <td>0.018324</td>\n",
       "      <td>NaN</td>\n",
       "    </tr>\n",
       "  </tbody>\n",
       "</table>\n",
       "</div>"
      ],
      "text/plain": [
       "   anio  cantidades_exportacion_ferreres  cantidades_exportacion_indec\n",
       "0  1810                         0.019382                           NaN\n",
       "1  1811                         0.024362                           NaN\n",
       "2  1812                         0.010767                           NaN\n",
       "3  1813                         0.013730                           NaN\n",
       "4  1814                         0.018324                           NaN"
      ]
     },
     "execution_count": 50,
     "metadata": {},
     "output_type": "execute_result"
    }
   ],
   "source": [
    "SUBTOP = 'COMEXT'\n",
    "entrega = 1\n",
    "folder = f\"../output/{SUBTOP}{entrega}\"\n",
    "grafico_n = 1\n",
    "\n",
    "archivo = f'{SUBTOP}_g{grafico_n}'\n",
    "df = pd.read_csv(f\"{folder}/definitivos/{archivo}.csv\")\n",
    "\n",
    "mapping = pd.read_csv(f'{folder}/internal_mapping.csv')\n",
    "mapping = {id:archivo for (_,_,archivo,id,_) in mapping.iloc}\n",
    "\n",
    "plantilla = pd.read_excel(f'../tmp/ArgenData-{SUBTOP}.xlsx', header=6)\n",
    "plantilla_slice = plantilla[plantilla.dataset_archivo == mapping[archivo]]\n",
    "\n",
    "primary_keys = plantilla_slice.variable_nombre[plantilla_slice.primary_key].unique().tolist()\n",
    "print(*primary_keys)\n",
    "df.head()"
   ]
  },
  {
   "cell_type": "code",
   "execution_count": 52,
   "metadata": {},
   "outputs": [
    {
     "data": {
      "text/html": [
       "<div>\n",
       "<style scoped>\n",
       "    .dataframe tbody tr th:only-of-type {\n",
       "        vertical-align: middle;\n",
       "    }\n",
       "\n",
       "    .dataframe tbody tr th {\n",
       "        vertical-align: top;\n",
       "    }\n",
       "\n",
       "    .dataframe thead th {\n",
       "        text-align: right;\n",
       "    }\n",
       "</style>\n",
       "<table border=\"1\" class=\"dataframe\">\n",
       "  <thead>\n",
       "    <tr style=\"text-align: right;\">\n",
       "      <th></th>\n",
       "      <th>anio</th>\n",
       "      <th>indicador</th>\n",
       "      <th>valor</th>\n",
       "    </tr>\n",
       "  </thead>\n",
       "  <tbody>\n",
       "    <tr>\n",
       "      <th>0</th>\n",
       "      <td>1810</td>\n",
       "      <td>cantidades_exportacion_ferreres</td>\n",
       "      <td>0.019382</td>\n",
       "    </tr>\n",
       "    <tr>\n",
       "      <th>1</th>\n",
       "      <td>1810</td>\n",
       "      <td>cantidades_exportacion_indec</td>\n",
       "      <td>NaN</td>\n",
       "    </tr>\n",
       "    <tr>\n",
       "      <th>2</th>\n",
       "      <td>1811</td>\n",
       "      <td>cantidades_exportacion_ferreres</td>\n",
       "      <td>0.024362</td>\n",
       "    </tr>\n",
       "    <tr>\n",
       "      <th>3</th>\n",
       "      <td>1811</td>\n",
       "      <td>cantidades_exportacion_indec</td>\n",
       "      <td>NaN</td>\n",
       "    </tr>\n",
       "    <tr>\n",
       "      <th>4</th>\n",
       "      <td>1812</td>\n",
       "      <td>cantidades_exportacion_indec</td>\n",
       "      <td>NaN</td>\n",
       "    </tr>\n",
       "  </tbody>\n",
       "</table>\n",
       "</div>"
      ],
      "text/plain": [
       "   anio                        indicador     valor\n",
       "0  1810  cantidades_exportacion_ferreres  0.019382\n",
       "1  1810     cantidades_exportacion_indec       NaN\n",
       "2  1811  cantidades_exportacion_ferreres  0.024362\n",
       "3  1811     cantidades_exportacion_indec       NaN\n",
       "4  1812     cantidades_exportacion_indec       NaN"
      ]
     },
     "execution_count": 52,
     "metadata": {},
     "output_type": "execute_result"
    }
   ],
   "source": [
    "drop = drop_colx\n",
    "to_long = wide_to_longx\n",
    "renombrar = rename_colsx\n",
    "nomenclar_paises = partial(normalize_countriesx, map=pais)\n",
    "replace = replace_valuex\n",
    "sort = sort_vals_ascx\n",
    "exportar = lambda df: exportar_definitivo(archivo=archivo, folder=folder, df=df, nuevo_nombre=None)\n",
    "\n",
    "\n",
    "pipeline = chain(\n",
    "    to_long(primary_keys),\n",
    "    sort_vals_ascx(primary_keys)\n",
    "    # replace(col='pov_type', curr_value='with_transfers', new_value='Con transferencias'),\n",
    "    # replace(col='pov_type', curr_value='without_transfers', new_value='Sin transferencias'),\n",
    "    # replace(col='pov_type', curr_value='difference', new_value='Diferencia')\n",
    "    # drop('region_name'), \n",
    "    # renombrar({'region_code': 'cod_area'}),\n",
    "    # nomenclar_paises(code_col='cod_area', new_col=\"desc_area\"), \n",
    "    #renombrar({'iso3': 'pais'}),\n",
    "   \n",
    ")\n",
    "\n",
    "_df = pipeline(df)\n",
    "\n",
    "\n",
    "diccionario_cambios[archivo] = [\n",
    "    \"Se pasó a long estricto\",\n",
    "    \"Se ordenó dataset ascendentemente por las primary_keys\"\n",
    "    ]\n",
    "\n",
    "_df.head()"
   ]
  },
  {
   "cell_type": "code",
   "execution_count": 53,
   "metadata": {},
   "outputs": [
    {
     "data": {
      "text/plain": [
       "('../output/COMEXT1/definitivos/COMEXT_g1.csv',\n",
       " '../output/COMEXT1/definitivos/COMEXT_g1_old.csv')"
      ]
     },
     "execution_count": 53,
     "metadata": {},
     "output_type": "execute_result"
    }
   ],
   "source": [
    "exportar(_df)"
   ]
  },
  {
   "cell_type": "markdown",
   "metadata": {},
   "source": [
    "COMEXT_g2.csv"
   ]
  },
  {
   "cell_type": "code",
   "execution_count": 54,
   "metadata": {},
   "outputs": [
    {
     "name": "stdout",
     "output_type": "stream",
     "text": [
      "time iso3\n"
     ]
    },
    {
     "data": {
      "text/html": [
       "<div>\n",
       "<style scoped>\n",
       "    .dataframe tbody tr th:only-of-type {\n",
       "        vertical-align: middle;\n",
       "    }\n",
       "\n",
       "    .dataframe tbody tr th {\n",
       "        vertical-align: top;\n",
       "    }\n",
       "\n",
       "    .dataframe thead th {\n",
       "        text-align: right;\n",
       "    }\n",
       "</style>\n",
       "<table border=\"1\" class=\"dataframe\">\n",
       "  <thead>\n",
       "    <tr style=\"text-align: right;\">\n",
       "      <th></th>\n",
       "      <th>time</th>\n",
       "      <th>iso3</th>\n",
       "      <th>countryname</th>\n",
       "      <th>exportsconstant_goods_v2</th>\n",
       "      <th>exportsconstant_servi_v2</th>\n",
       "    </tr>\n",
       "  </thead>\n",
       "  <tbody>\n",
       "    <tr>\n",
       "      <th>0</th>\n",
       "      <td>2000</td>\n",
       "      <td>ABW</td>\n",
       "      <td>Aruba</td>\n",
       "      <td>NaN</td>\n",
       "      <td>NaN</td>\n",
       "    </tr>\n",
       "    <tr>\n",
       "      <th>1</th>\n",
       "      <td>1966</td>\n",
       "      <td>ABW</td>\n",
       "      <td>Aruba</td>\n",
       "      <td>NaN</td>\n",
       "      <td>NaN</td>\n",
       "    </tr>\n",
       "    <tr>\n",
       "      <th>2</th>\n",
       "      <td>2005</td>\n",
       "      <td>ABW</td>\n",
       "      <td>Aruba</td>\n",
       "      <td>NaN</td>\n",
       "      <td>NaN</td>\n",
       "    </tr>\n",
       "    <tr>\n",
       "      <th>3</th>\n",
       "      <td>2020</td>\n",
       "      <td>ABW</td>\n",
       "      <td>Aruba</td>\n",
       "      <td>NaN</td>\n",
       "      <td>NaN</td>\n",
       "    </tr>\n",
       "    <tr>\n",
       "      <th>4</th>\n",
       "      <td>2012</td>\n",
       "      <td>ABW</td>\n",
       "      <td>Aruba</td>\n",
       "      <td>NaN</td>\n",
       "      <td>NaN</td>\n",
       "    </tr>\n",
       "  </tbody>\n",
       "</table>\n",
       "</div>"
      ],
      "text/plain": [
       "   time iso3 countryname  exportsconstant_goods_v2  exportsconstant_servi_v2\n",
       "0  2000  ABW       Aruba                       NaN                       NaN\n",
       "1  1966  ABW       Aruba                       NaN                       NaN\n",
       "2  2005  ABW       Aruba                       NaN                       NaN\n",
       "3  2020  ABW       Aruba                       NaN                       NaN\n",
       "4  2012  ABW       Aruba                       NaN                       NaN"
      ]
     },
     "execution_count": 54,
     "metadata": {},
     "output_type": "execute_result"
    }
   ],
   "source": [
    "SUBTOP = 'COMEXT'\n",
    "entrega = 1\n",
    "folder = f\"../output/{SUBTOP}{entrega}\"\n",
    "grafico_n = 2\n",
    "\n",
    "archivo = f'{SUBTOP}_g{grafico_n}'\n",
    "df = pd.read_csv(f\"{folder}/definitivos/{archivo}.csv\")\n",
    "\n",
    "mapping = pd.read_csv(f'{folder}/internal_mapping.csv')\n",
    "mapping = {id:archivo for (_,_,archivo,id,_) in mapping.iloc}\n",
    "\n",
    "plantilla = pd.read_excel(f'../tmp/ArgenData-{SUBTOP}.xlsx', header=6)\n",
    "plantilla_slice = plantilla[plantilla.dataset_archivo == mapping[archivo]]\n",
    "\n",
    "primary_keys = plantilla_slice.variable_nombre[plantilla_slice.primary_key].unique().tolist()\n",
    "print(*primary_keys)\n",
    "df.head()"
   ]
  },
  {
   "cell_type": "code",
   "execution_count": 55,
   "metadata": {},
   "outputs": [
    {
     "data": {
      "text/plain": [
       "time                        0.0\n",
       "iso3                        0.0\n",
       "countryname                 0.0\n",
       "exportsconstant_goods_v2    1.0\n",
       "exportsconstant_servi_v2    1.0\n",
       "dtype: float64"
      ]
     },
     "execution_count": 55,
     "metadata": {},
     "output_type": "execute_result"
    }
   ],
   "source": [
    "df[(df.iso3==\"INX\")].isna().sum()/len(df[(df.iso3==\"INX\")])"
   ]
  },
  {
   "cell_type": "code",
   "execution_count": 56,
   "metadata": {},
   "outputs": [],
   "source": [
    "df = df[~(df.iso3==\"INX\")].reset_index(drop=True)"
   ]
  },
  {
   "cell_type": "code",
   "execution_count": 57,
   "metadata": {},
   "outputs": [
    {
     "data": {
      "text/html": [
       "<div>\n",
       "<style scoped>\n",
       "    .dataframe tbody tr th:only-of-type {\n",
       "        vertical-align: middle;\n",
       "    }\n",
       "\n",
       "    .dataframe tbody tr th {\n",
       "        vertical-align: top;\n",
       "    }\n",
       "\n",
       "    .dataframe thead th {\n",
       "        text-align: right;\n",
       "    }\n",
       "</style>\n",
       "<table border=\"1\" class=\"dataframe\">\n",
       "  <thead>\n",
       "    <tr style=\"text-align: right;\">\n",
       "      <th></th>\n",
       "      <th>anio</th>\n",
       "      <th>cod_area</th>\n",
       "      <th>indicador</th>\n",
       "      <th>valor</th>\n",
       "      <th>desc_area</th>\n",
       "    </tr>\n",
       "  </thead>\n",
       "  <tbody>\n",
       "    <tr>\n",
       "      <th>0</th>\n",
       "      <td>1960</td>\n",
       "      <td>ABW</td>\n",
       "      <td>exportsconstant_goods_v2</td>\n",
       "      <td>NaN</td>\n",
       "      <td>Aruba</td>\n",
       "    </tr>\n",
       "    <tr>\n",
       "      <th>1</th>\n",
       "      <td>1960</td>\n",
       "      <td>ABW</td>\n",
       "      <td>exportsconstant_servi_v2</td>\n",
       "      <td>NaN</td>\n",
       "      <td>Aruba</td>\n",
       "    </tr>\n",
       "    <tr>\n",
       "      <th>2</th>\n",
       "      <td>1960</td>\n",
       "      <td>AFE</td>\n",
       "      <td>exportsconstant_goods_v2</td>\n",
       "      <td>NaN</td>\n",
       "      <td>África Oriental y del Sur</td>\n",
       "    </tr>\n",
       "    <tr>\n",
       "      <th>3</th>\n",
       "      <td>1960</td>\n",
       "      <td>AFE</td>\n",
       "      <td>exportsconstant_servi_v2</td>\n",
       "      <td>NaN</td>\n",
       "      <td>África Oriental y del Sur</td>\n",
       "    </tr>\n",
       "    <tr>\n",
       "      <th>4</th>\n",
       "      <td>1960</td>\n",
       "      <td>AFG</td>\n",
       "      <td>exportsconstant_goods_v2</td>\n",
       "      <td>NaN</td>\n",
       "      <td>Afganistán</td>\n",
       "    </tr>\n",
       "  </tbody>\n",
       "</table>\n",
       "</div>"
      ],
      "text/plain": [
       "   anio cod_area                 indicador  valor                  desc_area\n",
       "0  1960      ABW  exportsconstant_goods_v2    NaN                      Aruba\n",
       "1  1960      ABW  exportsconstant_servi_v2    NaN                      Aruba\n",
       "2  1960      AFE  exportsconstant_goods_v2    NaN  África Oriental y del Sur\n",
       "3  1960      AFE  exportsconstant_servi_v2    NaN  África Oriental y del Sur\n",
       "4  1960      AFG  exportsconstant_goods_v2    NaN                 Afganistán"
      ]
     },
     "execution_count": 57,
     "metadata": {},
     "output_type": "execute_result"
    }
   ],
   "source": [
    "drop = drop_colx\n",
    "to_long = wide_to_longx\n",
    "renombrar = rename_colsx\n",
    "nomenclar_paises = partial(normalize_countriesx, map=pais)\n",
    "replace = replace_valuex\n",
    "sort = sort_vals_ascx\n",
    "exportar = lambda df: exportar_definitivo(archivo=archivo, folder=folder, df=df, nuevo_nombre=None)\n",
    "\n",
    "\n",
    "\n",
    "pipeline = chain(\n",
    "    drop(col=\"countryname\"),\n",
    "    to_long(primary_keys),\n",
    "    sort(primary_keys),\n",
    "    renombrar({'iso3': 'cod_area'}),\n",
    "    nomenclar_paises(code_col='cod_area', new_col=\"desc_area\"),\n",
    "    # replace(col='pov_type', curr_value='with_transfers', new_value='Con transferencias'),\n",
    "    # replace(col='pov_type', curr_value='without_transfers', new_value='Sin transferencias'),\n",
    "    # replace(col='pov_type', curr_value='difference', new_value='Diferencia')\n",
    "    # drop('region_name'), \n",
    "    renombrar({'time': 'anio'}),\n",
    "    # nomenclar_paises(code_col='cod_area', new_col=\"desc_area\"), \n",
    "    #renombrar({'iso3': 'pais'}),\n",
    "   \n",
    ")\n",
    "\n",
    "diccionario_cambios[archivo] = [\n",
    "    \"Se sacan las filas donde iso3 == INX por no poseer datos y no estar en la lista de nomencladores\"\n",
    "    \"Se saca la variable 'countryname'\",\n",
    "    \"Se pasó a long estricto\",\n",
    "    \"Se utilizó nomenclador de paíse/regiones y se creó la columna 'desc_area'\"\n",
    "    ]\n",
    "\n",
    "_df = pipeline(df)\n",
    "_df.head()"
   ]
  },
  {
   "cell_type": "code",
   "execution_count": 58,
   "metadata": {},
   "outputs": [
    {
     "data": {
      "text/plain": [
       "('../output/COMEXT1/definitivos/COMEXT_g2.csv',\n",
       " '../output/COMEXT1/definitivos/COMEXT_g2_old.csv')"
      ]
     },
     "execution_count": 58,
     "metadata": {},
     "output_type": "execute_result"
    }
   ],
   "source": [
    "exportar(_df)"
   ]
  },
  {
   "cell_type": "code",
   "execution_count": 121,
   "metadata": {},
   "outputs": [
    {
     "name": "stdout",
     "output_type": "stream",
     "text": [
      "Files matching the pattern 're.compile('.*old.*')' moved to '../output/POBREZ1/old'.\n"
     ]
    }
   ],
   "source": [
    "match_relocate(f'{folder}/definitivos', f'{folder}/old', '.*old.*')"
   ]
  },
  {
   "cell_type": "code",
   "execution_count": 128,
   "metadata": {},
   "outputs": [],
   "source": [
    "def f(x, resultado: list) -> int:\n",
    "    resultado.append( f'{x} -> {x+1}' )\n",
    "    return x+1\n",
    "\n",
    "def g(y, resultado: list) -> int:\n",
    "    r = y*2\n",
    "    resultado.append( f'{y}*2 = {r}' )\n",
    "    return r"
   ]
  },
  {
   "cell_type": "code",
   "execution_count": 131,
   "metadata": {},
   "outputs": [
    {
     "data": {
      "text/plain": [
       "8"
      ]
     },
     "execution_count": 131,
     "metadata": {},
     "output_type": "execute_result"
    }
   ],
   "source": [
    "a = []\n",
    "\n",
    "f(3, a)\n",
    "g(4, a)"
   ]
  },
  {
   "cell_type": "code",
   "execution_count": 132,
   "metadata": {},
   "outputs": [
    {
     "data": {
      "text/plain": [
       "['3 -> 4', '4*2 = 8']"
      ]
     },
     "execution_count": 132,
     "metadata": {},
     "output_type": "execute_result"
    }
   ],
   "source": [
    "a"
   ]
  },
  {
   "cell_type": "code",
   "execution_count": null,
   "metadata": {},
   "outputs": [],
   "source": []
  }
 ],
 "metadata": {
  "kernelspec": {
   "display_name": "Python 3",
   "language": "python",
   "name": "python3"
  },
  "language_info": {
   "codemirror_mode": {
    "name": "ipython",
    "version": 3
   },
   "file_extension": ".py",
   "mimetype": "text/x-python",
   "name": "python",
   "nbconvert_exporter": "python",
   "pygments_lexer": "ipython3",
   "version": "3.10.12"
  }
 },
 "nbformat": 4,
 "nbformat_minor": 2
}
